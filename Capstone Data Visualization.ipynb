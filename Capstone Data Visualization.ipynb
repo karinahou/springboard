{
 "cells": [
  {
   "cell_type": "markdown",
   "metadata": {},
   "source": [
    "Can you count something interesting? \n",
    "- which months were the most or the least available (can make bar graph & scatter plot)\n",
    "- which neighborhoods were the most popular\n",
    "- which of those neighborhoods recieved a higher overall rating by \n",
    "\n",
    "Can you find trends (e.g. high, low, increasing, decreasing, anomalies)?\n",
    "\n",
    "Can you make a bar plot or a histogram?\n",
    "\n",
    "Can you compare two related quantities?\n",
    "\n",
    "Can you make a scatterplot?\n",
    "\n",
    "Can you make a time-series plot?"
   ]
  },
  {
   "cell_type": "code",
   "execution_count": 61,
   "metadata": {},
   "outputs": [],
   "source": [
    "import pandas as pd\n",
    "import matplotlib.pyplot as plt\n",
    "import numpy as np\n",
    "import seaborn as sns"
   ]
  },
  {
   "cell_type": "code",
   "execution_count": 62,
   "metadata": {},
   "outputs": [],
   "source": [
    "seattle = pd.read_csv(\"/Users/karinahou/Desktop/Data Science Bootcamp/Seattle DF Cleaned.csv\")\n",
    "calendar = pd.read_csv(\"/Users/karinahou/Desktop/Data Science Bootcamp/Calendar Cleaned.csv\")"
   ]
  },
  {
   "cell_type": "code",
   "execution_count": 63,
   "metadata": {},
   "outputs": [
    {
     "data": {
      "text/plain": [
       "431     Adams\n",
       "5097    Adams\n",
       "3084    Adams\n",
       "688     Adams\n",
       "1595    Adams\n",
       "Name: neighbourhood, dtype: object"
      ]
     },
     "execution_count": 63,
     "metadata": {},
     "output_type": "execute_result"
    }
   ],
   "source": [
    "#looking for most popular neighborhoods\n",
    "sorted_neigh = seattle[\"neighbourhood\"].sort_values()\n",
    "sorted_neigh.head()"
   ]
  },
  {
   "cell_type": "code",
   "execution_count": 64,
   "metadata": {},
   "outputs": [],
   "source": [
    "neigh_counted = sorted_neigh.value_counts()\n",
    "\n",
    "neigh_counted = neigh_counted.rename_axis(\"neighbourhoods\").reset_index(name= \"count\")\n",
    "neigh_counted_top10 = neigh_counted.head(10)"
   ]
  },
  {
   "cell_type": "markdown",
   "metadata": {},
   "source": [
    "Most popular neighborhood year-round was downtown exclusing \"other\""
   ]
  },
  {
   "cell_type": "code",
   "execution_count": 65,
   "metadata": {},
   "outputs": [
    {
     "data": {
      "text/plain": [
       "Text(0.5, 1.0, '10 Most Popular Neighborhoods by Bookings')"
      ]
     },
     "execution_count": 65,
     "metadata": {},
     "output_type": "execute_result"
    },
    {
     "data": {
      "image/png": "[encoded data removed]",
      "text/plain": [
       "<Figure size 1800x720 with 1 Axes>"
      ]
     },
     "metadata": {
      "needs_background": "light"
     },
     "output_type": "display_data"
    }
   ],
   "source": [
    "x = list(neigh_counted_top10[\"neighbourhoods\"])\n",
    "y = list(neigh_counted_top10[\"count\"])\n",
    "plt.figure(figsize=(25, 10)) \n",
    "plt.bar(x,y)\n",
    "plt.ylabel(\"Number of Bookings\")\n",
    "plt.title(\"10 Most Popular Neighborhoods by Bookings\")\n",
    "\n",
    "#how to just take the first couple?"
   ]
  },
  {
   "cell_type": "code",
   "execution_count": 66,
   "metadata": {},
   "outputs": [],
   "source": [
    "#looking for most popular month of the year"
   ]
  },
  {
   "cell_type": "code",
   "execution_count": 67,
   "metadata": {},
   "outputs": [
    {
     "data": {
      "text/html": [
       "<div>\n",
       "<style scoped>\n",
       "    .dataframe tbody tr th:only-of-type {\n",
       "        vertical-align: middle;\n",
       "    }\n",
       "\n",
       "    .dataframe tbody tr th {\n",
       "        vertical-align: top;\n",
       "    }\n",
       "\n",
       "    .dataframe thead th {\n",
       "        text-align: right;\n",
       "    }\n",
       "</style>\n",
       "<table border=\"1\" class=\"dataframe\">\n",
       "  <thead>\n",
       "    <tr style=\"text-align: right;\">\n",
       "      <th></th>\n",
       "      <th>Unnamed: 0</th>\n",
       "      <th>listing_id</th>\n",
       "      <th>date</th>\n",
       "      <th>available</th>\n",
       "      <th>price</th>\n",
       "      <th>month</th>\n",
       "    </tr>\n",
       "  </thead>\n",
       "  <tbody>\n",
       "    <tr>\n",
       "      <th>0</th>\n",
       "      <td>0</td>\n",
       "      <td>241032</td>\n",
       "      <td>2016-01-04</td>\n",
       "      <td>t</td>\n",
       "      <td>$85.00</td>\n",
       "      <td>January</td>\n",
       "    </tr>\n",
       "    <tr>\n",
       "      <th>1</th>\n",
       "      <td>1</td>\n",
       "      <td>241032</td>\n",
       "      <td>2016-01-05</td>\n",
       "      <td>t</td>\n",
       "      <td>$85.00</td>\n",
       "      <td>January</td>\n",
       "    </tr>\n",
       "    <tr>\n",
       "      <th>9</th>\n",
       "      <td>9</td>\n",
       "      <td>241032</td>\n",
       "      <td>2016-01-13</td>\n",
       "      <td>t</td>\n",
       "      <td>$85.00</td>\n",
       "      <td>January</td>\n",
       "    </tr>\n",
       "    <tr>\n",
       "      <th>10</th>\n",
       "      <td>10</td>\n",
       "      <td>241032</td>\n",
       "      <td>2016-01-14</td>\n",
       "      <td>t</td>\n",
       "      <td>$85.00</td>\n",
       "      <td>January</td>\n",
       "    </tr>\n",
       "    <tr>\n",
       "      <th>14</th>\n",
       "      <td>14</td>\n",
       "      <td>241032</td>\n",
       "      <td>2016-01-18</td>\n",
       "      <td>t</td>\n",
       "      <td>$85.00</td>\n",
       "      <td>January</td>\n",
       "    </tr>\n",
       "  </tbody>\n",
       "</table>\n",
       "</div>"
      ],
      "text/plain": [
       "    Unnamed: 0  listing_id        date available   price    month\n",
       "0            0      241032  2016-01-04         t  $85.00  January\n",
       "1            1      241032  2016-01-05         t  $85.00  January\n",
       "9            9      241032  2016-01-13         t  $85.00  January\n",
       "10          10      241032  2016-01-14         t  $85.00  January\n",
       "14          14      241032  2016-01-18         t  $85.00  January"
      ]
     },
     "execution_count": 67,
     "metadata": {},
     "output_type": "execute_result"
    }
   ],
   "source": [
    "calendar_unavail = calendar[calendar[\"available\"] == \"f\"].index\n",
    "calendar_avail = calendar.drop(calendar_unavail)\n",
    "calendar_avail.head()"
   ]
  },
  {
   "cell_type": "code",
   "execution_count": 68,
   "metadata": {},
   "outputs": [
    {
     "data": {
      "text/plain": [
       "Unnamed: 0     int64\n",
       "listing_id     int64\n",
       "date          object\n",
       "available     object\n",
       "price         object\n",
       "month         object\n",
       "dtype: object"
      ]
     },
     "execution_count": 68,
     "metadata": {},
     "output_type": "execute_result"
    }
   ],
   "source": [
    "calendar_avail.dtypes"
   ]
  },
  {
   "cell_type": "code",
   "execution_count": 69,
   "metadata": {},
   "outputs": [],
   "source": [
    "#trying to make a date time series plot :(\n",
    "#calendar_avail[\"date\"] = pd.to_datetime(calendar_avail[\"date\"])\n",
    "#calendar_avail.dtypes"
   ]
  },
  {
   "cell_type": "code",
   "execution_count": 70,
   "metadata": {},
   "outputs": [
    {
     "data": {
      "text/plain": [
       "'\\n# Draw Plot\\nplt.figure(figsize=(16,10), dpi= 80)\\nplt.plot(\\'month\\', \\'date\\', data = calendar_avail, color=\\'tab:red\\')\\n\\n# Decoration\\nplt.ylim(50, 750)\\nxtick_location = calendar_avail.index.tolist()[::12]\\nxtick_labels = [x[-4:] for x in calendar_avail.date.tolist()[::12]]\\nplt.xticks(ticks=xtick_location, labels=xtick_labels, rotation=0, fontsize=12, \\n           horizontalalignment=\\'center\\', alpha=.7)\\nplt.yticks(fontsize=12, alpha=.7)\\nplt.title(\"Air Passengers Traffic (1949 - 1969)\", fontsize=22)\\nplt.grid(axis=\\'both\\', alpha=.3)\\n'"
      ]
     },
     "execution_count": 70,
     "metadata": {},
     "output_type": "execute_result"
    }
   ],
   "source": [
    "'''\n",
    "# Draw Plot\n",
    "plt.figure(figsize=(16,10), dpi= 80)\n",
    "plt.plot('month', 'date', data = calendar_avail, color='tab:red')\n",
    "\n",
    "# Decoration\n",
    "plt.ylim(50, 750)\n",
    "xtick_location = calendar_avail.index.tolist()[::12]\n",
    "xtick_labels = [x[-4:] for x in calendar_avail.date.tolist()[::12]]\n",
    "plt.xticks(ticks=xtick_location, labels=xtick_labels, rotation=0, fontsize=12, \n",
    "           horizontalalignment='center', alpha=.7)\n",
    "plt.yticks(fontsize=12, alpha=.7)\n",
    "plt.title(\"Air Passengers Traffic (1949 - 1969)\", fontsize=22)\n",
    "plt.grid(axis='both', alpha=.3)\n",
    "'''"
   ]
  },
  {
   "cell_type": "code",
   "execution_count": null,
   "metadata": {},
   "outputs": [],
   "source": []
  },
  {
   "cell_type": "code",
   "execution_count": 71,
   "metadata": {},
   "outputs": [
    {
     "data": {
      "text/plain": [
       "919160     April\n",
       "1237078    April\n",
       "814768     April\n",
       "814769     April\n",
       "814770     April\n",
       "Name: month, dtype: object"
      ]
     },
     "execution_count": 71,
     "metadata": {},
     "output_type": "execute_result"
    }
   ],
   "source": [
    "sorted_month_col = calendar_avail[\"month\"].sort_values()\n",
    "sorted_month_col.head()"
   ]
  },
  {
   "cell_type": "code",
   "execution_count": 72,
   "metadata": {},
   "outputs": [
    {
     "data": {
      "text/html": [
       "<div>\n",
       "<style scoped>\n",
       "    .dataframe tbody tr th:only-of-type {\n",
       "        vertical-align: middle;\n",
       "    }\n",
       "\n",
       "    .dataframe tbody tr th {\n",
       "        vertical-align: top;\n",
       "    }\n",
       "\n",
       "    .dataframe thead th {\n",
       "        text-align: right;\n",
       "    }\n",
       "</style>\n",
       "<table border=\"1\" class=\"dataframe\">\n",
       "  <thead>\n",
       "    <tr style=\"text-align: right;\">\n",
       "      <th></th>\n",
       "      <th>month</th>\n",
       "      <th>count</th>\n",
       "    </tr>\n",
       "  </thead>\n",
       "  <tbody>\n",
       "    <tr>\n",
       "      <th>0</th>\n",
       "      <td>December</td>\n",
       "      <td>87061</td>\n",
       "    </tr>\n",
       "    <tr>\n",
       "      <th>1</th>\n",
       "      <td>March</td>\n",
       "      <td>83938</td>\n",
       "    </tr>\n",
       "    <tr>\n",
       "      <th>2</th>\n",
       "      <td>October</td>\n",
       "      <td>82438</td>\n",
       "    </tr>\n",
       "    <tr>\n",
       "      <th>3</th>\n",
       "      <td>November</td>\n",
       "      <td>81780</td>\n",
       "    </tr>\n",
       "    <tr>\n",
       "      <th>4</th>\n",
       "      <td>May</td>\n",
       "      <td>79971</td>\n",
       "    </tr>\n",
       "    <tr>\n",
       "      <th>5</th>\n",
       "      <td>September</td>\n",
       "      <td>77246</td>\n",
       "    </tr>\n",
       "    <tr>\n",
       "      <th>6</th>\n",
       "      <td>June</td>\n",
       "      <td>77244</td>\n",
       "    </tr>\n",
       "    <tr>\n",
       "      <th>7</th>\n",
       "      <td>August</td>\n",
       "      <td>76347</td>\n",
       "    </tr>\n",
       "    <tr>\n",
       "      <th>8</th>\n",
       "      <td>April</td>\n",
       "      <td>76037</td>\n",
       "    </tr>\n",
       "    <tr>\n",
       "      <th>9</th>\n",
       "      <td>July</td>\n",
       "      <td>74222</td>\n",
       "    </tr>\n",
       "    <tr>\n",
       "      <th>10</th>\n",
       "      <td>February</td>\n",
       "      <td>73321</td>\n",
       "    </tr>\n",
       "    <tr>\n",
       "      <th>11</th>\n",
       "      <td>January</td>\n",
       "      <td>64937</td>\n",
       "    </tr>\n",
       "  </tbody>\n",
       "</table>\n",
       "</div>"
      ],
      "text/plain": [
       "        month  count\n",
       "0    December  87061\n",
       "1       March  83938\n",
       "2     October  82438\n",
       "3    November  81780\n",
       "4         May  79971\n",
       "5   September  77246\n",
       "6        June  77244\n",
       "7      August  76347\n",
       "8       April  76037\n",
       "9        July  74222\n",
       "10   February  73321\n",
       "11    January  64937"
      ]
     },
     "execution_count": 72,
     "metadata": {},
     "output_type": "execute_result"
    }
   ],
   "source": [
    "month_counted = sorted_month_col.value_counts()\n",
    "\n",
    "month_counted = month_counted.rename_axis(\"month\").reset_index(name= \"count\")\n",
    "month_counted"
   ]
  },
  {
   "cell_type": "code",
   "execution_count": 73,
   "metadata": {},
   "outputs": [
    {
     "data": {
      "text/plain": [
       "Text(0, 0.5, 'Number of Bookings')"
      ]
     },
     "execution_count": 73,
     "metadata": {},
     "output_type": "execute_result"
    },
    {
     "data": {
      "image/png": "[encoded data removed]",
      "text/plain": [
       "<Figure size 864x360 with 1 Axes>"
      ]
     },
     "metadata": {
      "needs_background": "light"
     },
     "output_type": "display_data"
    }
   ],
   "source": [
    "x = list(month_counted[\"month\"])\n",
    "y = list(month_counted[\"count\"])\n",
    "plt.figure(figsize=(12, 5)) \n",
    "plt.bar(x,y)\n",
    "plt.title(\"Number of Bookings per Month (Bar)\")\n",
    "plt.ylabel(\"Number of Bookings\")\n",
    "\n",
    "#could divide"
   ]
  },
  {
   "cell_type": "code",
   "execution_count": 74,
   "metadata": {},
   "outputs": [],
   "source": [
    "#linechart with labels of values\n",
    "\n",
    "#boxplot: day of the month number of bookings, distribution of box plot\n",
    "\n",
    "#to plot the differences between the month # of bookings"
   ]
  },
  {
   "cell_type": "code",
   "execution_count": null,
   "metadata": {},
   "outputs": [],
   "source": []
  },
  {
   "cell_type": "markdown",
   "metadata": {},
   "source": [
    "Most popular month was December"
   ]
  },
  {
   "cell_type": "code",
   "execution_count": 85,
   "metadata": {},
   "outputs": [
    {
     "data": {
      "image/png": "[encoded data removed]",
      "text/plain": [
       "<Figure size 720x576 with 1 Axes>"
      ]
     },
     "metadata": {
      "needs_background": "light"
     },
     "output_type": "display_data"
    }
   ],
   "source": [
    "#plot as line chart\n",
    "\n",
    "plt.figure(figsize=(10, 8)) \n",
    "plt.plot(x,y, marker = \".\")\n",
    "plt.ylabel(\"Number of Bookings\")\n",
    "plt.title(\"Number of Bookings per Month (Line)\")\n",
    "\n",
    "for a,b in zip(x,y):\n",
    "\n",
    "    label = \"{:.0f}\".format(b)\n",
    "\n",
    "    plt.annotate(label, # this is the text\n",
    "                 (a,b), # this is the point to label\n",
    "                 textcoords=\"offset points\", # how to position the text\n",
    "                 xytext=(0,2), # distance from text to points (x,y)\n",
    "                 ha='left') # horizontal alignment can be left, right or center"
   ]
  },
  {
   "cell_type": "code",
   "execution_count": null,
   "metadata": {},
   "outputs": [],
   "source": []
  },
  {
   "cell_type": "code",
   "execution_count": 76,
   "metadata": {},
   "outputs": [
    {
     "data": {
      "text/plain": [
       "Text(0.5, 0, 'Bookings')"
      ]
     },
     "execution_count": 76,
     "metadata": {},
     "output_type": "execute_result"
    },
    {
     "data": {
      "image/png": "[encoded data removed]",
      "text/plain": [
       "<Figure size 800x640 with 1 Axes>"
      ]
     },
     "metadata": {
      "needs_background": "light"
     },
     "output_type": "display_data"
    }
   ],
   "source": [
    "#Making a Divering Dot Plot that contrasts the number of bookings per month\n",
    "\n",
    "month_x = month_counted.loc[:, [\"count\"]]\n",
    "month_counted[\"mpg_z\"] = (month_x - month_x.mean())/month_x.std()\n",
    "month_counted[\"color\"] = [\"red\" if month_x < 0 else \"darkgreen\" for month_x in month_counted[\"mpg_z\"]]\n",
    "month_counted.sort_values(\"mpg_z\", inplace = True)\n",
    "month_counted.reset_index(inplace = True)\n",
    "\n",
    "plt.figure(figsize = (10,8), dpi = 80)\n",
    "plt.scatter(month_counted.mpg_z, month_counted.index, s = 450, alpha = 0.6, color = month_counted.color)\n",
    "\n",
    "for xm, ym, tex in zip(month_counted.mpg_z, month_counted.index, month_counted.mpg_z):\n",
    "    t = plt.text(xm, ym, round(tex, 1), horizontalalignment = \"center\", verticalalignment = \"center\",\n",
    "                fontdict = {\"color\":\"white\"})\n",
    "\n",
    "plt.title(\"Diverging Dotplot of Monthly Bookings\")\n",
    "plt.yticks(month_counted.index, month_counted.month)\n",
    "\n",
    "plt.xlabel(\"Bookings\")"
   ]
  },
  {
   "cell_type": "code",
   "execution_count": 77,
   "metadata": {},
   "outputs": [
    {
     "data": {
      "image/png": "[encoded data removed]",
      "text/plain": [
       "<Figure size 1040x800 with 1 Axes>"
      ]
     },
     "metadata": {
      "needs_background": "light"
     },
     "output_type": "display_data"
    }
   ],
   "source": [
    "#boxplot per month - have the day of the month that they were booked.  (called \"counts plot\")\n",
    "\n",
    "plt.figure(figsize = (13,10), dpi = 80)\n",
    "sns.boxplot(x = \"month\", y = \"count\", data = month_counted, notch = False)\n",
    "\n",
    "def add_n_obs(df, group_col, y):\n",
    "    medians_dict = {grp[0]:grp[1][y].median() for grp in df.groupby(group_col)}\n",
    "    xticklabels = [x.get_text() for x in plt.gca().get_xticklabels()]\n",
    "    n_obs = month_counted.groupby(group_col)[y].size().values\n",
    "    for (x, xticklabel), n_ob in zip(enumerate(xticklabels), n_obs):\n",
    "        plt.text(x, medians_dict[xticklabel]*1.01, \"#obs : \"+str(n_ob), horizontalalignment = \"center\",\n",
    "                fontdict = {\"size\":14}, color = \"white\")\n",
    "    \n",
    "add_n_obs(month_counted, group_col = \"month\", y = \"count\")\n",
    "\n",
    "#o she wanted every day? need a new dataframe for this one HAHA POOR THINGS ARE JUST SLIVERS"
   ]
  },
  {
   "cell_type": "code",
   "execution_count": null,
   "metadata": {},
   "outputs": [],
   "source": []
  },
  {
   "cell_type": "code",
   "execution_count": null,
   "metadata": {},
   "outputs": [],
   "source": []
  },
  {
   "cell_type": "code",
   "execution_count": 78,
   "metadata": {},
   "outputs": [],
   "source": [
    "#which neighborhoods had the highest ratings?"
   ]
  },
  {
   "cell_type": "code",
   "execution_count": 79,
   "metadata": {},
   "outputs": [
    {
     "data": {
      "text/html": [
       "<div>\n",
       "<style scoped>\n",
       "    .dataframe tbody tr th:only-of-type {\n",
       "        vertical-align: middle;\n",
       "    }\n",
       "\n",
       "    .dataframe tbody tr th {\n",
       "        vertical-align: top;\n",
       "    }\n",
       "\n",
       "    .dataframe thead th {\n",
       "        text-align: right;\n",
       "    }\n",
       "</style>\n",
       "<table border=\"1\" class=\"dataframe\">\n",
       "  <thead>\n",
       "    <tr style=\"text-align: right;\">\n",
       "      <th></th>\n",
       "      <th>overall_satisfaction</th>\n",
       "      <th>neighbourhood</th>\n",
       "    </tr>\n",
       "  </thead>\n",
       "  <tbody>\n",
       "    <tr>\n",
       "      <th>0</th>\n",
       "      <td>5.0</td>\n",
       "      <td>Madrona</td>\n",
       "    </tr>\n",
       "    <tr>\n",
       "      <th>1</th>\n",
       "      <td>5.0</td>\n",
       "      <td>South Delridge</td>\n",
       "    </tr>\n",
       "    <tr>\n",
       "      <th>2</th>\n",
       "      <td>4.5</td>\n",
       "      <td>Wallingford</td>\n",
       "    </tr>\n",
       "    <tr>\n",
       "      <th>3</th>\n",
       "      <td>4.5</td>\n",
       "      <td>Georgetown</td>\n",
       "    </tr>\n",
       "    <tr>\n",
       "      <th>4</th>\n",
       "      <td>5.0</td>\n",
       "      <td>First Hill</td>\n",
       "    </tr>\n",
       "  </tbody>\n",
       "</table>\n",
       "</div>"
      ],
      "text/plain": [
       "   overall_satisfaction   neighbourhood\n",
       "0                   5.0         Madrona\n",
       "1                   5.0  South Delridge\n",
       "2                   4.5     Wallingford\n",
       "3                   4.5      Georgetown\n",
       "4                   5.0      First Hill"
      ]
     },
     "execution_count": 79,
     "metadata": {},
     "output_type": "execute_result"
    }
   ],
   "source": [
    "satis_zero = seattle[seattle[\"overall_satisfaction\"] == 0.0].index\n",
    "seattle_no_zero_satis = seattle.drop(satis_zero)\n",
    "neighborhood_reviews = seattle_no_zero_satis.filter(['overall_satisfaction','neighbourhood'], axis=1)\n",
    "neighborhood_reviews.head()"
   ]
  },
  {
   "cell_type": "code",
   "execution_count": 80,
   "metadata": {},
   "outputs": [],
   "source": [
    "#how to get the mean value of each neighborhood? excluding 0 values?\n",
    "#group by neighborhood and mean of overall satisfaction\n",
    "#drop the null rows in data cleaning"
   ]
  },
  {
   "cell_type": "code",
   "execution_count": 81,
   "metadata": {},
   "outputs": [
    {
     "data": {
      "text/html": [
       "<div>\n",
       "<style scoped>\n",
       "    .dataframe tbody tr th:only-of-type {\n",
       "        vertical-align: middle;\n",
       "    }\n",
       "\n",
       "    .dataframe tbody tr th {\n",
       "        vertical-align: top;\n",
       "    }\n",
       "\n",
       "    .dataframe thead th {\n",
       "        text-align: right;\n",
       "    }\n",
       "</style>\n",
       "<table border=\"1\" class=\"dataframe\">\n",
       "  <thead>\n",
       "    <tr style=\"text-align: right;\">\n",
       "      <th></th>\n",
       "      <th>neighbourhood</th>\n",
       "      <th>overall_satisfaction</th>\n",
       "    </tr>\n",
       "  </thead>\n",
       "  <tbody>\n",
       "    <tr>\n",
       "      <th>67</th>\n",
       "      <td>Roxhill</td>\n",
       "      <td>5.000000</td>\n",
       "    </tr>\n",
       "    <tr>\n",
       "      <th>35</th>\n",
       "      <td>Laurelhurst</td>\n",
       "      <td>5.000000</td>\n",
       "    </tr>\n",
       "    <tr>\n",
       "      <th>63</th>\n",
       "      <td>Rainier View</td>\n",
       "      <td>5.000000</td>\n",
       "    </tr>\n",
       "    <tr>\n",
       "      <th>32</th>\n",
       "      <td>Industrial District</td>\n",
       "      <td>5.000000</td>\n",
       "    </tr>\n",
       "    <tr>\n",
       "      <th>54</th>\n",
       "      <td>North Delridge</td>\n",
       "      <td>5.000000</td>\n",
       "    </tr>\n",
       "    <tr>\n",
       "      <th>30</th>\n",
       "      <td>Highland Park</td>\n",
       "      <td>4.978261</td>\n",
       "    </tr>\n",
       "    <tr>\n",
       "      <th>41</th>\n",
       "      <td>Madrona</td>\n",
       "      <td>4.975610</td>\n",
       "    </tr>\n",
       "    <tr>\n",
       "      <th>16</th>\n",
       "      <td>East Queen Anne</td>\n",
       "      <td>4.961538</td>\n",
       "    </tr>\n",
       "    <tr>\n",
       "      <th>23</th>\n",
       "      <td>Genesee</td>\n",
       "      <td>4.959459</td>\n",
       "    </tr>\n",
       "    <tr>\n",
       "      <th>45</th>\n",
       "      <td>Meadowbrook</td>\n",
       "      <td>4.958333</td>\n",
       "    </tr>\n",
       "  </tbody>\n",
       "</table>\n",
       "</div>"
      ],
      "text/plain": [
       "          neighbourhood  overall_satisfaction\n",
       "67              Roxhill              5.000000\n",
       "35          Laurelhurst              5.000000\n",
       "63         Rainier View              5.000000\n",
       "32  Industrial District              5.000000\n",
       "54       North Delridge              5.000000\n",
       "30        Highland Park              4.978261\n",
       "41              Madrona              4.975610\n",
       "16      East Queen Anne              4.961538\n",
       "23              Genesee              4.959459\n",
       "45          Meadowbrook              4.958333"
      ]
     },
     "execution_count": 81,
     "metadata": {},
     "output_type": "execute_result"
    }
   ],
   "source": [
    "neigh_satisfaction = neighborhood_reviews.groupby(\"neighbourhood\").mean().reset_index()\n",
    "top_neighborhoods = neigh_satisfaction.sort_values(\"overall_satisfaction\", ascending = False).head(10)\n",
    "top_neighborhoods"
   ]
  },
  {
   "cell_type": "code",
   "execution_count": 82,
   "metadata": {},
   "outputs": [
    {
     "data": {
      "image/png": "[encoded data removed]",
      "text/plain": [
       "<Figure size 1080x432 with 1 Axes>"
      ]
     },
     "metadata": {
      "needs_background": "light"
     },
     "output_type": "display_data"
    }
   ],
   "source": [
    "xn = list(top_neighborhoods[\"neighbourhood\"])\n",
    "yn = list(top_neighborhoods[\"overall_satisfaction\"])\n",
    "plt.figure(figsize=(15, 6)) \n",
    "plt.plot(xn,yn)\n",
    "plt.title(\"Highest Rated Neighborhoods by Overall Satisfaction Ratings\")\n",
    "plt.ylabel(\"Overall Satisfaction\")\n",
    "\n",
    "\n",
    "for a,b in zip(xn,yn):\n",
    "\n",
    "    label = \"{:.3f}\".format(b)\n",
    "\n",
    "    plt.annotate(label, # this is the text\n",
    "                 (a,b), # this is the point to label\n",
    "                 textcoords=\"offset points\", # how to position the text\n",
    "                 xytext=(0,2), # distance from text to points (x,y)\n",
    "                 ha='left') # horizontal alignment can be left, right or center\n",
    "    \n",
    "#not useful to do a bar graph like this, maybe a line graph or"
   ]
  },
  {
   "cell_type": "code",
   "execution_count": 83,
   "metadata": {},
   "outputs": [],
   "source": [
    "#thinking could make a plot with points of varyiong size to show and how many ratings they got too? idk how though"
   ]
  },
  {
   "cell_type": "code",
   "execution_count": null,
   "metadata": {},
   "outputs": [],
   "source": []
  },
  {
   "cell_type": "code",
   "execution_count": null,
   "metadata": {},
   "outputs": [],
   "source": []
  },
  {
   "cell_type": "code",
   "execution_count": null,
   "metadata": {},
   "outputs": [],
   "source": []
  },
  {
   "cell_type": "code",
   "execution_count": null,
   "metadata": {},
   "outputs": [],
   "source": []
  },
  {
   "cell_type": "code",
   "execution_count": null,
   "metadata": {},
   "outputs": [],
   "source": []
  },
  {
   "cell_type": "code",
   "execution_count": null,
   "metadata": {},
   "outputs": [],
   "source": []
  },
  {
   "cell_type": "code",
   "execution_count": null,
   "metadata": {},
   "outputs": [],
   "source": []
  },
  {
   "cell_type": "code",
   "execution_count": null,
   "metadata": {},
   "outputs": [],
   "source": []
  },
  {
   "cell_type": "code",
   "execution_count": null,
   "metadata": {},
   "outputs": [],
   "source": []
  },
  {
   "cell_type": "code",
   "execution_count": null,
   "metadata": {},
   "outputs": [],
   "source": []
  },
  {
   "cell_type": "code",
   "execution_count": null,
   "metadata": {},
   "outputs": [],
   "source": []
  },
  {
   "cell_type": "code",
   "execution_count": null,
   "metadata": {},
   "outputs": [],
   "source": []
  },
  {
   "cell_type": "code",
   "execution_count": null,
   "metadata": {},
   "outputs": [],
   "source": []
  },
  {
   "cell_type": "code",
   "execution_count": null,
   "metadata": {},
   "outputs": [],
   "source": []
  },
  {
   "cell_type": "code",
   "execution_count": null,
   "metadata": {},
   "outputs": [],
   "source": []
  }
 ],
 "metadata": {
  "kernelspec": {
   "display_name": "Python 3",
   "language": "python",
   "name": "python3"
  },
  "language_info": {
   "codemirror_mode": {
    "name": "ipython",
    "version": 3
   },
   "file_extension": ".py",
   "mimetype": "text/x-python",
   "name": "python",
   "nbconvert_exporter": "python",
   "pygments_lexer": "ipython3",
   "version": "3.7.3"
  }
 },
 "nbformat": 4,
 "nbformat_minor": 2
}
