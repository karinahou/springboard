{
 "cells": [
  {
   "cell_type": "markdown",
   "metadata": {},
   "source": [
    "Are there variables that are particularly significant in terms of explaining the answer to your project question?\n",
    "Are there significant differences between subgroups in your data that may be relevant to your project aim?\n",
    "Are there strong correlations between pairs of independent variables or between an independent and a dependent variable?\n",
    "What are the most appropriate tests to use to analyze these relationships?\n",
    "\n",
    "ex. what's driving prices? statistical questions from the proposal. differences between groups, like december top compared to other months. t-test. distribution of prices - confidence interval of mean/median price bootstrap. correlations with price"
   ]
  },
  {
   "cell_type": "code",
   "execution_count": 171,
   "metadata": {},
   "outputs": [],
   "source": [
    "import pandas as pd\n",
    "import numpy as np\n",
    "from numpy.random import seed\n",
    "import matplotlib.pyplot as plt\n",
    "from scipy.stats import norm"
   ]
  },
  {
   "cell_type": "code",
   "execution_count": 12,
   "metadata": {},
   "outputs": [],
   "source": [
    "seattle = pd.read_csv(\"/Users/karinahou/Desktop/Data Science Bootcamp/Seattle DF Cleaned.csv\")\n",
    "calendar = pd.read_csv(\"/Users/karinahou/Desktop/Data Science Bootcamp/Calendar Cleaned.csv\")"
   ]
  },
  {
   "cell_type": "code",
   "execution_count": 102,
   "metadata": {},
   "outputs": [
    {
     "data": {
      "text/html": [
       "<div>\n",
       "<style scoped>\n",
       "    .dataframe tbody tr th:only-of-type {\n",
       "        vertical-align: middle;\n",
       "    }\n",
       "\n",
       "    .dataframe tbody tr th {\n",
       "        vertical-align: top;\n",
       "    }\n",
       "\n",
       "    .dataframe thead th {\n",
       "        text-align: right;\n",
       "    }\n",
       "</style>\n",
       "<table border=\"1\" class=\"dataframe\">\n",
       "  <thead>\n",
       "    <tr style=\"text-align: right;\">\n",
       "      <th></th>\n",
       "      <th>Unnamed: 0</th>\n",
       "      <th>room_id</th>\n",
       "      <th>host_id</th>\n",
       "      <th>room_type</th>\n",
       "      <th>address</th>\n",
       "      <th>reviews</th>\n",
       "      <th>overall_satisfaction</th>\n",
       "      <th>accommodates</th>\n",
       "      <th>bedrooms</th>\n",
       "      <th>price</th>\n",
       "      <th>...</th>\n",
       "      <th>location</th>\n",
       "      <th>name</th>\n",
       "      <th>currency</th>\n",
       "      <th>rate_type</th>\n",
       "      <th>id</th>\n",
       "      <th>neighbourhood_group</th>\n",
       "      <th>neighbourhood</th>\n",
       "      <th>minimum_nights</th>\n",
       "      <th>last_review</th>\n",
       "      <th>availability_365</th>\n",
       "    </tr>\n",
       "  </thead>\n",
       "  <tbody>\n",
       "    <tr>\n",
       "      <th>0</th>\n",
       "      <td>0</td>\n",
       "      <td>2318</td>\n",
       "      <td>2536</td>\n",
       "      <td>Entire home/apt</td>\n",
       "      <td>Seattle, WA, United States</td>\n",
       "      <td>21</td>\n",
       "      <td>5.0</td>\n",
       "      <td>8</td>\n",
       "      <td>4.0</td>\n",
       "      <td>250</td>\n",
       "      <td>...</td>\n",
       "      <td>0101000020E6100000D449B6BA9C925EC0416326512FCE...</td>\n",
       "      <td>Casa Madrona - Urban Oasis, 1 block from the P...</td>\n",
       "      <td>USD</td>\n",
       "      <td>nightly</td>\n",
       "      <td>2318</td>\n",
       "      <td>Central Area</td>\n",
       "      <td>Madrona</td>\n",
       "      <td>4</td>\n",
       "      <td>2019-06-18</td>\n",
       "      <td>335</td>\n",
       "    </tr>\n",
       "    <tr>\n",
       "      <th>1</th>\n",
       "      <td>1</td>\n",
       "      <td>5682</td>\n",
       "      <td>8993</td>\n",
       "      <td>Entire home/apt</td>\n",
       "      <td>Seattle, WA, United States</td>\n",
       "      <td>462</td>\n",
       "      <td>5.0</td>\n",
       "      <td>2</td>\n",
       "      <td>0.0</td>\n",
       "      <td>49</td>\n",
       "      <td>...</td>\n",
       "      <td>0101000020E6100000FCC7427408975EC009E1D1C611C3...</td>\n",
       "      <td>Cozy Studio, min. to downtown -WiFi</td>\n",
       "      <td>USD</td>\n",
       "      <td>nightly</td>\n",
       "      <td>5682</td>\n",
       "      <td>Delridge</td>\n",
       "      <td>South Delridge</td>\n",
       "      <td>3</td>\n",
       "      <td>2018-11-24</td>\n",
       "      <td>0</td>\n",
       "    </tr>\n",
       "    <tr>\n",
       "      <th>2</th>\n",
       "      <td>2</td>\n",
       "      <td>6606</td>\n",
       "      <td>14942</td>\n",
       "      <td>Entire home/apt</td>\n",
       "      <td>Seattle, WA, United States</td>\n",
       "      <td>134</td>\n",
       "      <td>4.5</td>\n",
       "      <td>2</td>\n",
       "      <td>1.0</td>\n",
       "      <td>90</td>\n",
       "      <td>...</td>\n",
       "      <td>0101000020E6100000D47D00529B955EC07782FDD7B9D3...</td>\n",
       "      <td>Fab, private seattle urban cottage!</td>\n",
       "      <td>USD</td>\n",
       "      <td>nightly</td>\n",
       "      <td>6606</td>\n",
       "      <td>Other neighborhoods</td>\n",
       "      <td>Wallingford</td>\n",
       "      <td>2</td>\n",
       "      <td>2019-06-23</td>\n",
       "      <td>43</td>\n",
       "    </tr>\n",
       "    <tr>\n",
       "      <th>3</th>\n",
       "      <td>3</td>\n",
       "      <td>9419</td>\n",
       "      <td>30559</td>\n",
       "      <td>Private room</td>\n",
       "      <td>Seattle, WA, United States</td>\n",
       "      <td>130</td>\n",
       "      <td>4.5</td>\n",
       "      <td>2</td>\n",
       "      <td>1.0</td>\n",
       "      <td>65</td>\n",
       "      <td>...</td>\n",
       "      <td>0101000020E6100000145D177E70945EC0522B4CDF6BC6...</td>\n",
       "      <td>Glorious sun room w/ memory foambed</td>\n",
       "      <td>USD</td>\n",
       "      <td>nightly</td>\n",
       "      <td>9419</td>\n",
       "      <td>Other neighborhoods</td>\n",
       "      <td>Georgetown</td>\n",
       "      <td>2</td>\n",
       "      <td>2019-06-23</td>\n",
       "      <td>356</td>\n",
       "    </tr>\n",
       "    <tr>\n",
       "      <th>4</th>\n",
       "      <td>4</td>\n",
       "      <td>9460</td>\n",
       "      <td>30832</td>\n",
       "      <td>Private room</td>\n",
       "      <td>Seattle, WA, United States</td>\n",
       "      <td>401</td>\n",
       "      <td>5.0</td>\n",
       "      <td>2</td>\n",
       "      <td>1.0</td>\n",
       "      <td>78</td>\n",
       "      <td>...</td>\n",
       "      <td>0101000020E6100000DD7A4D0F0A955EC00BD28C45D3CD...</td>\n",
       "      <td>Downtown/Convention Ctr B&amp;B - Nice!</td>\n",
       "      <td>USD</td>\n",
       "      <td>nightly</td>\n",
       "      <td>9460</td>\n",
       "      <td>Downtown</td>\n",
       "      <td>First Hill</td>\n",
       "      <td>3</td>\n",
       "      <td>2019-07-07</td>\n",
       "      <td>87</td>\n",
       "    </tr>\n",
       "  </tbody>\n",
       "</table>\n",
       "<p>5 rows × 23 columns</p>\n",
       "</div>"
      ],
      "text/plain": [
       "   Unnamed: 0  room_id  host_id        room_type                     address  \\\n",
       "0           0     2318     2536  Entire home/apt  Seattle, WA, United States   \n",
       "1           1     5682     8993  Entire home/apt  Seattle, WA, United States   \n",
       "2           2     6606    14942  Entire home/apt  Seattle, WA, United States   \n",
       "3           3     9419    30559     Private room  Seattle, WA, United States   \n",
       "4           4     9460    30832     Private room  Seattle, WA, United States   \n",
       "\n",
       "   reviews  overall_satisfaction  accommodates  bedrooms  price  ...  \\\n",
       "0       21                   5.0             8       4.0    250  ...   \n",
       "1      462                   5.0             2       0.0     49  ...   \n",
       "2      134                   4.5             2       1.0     90  ...   \n",
       "3      130                   4.5             2       1.0     65  ...   \n",
       "4      401                   5.0             2       1.0     78  ...   \n",
       "\n",
       "                                            location  \\\n",
       "0  0101000020E6100000D449B6BA9C925EC0416326512FCE...   \n",
       "1  0101000020E6100000FCC7427408975EC009E1D1C611C3...   \n",
       "2  0101000020E6100000D47D00529B955EC07782FDD7B9D3...   \n",
       "3  0101000020E6100000145D177E70945EC0522B4CDF6BC6...   \n",
       "4  0101000020E6100000DD7A4D0F0A955EC00BD28C45D3CD...   \n",
       "\n",
       "                                                name  currency rate_type  \\\n",
       "0  Casa Madrona - Urban Oasis, 1 block from the P...       USD   nightly   \n",
       "1                Cozy Studio, min. to downtown -WiFi       USD   nightly   \n",
       "2                Fab, private seattle urban cottage!       USD   nightly   \n",
       "3                Glorious sun room w/ memory foambed       USD   nightly   \n",
       "4                Downtown/Convention Ctr B&B - Nice!       USD   nightly   \n",
       "\n",
       "     id  neighbourhood_group   neighbourhood  minimum_nights last_review  \\\n",
       "0  2318         Central Area         Madrona               4  2019-06-18   \n",
       "1  5682             Delridge  South Delridge               3  2018-11-24   \n",
       "2  6606  Other neighborhoods     Wallingford               2  2019-06-23   \n",
       "3  9419  Other neighborhoods      Georgetown               2  2019-06-23   \n",
       "4  9460             Downtown      First Hill               3  2019-07-07   \n",
       "\n",
       "  availability_365  \n",
       "0              335  \n",
       "1                0  \n",
       "2               43  \n",
       "3              356  \n",
       "4               87  \n",
       "\n",
       "[5 rows x 23 columns]"
      ]
     },
     "execution_count": 102,
     "metadata": {},
     "output_type": "execute_result"
    }
   ],
   "source": [
    "seattle.head()"
   ]
  },
  {
   "cell_type": "code",
   "execution_count": 105,
   "metadata": {},
   "outputs": [
    {
     "data": {
      "text/plain": [
       "Unnamed: 0                int64\n",
       "room_id                   int64\n",
       "host_id                   int64\n",
       "room_type                object\n",
       "address                  object\n",
       "reviews                   int64\n",
       "overall_satisfaction    float64\n",
       "accommodates              int64\n",
       "bedrooms                float64\n",
       "price                     int64\n",
       "last_modified            object\n",
       "latitude                float64\n",
       "longitude               float64\n",
       "location                 object\n",
       "name                     object\n",
       "currency                 object\n",
       "rate_type                object\n",
       "id                        int64\n",
       "neighbourhood_group      object\n",
       "neighbourhood            object\n",
       "minimum_nights            int64\n",
       "last_review              object\n",
       "availability_365          int64\n",
       "dtype: object"
      ]
     },
     "execution_count": 105,
     "metadata": {},
     "output_type": "execute_result"
    }
   ],
   "source": [
    "seattle.dtypes"
   ]
  },
  {
   "cell_type": "code",
   "execution_count": 104,
   "metadata": {},
   "outputs": [
    {
     "data": {
      "text/html": [
       "<div>\n",
       "<style scoped>\n",
       "    .dataframe tbody tr th:only-of-type {\n",
       "        vertical-align: middle;\n",
       "    }\n",
       "\n",
       "    .dataframe tbody tr th {\n",
       "        vertical-align: top;\n",
       "    }\n",
       "\n",
       "    .dataframe thead th {\n",
       "        text-align: right;\n",
       "    }\n",
       "</style>\n",
       "<table border=\"1\" class=\"dataframe\">\n",
       "  <thead>\n",
       "    <tr style=\"text-align: right;\">\n",
       "      <th></th>\n",
       "      <th>Unnamed: 0</th>\n",
       "      <th>listing_id</th>\n",
       "      <th>date</th>\n",
       "      <th>available</th>\n",
       "      <th>price</th>\n",
       "      <th>month</th>\n",
       "    </tr>\n",
       "  </thead>\n",
       "  <tbody>\n",
       "    <tr>\n",
       "      <th>0</th>\n",
       "      <td>0</td>\n",
       "      <td>241032</td>\n",
       "      <td>2016-01-04</td>\n",
       "      <td>t</td>\n",
       "      <td>85.0</td>\n",
       "      <td>January</td>\n",
       "    </tr>\n",
       "    <tr>\n",
       "      <th>1</th>\n",
       "      <td>1</td>\n",
       "      <td>241032</td>\n",
       "      <td>2016-01-05</td>\n",
       "      <td>t</td>\n",
       "      <td>85.0</td>\n",
       "      <td>January</td>\n",
       "    </tr>\n",
       "    <tr>\n",
       "      <th>2</th>\n",
       "      <td>2</td>\n",
       "      <td>241032</td>\n",
       "      <td>2016-01-06</td>\n",
       "      <td>f</td>\n",
       "      <td>0.0</td>\n",
       "      <td>January</td>\n",
       "    </tr>\n",
       "    <tr>\n",
       "      <th>3</th>\n",
       "      <td>3</td>\n",
       "      <td>241032</td>\n",
       "      <td>2016-01-07</td>\n",
       "      <td>f</td>\n",
       "      <td>0.0</td>\n",
       "      <td>January</td>\n",
       "    </tr>\n",
       "    <tr>\n",
       "      <th>4</th>\n",
       "      <td>4</td>\n",
       "      <td>241032</td>\n",
       "      <td>2016-01-08</td>\n",
       "      <td>f</td>\n",
       "      <td>0.0</td>\n",
       "      <td>January</td>\n",
       "    </tr>\n",
       "  </tbody>\n",
       "</table>\n",
       "</div>"
      ],
      "text/plain": [
       "   Unnamed: 0  listing_id        date available  price    month\n",
       "0           0      241032  2016-01-04         t   85.0  January\n",
       "1           1      241032  2016-01-05         t   85.0  January\n",
       "2           2      241032  2016-01-06         f    0.0  January\n",
       "3           3      241032  2016-01-07         f    0.0  January\n",
       "4           4      241032  2016-01-08         f    0.0  January"
      ]
     },
     "execution_count": 104,
     "metadata": {},
     "output_type": "execute_result"
    }
   ],
   "source": [
    "calendar.head()"
   ]
  },
  {
   "cell_type": "code",
   "execution_count": 40,
   "metadata": {},
   "outputs": [],
   "source": [
    "#changing the price column into a float for later calculations\n",
    "calendar.price = calendar.price.str.replace('$', '').str.replace(',', '')\n",
    "calendar.price = pd.to_numeric(calendar.price)"
   ]
  },
  {
   "cell_type": "markdown",
   "metadata": {},
   "source": [
    "what kind of t test to use? t test to compare december and the other months combined? what to compare? like the average prices december v. all? what would that tell you? would you use a t-test? is that the only thing i should do?\n",
    "\n",
    "would show december is a particular month\n",
    "\n",
    "distribution of prices - see how represnetative prices are. bootstrap technique and confidence intervals, correlations with other variables?"
   ]
  },
  {
   "cell_type": "code",
   "execution_count": 41,
   "metadata": {},
   "outputs": [
    {
     "data": {
      "text/html": [
       "<div>\n",
       "<style scoped>\n",
       "    .dataframe tbody tr th:only-of-type {\n",
       "        vertical-align: middle;\n",
       "    }\n",
       "\n",
       "    .dataframe tbody tr th {\n",
       "        vertical-align: top;\n",
       "    }\n",
       "\n",
       "    .dataframe thead th {\n",
       "        text-align: right;\n",
       "    }\n",
       "</style>\n",
       "<table border=\"1\" class=\"dataframe\">\n",
       "  <thead>\n",
       "    <tr style=\"text-align: right;\">\n",
       "      <th></th>\n",
       "      <th>Unnamed: 0</th>\n",
       "      <th>listing_id</th>\n",
       "      <th>date</th>\n",
       "      <th>available</th>\n",
       "      <th>price</th>\n",
       "      <th>month</th>\n",
       "    </tr>\n",
       "  </thead>\n",
       "  <tbody>\n",
       "    <tr>\n",
       "      <th>332</th>\n",
       "      <td>332</td>\n",
       "      <td>241032</td>\n",
       "      <td>2016-12-01</td>\n",
       "      <td>t</td>\n",
       "      <td>85.0</td>\n",
       "      <td>December</td>\n",
       "    </tr>\n",
       "    <tr>\n",
       "      <th>333</th>\n",
       "      <td>333</td>\n",
       "      <td>241032</td>\n",
       "      <td>2016-12-02</td>\n",
       "      <td>t</td>\n",
       "      <td>85.0</td>\n",
       "      <td>December</td>\n",
       "    </tr>\n",
       "    <tr>\n",
       "      <th>334</th>\n",
       "      <td>334</td>\n",
       "      <td>241032</td>\n",
       "      <td>2016-12-03</td>\n",
       "      <td>t</td>\n",
       "      <td>85.0</td>\n",
       "      <td>December</td>\n",
       "    </tr>\n",
       "    <tr>\n",
       "      <th>335</th>\n",
       "      <td>335</td>\n",
       "      <td>241032</td>\n",
       "      <td>2016-12-04</td>\n",
       "      <td>t</td>\n",
       "      <td>85.0</td>\n",
       "      <td>December</td>\n",
       "    </tr>\n",
       "    <tr>\n",
       "      <th>336</th>\n",
       "      <td>336</td>\n",
       "      <td>241032</td>\n",
       "      <td>2016-12-05</td>\n",
       "      <td>t</td>\n",
       "      <td>85.0</td>\n",
       "      <td>December</td>\n",
       "    </tr>\n",
       "  </tbody>\n",
       "</table>\n",
       "</div>"
      ],
      "text/plain": [
       "     Unnamed: 0  listing_id        date available  price     month\n",
       "332         332      241032  2016-12-01         t   85.0  December\n",
       "333         333      241032  2016-12-02         t   85.0  December\n",
       "334         334      241032  2016-12-03         t   85.0  December\n",
       "335         335      241032  2016-12-04         t   85.0  December\n",
       "336         336      241032  2016-12-05         t   85.0  December"
      ]
     },
     "execution_count": 41,
     "metadata": {},
     "output_type": "execute_result"
    }
   ],
   "source": [
    "december = calendar.loc[calendar.month == \"December\"]\n",
    "december.head()"
   ]
  },
  {
   "cell_type": "code",
   "execution_count": 42,
   "metadata": {},
   "outputs": [],
   "source": [
    "#np.mean(december.price) #how to calulate series to float?"
   ]
  },
  {
   "cell_type": "code",
   "execution_count": 43,
   "metadata": {},
   "outputs": [
    {
     "data": {
      "text/plain": [
       "Unnamed: 0      int64\n",
       "listing_id      int64\n",
       "date           object\n",
       "available      object\n",
       "price         float64\n",
       "month          object\n",
       "dtype: object"
      ]
     },
     "execution_count": 43,
     "metadata": {},
     "output_type": "execute_result"
    }
   ],
   "source": [
    "december.dtypes"
   ]
  },
  {
   "cell_type": "code",
   "execution_count": 153,
   "metadata": {},
   "outputs": [
    {
     "name": "stdout",
     "output_type": "stream",
     "text": [
      "December + booked days mean: 100.95880295375049\n",
      "December + booked days standard dev.: 108.57907570335787\n",
      "December - booked days mean: 59098.36784553359\n",
      "December - booked days standard dev: 34486.678062120416\n",
      "December pricing median 85.0\n"
     ]
    }
   ],
   "source": [
    "print(\"December + booked days mean:\", np.mean(december.price)) #the price including the days that they were book == 0\n",
    "print(\"December + booked days standard dev.:\", np.std(december.price))\n",
    "\n",
    "print(\"December - booked days mean:\", np.mean(np.nonzero(december.price))) \n",
    "print(\"December - booked days standard dev:\", np.std(np.nonzero(december.price)))\n",
    "\n",
    "print(\"December pricing median\", np.median(december.price))\n",
    "#the price excluding the days that they were already booked (not including 0 values)\n",
    "\n",
    "#look at how to take out outliers? summary statistics? describe? histogram of prices just to see if there are any weird values"
   ]
  },
  {
   "cell_type": "code",
   "execution_count": 88,
   "metadata": {},
   "outputs": [
    {
     "name": "stdout",
     "output_type": "stream",
     "text": [
      "Booked days mean: 100.95880295375049\n",
      "Booked days standard dev 108.57907570335787\n",
      "Mean of non zeros values only: 59098.36784553359\n",
      "Std of non zero values only: 34486.678062120416\n",
      "Pricing median 85.0\n"
     ]
    }
   ],
   "source": [
    "#making a def so can print out the same thing for other months\n",
    "def booked_means_std(month):\n",
    "    print(\"Booked days mean:\", np.mean(month.price))\n",
    "    print(\"Booked days standard dev\", np.std(month.price))\n",
    "    print(\"Mean of non zeros values only:\", np.mean(np.nonzero(month.price)))\n",
    "    print(\"Std of non zero values only:\", np.std(np.nonzero(month.price)))\n",
    "    print(\"Pricing median\", np.median(month.price))\n",
    "\n",
    "booked_means_std(december)"
   ]
  },
  {
   "cell_type": "code",
   "execution_count": 89,
   "metadata": {},
   "outputs": [],
   "source": [
    "nondec = calendar.loc[calendar.month != \"December\"]"
   ]
  },
  {
   "cell_type": "code",
   "execution_count": 90,
   "metadata": {},
   "outputs": [
    {
     "name": "stdout",
     "output_type": "stream",
     "text": [
      "Booked days mean: 91.72277393876469\n",
      "Booked days standard dev 107.61659654100761\n",
      "Mean of non zeros values only: 637978.3750727155\n",
      "Std of non zero values only: 368411.74102537514\n",
      "Pricing median 75.0\n"
     ]
    }
   ],
   "source": [
    "booked_means_std(nondec)"
   ]
  },
  {
   "cell_type": "code",
   "execution_count": 154,
   "metadata": {},
   "outputs": [],
   "source": [
    "#can do a loop through each month and a loop through each neighborhood"
   ]
  },
  {
   "cell_type": "code",
   "execution_count": 160,
   "metadata": {},
   "outputs": [
    {
     "name": "stdout",
     "output_type": "stream",
     "text": [
      "January\n",
      "Booked days mean: 69.6834992142483\n",
      "Booked days standard dev 90.39025309263543\n",
      "Mean of non zeros values only: 57568.32961177757\n",
      "Std of non zero values only: 32944.56357780701\n",
      "Pricing median 55.0\n",
      "None\n",
      "February\n",
      "Booked days mean: 82.30843915391702\n",
      "Booked days standard dev 94.89955594900215\n",
      "Mean of non zeros values only: 55352.21249028246\n",
      "Std of non zero values only: 31668.574837441476\n",
      "Pricing median 70.0\n",
      "None\n",
      "March\n",
      "Booked days mean: 91.2330471957958\n",
      "Booked days standard dev 98.6361039317581\n",
      "Mean of non zeros values only: 59145.307095713506\n",
      "Std of non zero values only: 33834.04982157087\n",
      "Pricing median 79.0\n",
      "None\n",
      "April\n",
      "Booked days mean: 89.68370001746115\n",
      "Booked days standard dev 102.36487487185917\n",
      "Mean of non zeros values only: 57119.475334376686\n",
      "Std of non zero values only: 32807.41015430628\n",
      "Pricing median 75.0\n",
      "None\n",
      "May\n",
      "Booked days mean: 94.2818229439497\n",
      "Booked days standard dev 106.84536971516003\n",
      "Mean of non zeros values only: 59166.9857823461\n",
      "Std of non zero values only: 34055.52981724989\n",
      "Pricing median 78.0\n",
      "None\n",
      "June\n",
      "Booked days mean: 99.45359699668238\n",
      "Booked days standard dev 115.36040625493342\n",
      "Mean of non zeros values only: 57279.29603593807\n",
      "Std of non zero values only: 33056.493666740374\n",
      "Pricing median 79.0\n",
      "None\n",
      "July\n",
      "Booked days mean: 95.37785363051083\n",
      "Booked days standard dev 120.21363447508725\n",
      "Mean of non zeros values only: 59467.558028616855\n",
      "Std of non zero values only: 34351.7755650047\n",
      "Pricing median 70.0\n",
      "None\n",
      "August\n",
      "Booked days mean: 97.18125517497761\n",
      "Booked days standard dev 119.55566292064267\n",
      "Mean of non zeros values only: 59196.16313673098\n",
      "Std of non zero values only: 34400.615144918425\n",
      "Pricing median 75.0\n",
      "None\n",
      "September\n",
      "Booked days mean: 96.61209184564345\n",
      "Booked days standard dev 111.75902392861921\n",
      "Mean of non zeros values only: 57259.085052947725\n",
      "Std of non zero values only: 33357.3897741084\n",
      "Pricing median 79.0\n",
      "None\n",
      "October\n",
      "Booked days mean: 95.44465942310617\n",
      "Booked days standard dev 107.58281276023962\n",
      "Mean of non zeros values only: 59263.40426744948\n",
      "Std of non zero values only: 34482.19840801145\n",
      "Pricing median 80.0\n",
      "None\n",
      "November\n",
      "Booked days mean: 96.87991094814039\n",
      "Booked days standard dev 107.33839490721033\n",
      "Mean of non zeros values only: 57216.82920029347\n",
      "Std of non zero values only: 33417.03313402591\n",
      "Pricing median 80.0\n",
      "None\n",
      "December\n",
      "Booked days mean: 100.95880295375049\n",
      "Booked days standard dev 108.57907570335787\n",
      "Mean of non zeros values only: 59098.36784553359\n",
      "Std of non zero values only: 34486.678062120416\n",
      "Pricing median 85.0\n",
      "None\n"
     ]
    }
   ],
   "source": [
    "months = [\"January\", \"February\", \"March\", \"April\", \"May\", \"June\",\n",
    "         \"July\", \"August\", \"September\",\"October\", \"November\", \"December\"]\n",
    "\n",
    "\n",
    "for i in months:\n",
    "    print(i)\n",
    "    single_month = calendar.loc[calendar.month == i]\n",
    "    print(booked_means_std(single_month))"
   ]
  },
  {
   "cell_type": "code",
   "execution_count": null,
   "metadata": {},
   "outputs": [],
   "source": []
  },
  {
   "cell_type": "markdown",
   "metadata": {},
   "source": [
    "maybe I should be looking into bedrooms, location, and price?\n",
    "look through the top booked 10 neighborhoods from the data visualization and see the price averages for each of those neighborhoods. are there any factors that affect the price? what about the ratings of these neighborhoods specifically?"
   ]
  },
  {
   "cell_type": "markdown",
   "metadata": {},
   "source": [
    "The top neighborhooods were: Broadway, Belltown, First Hill, Wallingford, Minor, Central Business District, Fremont, Stevens, University District, North Beacon Hill"
   ]
  },
  {
   "cell_type": "code",
   "execution_count": 141,
   "metadata": {},
   "outputs": [],
   "source": [
    "def neighborhood_satisfaction(neighborhood):\n",
    "    print(\"Mean of Neighborhood Reviews: \", np.mean(neighborhood.overall_satisfaction))\n",
    "    print(\"Median of Neighborhood Reviews: \", np.median(neighborhood.overall_satisfaction) )"
   ]
  },
  {
   "cell_type": "code",
   "execution_count": 166,
   "metadata": {},
   "outputs": [
    {
     "name": "stdout",
     "output_type": "stream",
     "text": [
      "Broadway\n",
      "Booked days mean: 98.33149171270718\n",
      "Booked days standard dev 72.60002094642402\n",
      "Mean of non zeros values only: 180.5\n",
      "Std of non zero values only: 104.5\n",
      "Pricing median 80.0\n",
      "Mean of Neighborhood Reviews:  4.236187845303867\n",
      "Median of Neighborhood Reviews:  5.0\n",
      "None None\n",
      "Belltown\n",
      "Booked days mean: 108.99702380952381\n",
      "Booked days standard dev 61.111748661575916\n",
      "Mean of non zeros values only: 167.5\n",
      "Std of non zero values only: 96.99441564681271\n",
      "Pricing median 90.0\n",
      "Mean of Neighborhood Reviews:  3.7901785714285716\n",
      "Median of Neighborhood Reviews:  4.5\n",
      "None None\n",
      "First Hill\n",
      "Booked days mean: 100.42105263157895\n",
      "Booked days standard dev 40.28514478216548\n",
      "Mean of non zeros values only: 113.5\n",
      "Std of non zero values only: 65.81729762506713\n",
      "Pricing median 80.5\n",
      "Mean of Neighborhood Reviews:  3.43859649122807\n",
      "Median of Neighborhood Reviews:  4.5\n",
      "None None\n",
      "Wallingford\n",
      "Booked days mean: 114.21860465116279\n",
      "Booked days standard dev 86.98667969617313\n",
      "Mean of non zeros values only: 107.0\n",
      "Std of non zero values only: 62.0644825967316\n",
      "Pricing median 85.0\n",
      "Mean of Neighborhood Reviews:  4.404651162790698\n",
      "Median of Neighborhood Reviews:  5.0\n",
      "None None\n",
      "Minor\n",
      "Booked days mean: 99.1356783919598\n",
      "Booked days standard dev 56.963593093375195\n",
      "Mean of non zeros values only: 99.0\n",
      "Std of non zero values only: 57.445626465380286\n",
      "Pricing median 83.0\n",
      "Mean of Neighborhood Reviews:  4.600502512562814\n",
      "Median of Neighborhood Reviews:  5.0\n",
      "None None\n",
      "Central Business District\n",
      "Booked days mean: 132.30102040816325\n",
      "Booked days standard dev 62.65198824947086\n",
      "Mean of non zeros values only: 97.5\n",
      "Std of non zero values only: 56.5795899596312\n",
      "Pricing median 118.0\n",
      "Mean of Neighborhood Reviews:  2.4183673469387754\n",
      "Median of Neighborhood Reviews:  4.0\n",
      "None None\n",
      "Fremont\n",
      "Booked days mean: 120.55555555555556\n",
      "Booked days standard dev 94.45529349451942\n",
      "Mean of non zeros values only: 89.5\n",
      "Std of non zero values only: 51.96072234550504\n",
      "Pricing median 99.0\n",
      "Mean of Neighborhood Reviews:  4.530555555555556\n",
      "Median of Neighborhood Reviews:  5.0\n",
      "None None\n",
      "Stevens\n",
      "Booked days mean: 118.61635220125787\n",
      "Booked days standard dev 113.30366604349052\n",
      "Mean of non zeros values only: 79.0\n",
      "Std of non zero values only: 45.89843860815601\n",
      "Pricing median 99.0\n",
      "Mean of Neighborhood Reviews:  4.455974842767295\n",
      "Median of Neighborhood Reviews:  5.0\n",
      "None None\n",
      "University District\n",
      "Booked days mean: 99.1056338028169\n",
      "Booked days standard dev 86.86898891932555\n",
      "Mean of non zeros values only: 70.5\n",
      "Std of non zero values only: 40.99085263811915\n",
      "Pricing median 83.5\n",
      "Mean of Neighborhood Reviews:  3.693661971830986\n",
      "Median of Neighborhood Reviews:  4.5\n",
      "None None\n",
      "North Beacon Hill\n",
      "Booked days mean: 94.16528925619835\n",
      "Booked days standard dev 55.85153683709242\n",
      "Mean of non zeros values only: 60.0\n",
      "Std of non zero values only: 34.92849839314596\n",
      "Pricing median 82.0\n",
      "Mean of Neighborhood Reviews:  4.628099173553719\n",
      "Median of Neighborhood Reviews:  5.0\n",
      "None None\n"
     ]
    }
   ],
   "source": [
    "top_10_neighborhoods = [\"Broadway\", \"Belltown\", \"First Hill\", \"Wallingford\", \n",
    "                       \"Minor\", \"Central Business District\", \"Fremont\", \"Stevens\",\n",
    "                       \"University District\", \"North Beacon Hill\"]\n",
    "\n",
    "for j in top_10_neighborhoods:\n",
    "    print(j)\n",
    "    specific_neighborhood = seattle.loc[seattle.neighbourhood == j]\n",
    "    print(booked_means_std(specific_neighborhood), neighborhood_satisfaction(specific_neighborhood))"
   ]
  },
  {
   "cell_type": "markdown",
   "metadata": {},
   "source": [
    "Noticing a trend that the more popular neighborhoods have the higher mean of non-zero values. Correlation between neighborhood & price?\n",
    "\n",
    "the most popular neighborhood doesn't have the highest ratings of satisfaction afterwards\n",
    "\n",
    "What could I do with that though? Can I predict future prices with this?"
   ]
  },
  {
   "cell_type": "code",
   "execution_count": null,
   "metadata": {},
   "outputs": [],
   "source": [
    "#price of december vs other months. z test or t test :b\n",
    "#do mini project kind of stuff"
   ]
  },
  {
   "cell_type": "code",
   "execution_count": 167,
   "metadata": {},
   "outputs": [],
   "source": [
    "#trying some bootstrappping\n",
    "np.random.seed(47)\n",
    "N_rep = 10000"
   ]
  },
  {
   "cell_type": "code",
   "execution_count": 182,
   "metadata": {},
   "outputs": [
    {
     "data": {
      "text/plain": [
       "100.4392313996519"
      ]
     },
     "execution_count": 182,
     "metadata": {},
     "output_type": "execute_result"
    }
   ],
   "source": [
    "december_data = calendar.loc[calendar.month == \"December\"].price\n",
    "\n",
    "replicates = []\n",
    "for replicate in range(10000):\n",
    "    replicate = np.random.choice(december_data, len(december_data))\n",
    "    replicate_mean = np.mean(replicate)\n",
    "    replicates.append(replicate_mean)\n",
    "    \n",
    "dec_price_mean = np.mean(replicates)\n",
    "np.percentile(replicates, 5)"
   ]
  },
  {
   "cell_type": "code",
   "execution_count": 183,
   "metadata": {},
   "outputs": [
    {
     "data": {
      "text/plain": [
       "0.3169544138464255"
      ]
     },
     "execution_count": 183,
     "metadata": {},
     "output_type": "execute_result"
    }
   ],
   "source": [
    "dec_price_std = np.std(replicates, ddof = 1)\n",
    "dec_price_std"
   ]
  },
  {
   "cell_type": "code",
   "execution_count": 184,
   "metadata": {},
   "outputs": [],
   "source": [
    "x0 = calendar.loc[calendar.month == \"December\"].price\n",
    "x1 = calendar.loc[calendar.month != \"December\"].price"
   ]
  },
  {
   "cell_type": "code",
   "execution_count": 185,
   "metadata": {},
   "outputs": [],
   "source": [
    "# bootstrap replicate function\n",
    "def bs_replicate_1d(data, func, **kwargs):\n",
    "    \"\"\"Generate bootstrap replicate of 1D data\"\"\"\n",
    "    bs_sample = np.random.choice(data, len(data))\n",
    "    return func(bs_sample, **kwargs)"
   ]
  },
  {
   "cell_type": "code",
   "execution_count": 186,
   "metadata": {},
   "outputs": [],
   "source": [
    "def std_diff(x0, x1):\n",
    "    s0 = bs_replicate_1d(x0, np.std)\n",
    "    s1 = bs_replicate_1d(x1, np.std)\n",
    "    return s0 - s1"
   ]
  },
  {
   "cell_type": "code",
   "execution_count": 193,
   "metadata": {},
   "outputs": [],
   "source": [
    "seed(47)\n",
    "std_diffs = [std_diff(x1, x0) for i in np.arange(1000)]"
   ]
  },
  {
   "cell_type": "code",
   "execution_count": 194,
   "metadata": {},
   "outputs": [
    {
     "data": {
      "text/plain": [
       "array([-2.46412412,  0.4812325 ])"
      ]
     },
     "execution_count": 194,
     "metadata": {},
     "output_type": "execute_result"
    }
   ],
   "source": [
    "sd_diff_pc = np.percentile(std_diffs, [2.5, 97.5])\n",
    "sd_diff_pc"
   ]
  },
  {
   "cell_type": "code",
   "execution_count": 197,
   "metadata": {},
   "outputs": [
    {
     "data": {
      "text/plain": [
       "array([-2.8041568 ,  0.92804639])"
      ]
     },
     "execution_count": 197,
     "metadata": {},
     "output_type": "execute_result"
    }
   ],
   "source": [
    "rep_x0 = []\n",
    "for recplicate in range(10000):\n",
    "    replicate = np.random.choice(x0, len(december_data))\n",
    "    replicate_std = np.std(replicate)\n",
    "    rep_x0.append(replicate_std)\n",
    "\n",
    "rep_x1 = []\n",
    "for recplicate in range(10000):\n",
    "    replicate = np.random.choice(x1, len(december_data))\n",
    "    replicate_std = np.std(replicate)\n",
    "    rep_x1.append(replicate_std)\n",
    "    \n",
    "std_subs = np.subtract(rep_x1, rep_x0)\n",
    "percentiles = np.percentile(std_subs, [2.5, 97.5])\n",
    "percentiles"
   ]
  },
  {
   "cell_type": "code",
   "execution_count": 198,
   "metadata": {},
   "outputs": [
    {
     "data": {
      "image/png": "[encoded data removed]",
      "text/plain": [
       "<Figure size 432x288 with 1 Axes>"
      ]
     },
     "metadata": {
      "needs_background": "light"
     },
     "output_type": "display_data"
    }
   ],
   "source": [
    "plt.hist(std_subs, bins = 100)\n",
    "_ = plt.axvline(percentiles[0], color='r', linestyle = \"--\")\n",
    "_ = plt.axvline(percentiles[1], color='r', linestyle = \"--\")\n"
   ]
  },
  {
   "cell_type": "code",
   "execution_count": null,
   "metadata": {},
   "outputs": [],
   "source": []
  },
  {
   "cell_type": "code",
   "execution_count": null,
   "metadata": {},
   "outputs": [],
   "source": []
  },
  {
   "cell_type": "code",
   "execution_count": null,
   "metadata": {},
   "outputs": [],
   "source": []
  },
  {
   "cell_type": "code",
   "execution_count": null,
   "metadata": {},
   "outputs": [],
   "source": []
  }
 ],
 "metadata": {
  "kernelspec": {
   "display_name": "Python 3",
   "language": "python",
   "name": "python3"
  },
  "language_info": {
   "codemirror_mode": {
    "name": "ipython",
    "version": 3
   },
   "file_extension": ".py",
   "mimetype": "text/x-python",
   "name": "python",
   "nbconvert_exporter": "python",
   "pygments_lexer": "ipython3",
   "version": "3.7.3"
  }
 },
 "nbformat": 4,
 "nbformat_minor": 2
}
