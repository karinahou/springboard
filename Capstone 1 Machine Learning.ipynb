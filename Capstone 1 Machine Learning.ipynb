{
 "cells": [
  {
   "cell_type": "code",
   "execution_count": 3,
   "metadata": {},
   "outputs": [],
   "source": [
    "# special IPython command to prepare the notebook for matplotlib and other libraries\n",
    "%matplotlib inline \n",
    "\n",
    "import numpy as np\n",
    "import pandas as pd\n",
    "import scipy.stats as stats\n",
    "import matplotlib.pyplot as plt\n",
    "import sklearn\n",
    "\n",
    "import seaborn as sns\n",
    "\n",
    "# special matplotlib argument for improved plots\n",
    "from matplotlib import rcParams\n",
    "sns.set_style(\"whitegrid\")\n",
    "sns.set_context(\"poster\")"
   ]
  },
  {
   "cell_type": "code",
   "execution_count": 4,
   "metadata": {},
   "outputs": [],
   "source": [
    "seattle = pd.read_csv(\"/Users/karinahou/Desktop/Data Science Bootcamp/Seattle DF Cleaned.csv\")\n",
    "#seattle = pd.read_csv(\"../data/Seattle DF Cleaned.csv\")\n",
    "calendar = pd.read_csv(\"/Users/karinahou/Desktop/Data Science Bootcamp/Calendar Cleaned.csv\")"
   ]
  },
  {
   "cell_type": "code",
   "execution_count": 5,
   "metadata": {},
   "outputs": [
    {
     "data": {
      "text/html": [
       "<div>\n",
       "<style scoped>\n",
       "    .dataframe tbody tr th:only-of-type {\n",
       "        vertical-align: middle;\n",
       "    }\n",
       "\n",
       "    .dataframe tbody tr th {\n",
       "        vertical-align: top;\n",
       "    }\n",
       "\n",
       "    .dataframe thead th {\n",
       "        text-align: right;\n",
       "    }\n",
       "</style>\n",
       "<table border=\"1\" class=\"dataframe\">\n",
       "  <thead>\n",
       "    <tr style=\"text-align: right;\">\n",
       "      <th></th>\n",
       "      <th>room_id</th>\n",
       "      <th>host_id</th>\n",
       "      <th>room_type</th>\n",
       "      <th>address</th>\n",
       "      <th>reviews</th>\n",
       "      <th>overall_satisfaction</th>\n",
       "      <th>accommodates</th>\n",
       "      <th>bedrooms</th>\n",
       "      <th>price</th>\n",
       "      <th>last_modified</th>\n",
       "      <th>latitude</th>\n",
       "      <th>longitude</th>\n",
       "      <th>location</th>\n",
       "      <th>name</th>\n",
       "      <th>currency</th>\n",
       "      <th>rate_type</th>\n",
       "      <th>id</th>\n",
       "      <th>neighbourhood_group</th>\n",
       "      <th>neighbourhood</th>\n",
       "      <th>minimum_nights</th>\n",
       "      <th>last_review</th>\n",
       "      <th>availability_365</th>\n",
       "    </tr>\n",
       "  </thead>\n",
       "  <tbody>\n",
       "    <tr>\n",
       "      <th>0</th>\n",
       "      <td>2318</td>\n",
       "      <td>2536</td>\n",
       "      <td>Entire home/apt</td>\n",
       "      <td>Seattle, WA, United States</td>\n",
       "      <td>21</td>\n",
       "      <td>5.0</td>\n",
       "      <td>8</td>\n",
       "      <td>4.0</td>\n",
       "      <td>250</td>\n",
       "      <td>2018-12-20 03:46:14.698548</td>\n",
       "      <td>47.610819</td>\n",
       "      <td>-122.290816</td>\n",
       "      <td>0101000020E6100000D449B6BA9C925EC0416326512FCE...</td>\n",
       "      <td>Casa Madrona - Urban Oasis, 1 block from the P...</td>\n",
       "      <td>USD</td>\n",
       "      <td>nightly</td>\n",
       "      <td>2318</td>\n",
       "      <td>Central Area</td>\n",
       "      <td>Madrona</td>\n",
       "      <td>4</td>\n",
       "      <td>2019-06-18</td>\n",
       "      <td>335</td>\n",
       "    </tr>\n",
       "    <tr>\n",
       "      <th>1</th>\n",
       "      <td>5682</td>\n",
       "      <td>8993</td>\n",
       "      <td>Entire home/apt</td>\n",
       "      <td>Seattle, WA, United States</td>\n",
       "      <td>462</td>\n",
       "      <td>5.0</td>\n",
       "      <td>2</td>\n",
       "      <td>0.0</td>\n",
       "      <td>49</td>\n",
       "      <td>2018-12-20 04:11:25.482975</td>\n",
       "      <td>47.523980</td>\n",
       "      <td>-122.359891</td>\n",
       "      <td>0101000020E6100000FCC7427408975EC009E1D1C611C3...</td>\n",
       "      <td>Cozy Studio, min. to downtown -WiFi</td>\n",
       "      <td>USD</td>\n",
       "      <td>nightly</td>\n",
       "      <td>5682</td>\n",
       "      <td>Delridge</td>\n",
       "      <td>South Delridge</td>\n",
       "      <td>3</td>\n",
       "      <td>2018-11-24</td>\n",
       "      <td>0</td>\n",
       "    </tr>\n",
       "    <tr>\n",
       "      <th>2</th>\n",
       "      <td>6606</td>\n",
       "      <td>14942</td>\n",
       "      <td>Entire home/apt</td>\n",
       "      <td>Seattle, WA, United States</td>\n",
       "      <td>134</td>\n",
       "      <td>4.5</td>\n",
       "      <td>2</td>\n",
       "      <td>1.0</td>\n",
       "      <td>90</td>\n",
       "      <td>2018-12-20 03:12:38.391711</td>\n",
       "      <td>47.654109</td>\n",
       "      <td>-122.337605</td>\n",
       "      <td>0101000020E6100000D47D00529B955EC07782FDD7B9D3...</td>\n",
       "      <td>Fab, private seattle urban cottage!</td>\n",
       "      <td>USD</td>\n",
       "      <td>nightly</td>\n",
       "      <td>6606</td>\n",
       "      <td>Other neighborhoods</td>\n",
       "      <td>Wallingford</td>\n",
       "      <td>2</td>\n",
       "      <td>2019-06-23</td>\n",
       "      <td>43</td>\n",
       "    </tr>\n",
       "    <tr>\n",
       "      <th>3</th>\n",
       "      <td>9419</td>\n",
       "      <td>30559</td>\n",
       "      <td>Private room</td>\n",
       "      <td>Seattle, WA, United States</td>\n",
       "      <td>130</td>\n",
       "      <td>4.5</td>\n",
       "      <td>2</td>\n",
       "      <td>1.0</td>\n",
       "      <td>65</td>\n",
       "      <td>2018-12-20 04:08:20.099202</td>\n",
       "      <td>47.550167</td>\n",
       "      <td>-122.319366</td>\n",
       "      <td>0101000020E6100000145D177E70945EC0522B4CDF6BC6...</td>\n",
       "      <td>Glorious sun room w/ memory foambed</td>\n",
       "      <td>USD</td>\n",
       "      <td>nightly</td>\n",
       "      <td>9419</td>\n",
       "      <td>Other neighborhoods</td>\n",
       "      <td>Georgetown</td>\n",
       "      <td>2</td>\n",
       "      <td>2019-06-23</td>\n",
       "      <td>356</td>\n",
       "    </tr>\n",
       "    <tr>\n",
       "      <th>4</th>\n",
       "      <td>9460</td>\n",
       "      <td>30832</td>\n",
       "      <td>Private room</td>\n",
       "      <td>Seattle, WA, United States</td>\n",
       "      <td>401</td>\n",
       "      <td>5.0</td>\n",
       "      <td>2</td>\n",
       "      <td>1.0</td>\n",
       "      <td>78</td>\n",
       "      <td>2018-12-20 03:45:03.853262</td>\n",
       "      <td>47.608010</td>\n",
       "      <td>-122.328739</td>\n",
       "      <td>0101000020E6100000DD7A4D0F0A955EC00BD28C45D3CD...</td>\n",
       "      <td>Downtown/Convention Ctr B&amp;B - Nice!</td>\n",
       "      <td>USD</td>\n",
       "      <td>nightly</td>\n",
       "      <td>9460</td>\n",
       "      <td>Downtown</td>\n",
       "      <td>First Hill</td>\n",
       "      <td>3</td>\n",
       "      <td>2019-07-07</td>\n",
       "      <td>87</td>\n",
       "    </tr>\n",
       "  </tbody>\n",
       "</table>\n",
       "</div>"
      ],
      "text/plain": [
       "   room_id  host_id        room_type                     address  reviews  \\\n",
       "0     2318     2536  Entire home/apt  Seattle, WA, United States       21   \n",
       "1     5682     8993  Entire home/apt  Seattle, WA, United States      462   \n",
       "2     6606    14942  Entire home/apt  Seattle, WA, United States      134   \n",
       "3     9419    30559     Private room  Seattle, WA, United States      130   \n",
       "4     9460    30832     Private room  Seattle, WA, United States      401   \n",
       "\n",
       "   overall_satisfaction  accommodates  bedrooms  price  \\\n",
       "0                   5.0             8       4.0    250   \n",
       "1                   5.0             2       0.0     49   \n",
       "2                   4.5             2       1.0     90   \n",
       "3                   4.5             2       1.0     65   \n",
       "4                   5.0             2       1.0     78   \n",
       "\n",
       "                last_modified   latitude   longitude  \\\n",
       "0  2018-12-20 03:46:14.698548  47.610819 -122.290816   \n",
       "1  2018-12-20 04:11:25.482975  47.523980 -122.359891   \n",
       "2  2018-12-20 03:12:38.391711  47.654109 -122.337605   \n",
       "3  2018-12-20 04:08:20.099202  47.550167 -122.319366   \n",
       "4  2018-12-20 03:45:03.853262  47.608010 -122.328739   \n",
       "\n",
       "                                            location  \\\n",
       "0  0101000020E6100000D449B6BA9C925EC0416326512FCE...   \n",
       "1  0101000020E6100000FCC7427408975EC009E1D1C611C3...   \n",
       "2  0101000020E6100000D47D00529B955EC07782FDD7B9D3...   \n",
       "3  0101000020E6100000145D177E70945EC0522B4CDF6BC6...   \n",
       "4  0101000020E6100000DD7A4D0F0A955EC00BD28C45D3CD...   \n",
       "\n",
       "                                                name currency rate_type    id  \\\n",
       "0  Casa Madrona - Urban Oasis, 1 block from the P...      USD   nightly  2318   \n",
       "1                Cozy Studio, min. to downtown -WiFi      USD   nightly  5682   \n",
       "2                Fab, private seattle urban cottage!      USD   nightly  6606   \n",
       "3                Glorious sun room w/ memory foambed      USD   nightly  9419   \n",
       "4                Downtown/Convention Ctr B&B - Nice!      USD   nightly  9460   \n",
       "\n",
       "   neighbourhood_group   neighbourhood  minimum_nights last_review  \\\n",
       "0         Central Area         Madrona               4  2019-06-18   \n",
       "1             Delridge  South Delridge               3  2018-11-24   \n",
       "2  Other neighborhoods     Wallingford               2  2019-06-23   \n",
       "3  Other neighborhoods      Georgetown               2  2019-06-23   \n",
       "4             Downtown      First Hill               3  2019-07-07   \n",
       "\n",
       "   availability_365  \n",
       "0               335  \n",
       "1                 0  \n",
       "2                43  \n",
       "3               356  \n",
       "4                87  "
      ]
     },
     "execution_count": 5,
     "metadata": {},
     "output_type": "execute_result"
    }
   ],
   "source": [
    "pd.set_option('display.max_columns', 500)\n",
    "seattle.head()"
   ]
  },
  {
   "cell_type": "code",
   "execution_count": 6,
   "metadata": {},
   "outputs": [
    {
     "data": {
      "text/html": [
       "<div>\n",
       "<style scoped>\n",
       "    .dataframe tbody tr th:only-of-type {\n",
       "        vertical-align: middle;\n",
       "    }\n",
       "\n",
       "    .dataframe tbody tr th {\n",
       "        vertical-align: top;\n",
       "    }\n",
       "\n",
       "    .dataframe thead th {\n",
       "        text-align: right;\n",
       "    }\n",
       "</style>\n",
       "<table border=\"1\" class=\"dataframe\">\n",
       "  <thead>\n",
       "    <tr style=\"text-align: right;\">\n",
       "      <th></th>\n",
       "      <th>room_type</th>\n",
       "      <th>reviews</th>\n",
       "      <th>overall_satisfaction</th>\n",
       "      <th>accommodates</th>\n",
       "      <th>bedrooms</th>\n",
       "      <th>price</th>\n",
       "      <th>latitude</th>\n",
       "      <th>longitude</th>\n",
       "      <th>minimum_nights</th>\n",
       "      <th>availability_365</th>\n",
       "    </tr>\n",
       "  </thead>\n",
       "  <tbody>\n",
       "    <tr>\n",
       "      <th>0</th>\n",
       "      <td>Entire home/apt</td>\n",
       "      <td>21</td>\n",
       "      <td>5.0</td>\n",
       "      <td>8</td>\n",
       "      <td>4.0</td>\n",
       "      <td>250</td>\n",
       "      <td>47.610819</td>\n",
       "      <td>-122.290816</td>\n",
       "      <td>4</td>\n",
       "      <td>335</td>\n",
       "    </tr>\n",
       "    <tr>\n",
       "      <th>1</th>\n",
       "      <td>Entire home/apt</td>\n",
       "      <td>462</td>\n",
       "      <td>5.0</td>\n",
       "      <td>2</td>\n",
       "      <td>0.0</td>\n",
       "      <td>49</td>\n",
       "      <td>47.523980</td>\n",
       "      <td>-122.359891</td>\n",
       "      <td>3</td>\n",
       "      <td>0</td>\n",
       "    </tr>\n",
       "    <tr>\n",
       "      <th>2</th>\n",
       "      <td>Entire home/apt</td>\n",
       "      <td>134</td>\n",
       "      <td>4.5</td>\n",
       "      <td>2</td>\n",
       "      <td>1.0</td>\n",
       "      <td>90</td>\n",
       "      <td>47.654109</td>\n",
       "      <td>-122.337605</td>\n",
       "      <td>2</td>\n",
       "      <td>43</td>\n",
       "    </tr>\n",
       "    <tr>\n",
       "      <th>3</th>\n",
       "      <td>Private room</td>\n",
       "      <td>130</td>\n",
       "      <td>4.5</td>\n",
       "      <td>2</td>\n",
       "      <td>1.0</td>\n",
       "      <td>65</td>\n",
       "      <td>47.550167</td>\n",
       "      <td>-122.319366</td>\n",
       "      <td>2</td>\n",
       "      <td>356</td>\n",
       "    </tr>\n",
       "    <tr>\n",
       "      <th>4</th>\n",
       "      <td>Private room</td>\n",
       "      <td>401</td>\n",
       "      <td>5.0</td>\n",
       "      <td>2</td>\n",
       "      <td>1.0</td>\n",
       "      <td>78</td>\n",
       "      <td>47.608010</td>\n",
       "      <td>-122.328739</td>\n",
       "      <td>3</td>\n",
       "      <td>87</td>\n",
       "    </tr>\n",
       "  </tbody>\n",
       "</table>\n",
       "</div>"
      ],
      "text/plain": [
       "         room_type  reviews  overall_satisfaction  accommodates  bedrooms  \\\n",
       "0  Entire home/apt       21                   5.0             8       4.0   \n",
       "1  Entire home/apt      462                   5.0             2       0.0   \n",
       "2  Entire home/apt      134                   4.5             2       1.0   \n",
       "3     Private room      130                   4.5             2       1.0   \n",
       "4     Private room      401                   5.0             2       1.0   \n",
       "\n",
       "   price   latitude   longitude  minimum_nights  availability_365  \n",
       "0    250  47.610819 -122.290816               4               335  \n",
       "1     49  47.523980 -122.359891               3                 0  \n",
       "2     90  47.654109 -122.337605               2                43  \n",
       "3     65  47.550167 -122.319366               2               356  \n",
       "4     78  47.608010 -122.328739               3                87  "
      ]
     },
     "execution_count": 6,
     "metadata": {},
     "output_type": "execute_result"
    }
   ],
   "source": [
    "#remove IDs, lat long columns, address, name, locations, any columns that won't help predict price\n",
    "seattle_dropped = seattle.drop([\"room_id\", \"host_id\", \"id\", \"address\", \"last_modified\", \"name\", \"currency\", \"rate_type\", \"last_review\", \"neighbourhood\", \"neighbourhood_group\", \"location\"], axis = 1);\n",
    "seattle_dropped.head()"
   ]
  },
  {
   "cell_type": "code",
   "execution_count": 7,
   "metadata": {},
   "outputs": [
    {
     "data": {
      "text/html": [
       "<div>\n",
       "<style scoped>\n",
       "    .dataframe tbody tr th:only-of-type {\n",
       "        vertical-align: middle;\n",
       "    }\n",
       "\n",
       "    .dataframe tbody tr th {\n",
       "        vertical-align: top;\n",
       "    }\n",
       "\n",
       "    .dataframe thead th {\n",
       "        text-align: right;\n",
       "    }\n",
       "</style>\n",
       "<table border=\"1\" class=\"dataframe\">\n",
       "  <thead>\n",
       "    <tr style=\"text-align: right;\">\n",
       "      <th></th>\n",
       "      <th>reviews</th>\n",
       "      <th>overall_satisfaction</th>\n",
       "      <th>accommodates</th>\n",
       "      <th>bedrooms</th>\n",
       "      <th>price</th>\n",
       "      <th>latitude</th>\n",
       "      <th>longitude</th>\n",
       "      <th>minimum_nights</th>\n",
       "      <th>availability_365</th>\n",
       "    </tr>\n",
       "  </thead>\n",
       "  <tbody>\n",
       "    <tr>\n",
       "      <th>count</th>\n",
       "      <td>5345.000000</td>\n",
       "      <td>5345.000000</td>\n",
       "      <td>5345.000000</td>\n",
       "      <td>5345.000000</td>\n",
       "      <td>5345.000000</td>\n",
       "      <td>5345.000000</td>\n",
       "      <td>5345.000000</td>\n",
       "      <td>5345.000000</td>\n",
       "      <td>5345.000000</td>\n",
       "    </tr>\n",
       "    <tr>\n",
       "      <th>mean</th>\n",
       "      <td>55.987839</td>\n",
       "      <td>4.149579</td>\n",
       "      <td>3.765762</td>\n",
       "      <td>1.376614</td>\n",
       "      <td>111.263798</td>\n",
       "      <td>47.625122</td>\n",
       "      <td>-122.334214</td>\n",
       "      <td>3.705332</td>\n",
       "      <td>152.499719</td>\n",
       "    </tr>\n",
       "    <tr>\n",
       "      <th>std</th>\n",
       "      <td>70.842741</td>\n",
       "      <td>1.733652</td>\n",
       "      <td>2.396071</td>\n",
       "      <td>1.026855</td>\n",
       "      <td>90.673691</td>\n",
       "      <td>0.044395</td>\n",
       "      <td>0.031984</td>\n",
       "      <td>12.178953</td>\n",
       "      <td>121.761117</td>\n",
       "    </tr>\n",
       "    <tr>\n",
       "      <th>min</th>\n",
       "      <td>0.000000</td>\n",
       "      <td>0.000000</td>\n",
       "      <td>1.000000</td>\n",
       "      <td>0.000000</td>\n",
       "      <td>15.000000</td>\n",
       "      <td>47.508078</td>\n",
       "      <td>-122.419637</td>\n",
       "      <td>1.000000</td>\n",
       "      <td>0.000000</td>\n",
       "    </tr>\n",
       "    <tr>\n",
       "      <th>25%</th>\n",
       "      <td>7.000000</td>\n",
       "      <td>4.500000</td>\n",
       "      <td>2.000000</td>\n",
       "      <td>1.000000</td>\n",
       "      <td>65.000000</td>\n",
       "      <td>47.604686</td>\n",
       "      <td>-122.354914</td>\n",
       "      <td>1.000000</td>\n",
       "      <td>38.000000</td>\n",
       "    </tr>\n",
       "    <tr>\n",
       "      <th>50%</th>\n",
       "      <td>29.000000</td>\n",
       "      <td>5.000000</td>\n",
       "      <td>3.000000</td>\n",
       "      <td>1.000000</td>\n",
       "      <td>88.000000</td>\n",
       "      <td>47.620188</td>\n",
       "      <td>-122.332168</td>\n",
       "      <td>2.000000</td>\n",
       "      <td>130.000000</td>\n",
       "    </tr>\n",
       "    <tr>\n",
       "      <th>75%</th>\n",
       "      <td>79.000000</td>\n",
       "      <td>5.000000</td>\n",
       "      <td>5.000000</td>\n",
       "      <td>2.000000</td>\n",
       "      <td>125.000000</td>\n",
       "      <td>47.659153</td>\n",
       "      <td>-122.311937</td>\n",
       "      <td>3.000000</td>\n",
       "      <td>280.000000</td>\n",
       "    </tr>\n",
       "    <tr>\n",
       "      <th>max</th>\n",
       "      <td>687.000000</td>\n",
       "      <td>5.000000</td>\n",
       "      <td>28.000000</td>\n",
       "      <td>8.000000</td>\n",
       "      <td>1650.000000</td>\n",
       "      <td>47.723050</td>\n",
       "      <td>-122.241349</td>\n",
       "      <td>365.000000</td>\n",
       "      <td>365.000000</td>\n",
       "    </tr>\n",
       "  </tbody>\n",
       "</table>\n",
       "</div>"
      ],
      "text/plain": [
       "           reviews  overall_satisfaction  accommodates     bedrooms  \\\n",
       "count  5345.000000           5345.000000   5345.000000  5345.000000   \n",
       "mean     55.987839              4.149579      3.765762     1.376614   \n",
       "std      70.842741              1.733652      2.396071     1.026855   \n",
       "min       0.000000              0.000000      1.000000     0.000000   \n",
       "25%       7.000000              4.500000      2.000000     1.000000   \n",
       "50%      29.000000              5.000000      3.000000     1.000000   \n",
       "75%      79.000000              5.000000      5.000000     2.000000   \n",
       "max     687.000000              5.000000     28.000000     8.000000   \n",
       "\n",
       "             price     latitude    longitude  minimum_nights  availability_365  \n",
       "count  5345.000000  5345.000000  5345.000000     5345.000000       5345.000000  \n",
       "mean    111.263798    47.625122  -122.334214        3.705332        152.499719  \n",
       "std      90.673691     0.044395     0.031984       12.178953        121.761117  \n",
       "min      15.000000    47.508078  -122.419637        1.000000          0.000000  \n",
       "25%      65.000000    47.604686  -122.354914        1.000000         38.000000  \n",
       "50%      88.000000    47.620188  -122.332168        2.000000        130.000000  \n",
       "75%     125.000000    47.659153  -122.311937        3.000000        280.000000  \n",
       "max    1650.000000    47.723050  -122.241349      365.000000        365.000000  "
      ]
     },
     "execution_count": 7,
     "metadata": {},
     "output_type": "execute_result"
    }
   ],
   "source": [
    "seattle_dropped.describe()"
   ]
  },
  {
   "cell_type": "code",
   "execution_count": 8,
   "metadata": {},
   "outputs": [],
   "source": [
    "import statsmodels.api as sm\n",
    "from statsmodels.formula.api import ols"
   ]
  },
  {
   "cell_type": "code",
   "execution_count": 9,
   "metadata": {},
   "outputs": [
    {
     "name": "stdout",
     "output_type": "stream",
     "text": [
      "                            OLS Regression Results                            \n",
      "==============================================================================\n",
      "Dep. Variable:                  price   R-squared:                       0.354\n",
      "Model:                            OLS   Adj. R-squared:                  0.354\n",
      "Method:                 Least Squares   F-statistic:                     2932.\n",
      "Date:                Mon, 27 Jan 2020   Prob (F-statistic):               0.00\n",
      "Time:                        14:06:36   Log-Likelihood:                -30506.\n",
      "No. Observations:                5345   AIC:                         6.102e+04\n",
      "Df Residuals:                    5343   BIC:                         6.103e+04\n",
      "Df Model:                           1                                         \n",
      "Covariance Type:            nonrobust                                         \n",
      "==============================================================================\n",
      "                 coef    std err          t      P>|t|      [0.025      0.975]\n",
      "------------------------------------------------------------------------------\n",
      "Intercept     38.9080      1.667     23.339      0.000      35.640      42.176\n",
      "bedrooms      52.5607      0.971     54.146      0.000      50.658      54.464\n",
      "==============================================================================\n",
      "Omnibus:                     5283.571   Durbin-Watson:                   1.901\n",
      "Prob(Omnibus):                  0.000   Jarque-Bera (JB):           524231.539\n",
      "Skew:                           4.587   Prob(JB):                         0.00\n",
      "Kurtosis:                      50.642   Cond. No.                         3.57\n",
      "==============================================================================\n",
      "\n",
      "Warnings:\n",
      "[1] Standard Errors assume that the covariance matrix of the errors is correctly specified.\n"
     ]
    }
   ],
   "source": [
    "m = ols('price ~ bedrooms',seattle_dropped).fit()\n",
    "print(m.summary())"
   ]
  },
  {
   "cell_type": "code",
   "execution_count": 10,
   "metadata": {},
   "outputs": [
    {
     "name": "stdout",
     "output_type": "stream",
     "text": [
      "                            OLS Regression Results                            \n",
      "==============================================================================\n",
      "Dep. Variable:                  price   R-squared:                       0.363\n",
      "Model:                            OLS   Adj. R-squared:                  0.362\n",
      "Method:                 Least Squares   F-statistic:                     759.3\n",
      "Date:                Mon, 27 Jan 2020   Prob (F-statistic):               0.00\n",
      "Time:                        14:06:36   Log-Likelihood:                -30472.\n",
      "No. Observations:                5345   AIC:                         6.095e+04\n",
      "Df Residuals:                    5340   BIC:                         6.099e+04\n",
      "Df Model:                           4                                         \n",
      "Covariance Type:            nonrobust                                         \n",
      "========================================================================================\n",
      "                           coef    std err          t      P>|t|      [0.025      0.975]\n",
      "----------------------------------------------------------------------------------------\n",
      "Intercept               43.1901      3.281     13.163      0.000      36.758      49.622\n",
      "bedrooms                52.2863      0.966     54.145      0.000      50.393      54.179\n",
      "overall_satisfaction    -2.8558      0.577     -4.952      0.000      -3.986      -1.725\n",
      "availability_365         0.0510      0.008      6.247      0.000       0.035       0.067\n",
      "minimum_nights           0.0451      0.082      0.550      0.582      -0.116       0.206\n",
      "==============================================================================\n",
      "Omnibus:                     5249.097   Durbin-Watson:                   1.891\n",
      "Prob(Omnibus):                  0.000   Jarque-Bera (JB):           515561.736\n",
      "Skew:                           4.538   Prob(JB):                         0.00\n",
      "Kurtosis:                      50.250   Cond. No.                         658.\n",
      "==============================================================================\n",
      "\n",
      "Warnings:\n",
      "[1] Standard Errors assume that the covariance matrix of the errors is correctly specified.\n"
     ]
    }
   ],
   "source": [
    "linprice = ols('price ~ bedrooms + overall_satisfaction + availability_365 + minimum_nights',seattle_dropped).fit()\n",
    "print(linprice.summary())"
   ]
  },
  {
   "cell_type": "code",
   "execution_count": null,
   "metadata": {},
   "outputs": [],
   "source": []
  },
  {
   "cell_type": "code",
   "execution_count": 16,
   "metadata": {},
   "outputs": [
    {
     "ename": "ValueError",
     "evalue": "could not convert string to float: 'Entire home/apt'",
     "output_type": "error",
     "traceback": [
      "\u001b[0;31m---------------------------------------------------------------------------\u001b[0m",
      "\u001b[0;31mValueError\u001b[0m                                Traceback (most recent call last)",
      "\u001b[0;32m<ipython-input-16-032921924b98>\u001b[0m in \u001b[0;36m<module>\u001b[0;34m\u001b[0m\n\u001b[1;32m      1\u001b[0m \u001b[0;31m# your turn\u001b[0m\u001b[0;34m\u001b[0m\u001b[0;34m\u001b[0m\u001b[0;34m\u001b[0m\u001b[0m\n\u001b[0;32m----> 2\u001b[0;31m \u001b[0mlm\u001b[0m\u001b[0;34m.\u001b[0m\u001b[0mfit\u001b[0m\u001b[0;34m(\u001b[0m\u001b[0mX\u001b[0m\u001b[0;34m,\u001b[0m \u001b[0mseattle_dropped\u001b[0m\u001b[0;34m.\u001b[0m\u001b[0mbedrooms\u001b[0m\u001b[0;34m)\u001b[0m\u001b[0;34m\u001b[0m\u001b[0;34m\u001b[0m\u001b[0m\n\u001b[0m\u001b[1;32m      3\u001b[0m \u001b[0;34m\u001b[0m\u001b[0m\n\u001b[1;32m      4\u001b[0m \u001b[0mess\u001b[0m \u001b[0;34m=\u001b[0m \u001b[0mnp\u001b[0m\u001b[0;34m.\u001b[0m\u001b[0msum\u001b[0m\u001b[0;34m(\u001b[0m\u001b[0;34m(\u001b[0m\u001b[0mlm\u001b[0m\u001b[0;34m.\u001b[0m\u001b[0mpredict\u001b[0m\u001b[0;34m(\u001b[0m\u001b[0mX\u001b[0m\u001b[0;34m)\u001b[0m \u001b[0;34m-\u001b[0m \u001b[0mnp\u001b[0m\u001b[0;34m.\u001b[0m\u001b[0mmean\u001b[0m\u001b[0;34m(\u001b[0m\u001b[0mseattle_dropped\u001b[0m\u001b[0;34m.\u001b[0m\u001b[0mbedrooms\u001b[0m\u001b[0;34m)\u001b[0m\u001b[0;34m)\u001b[0m \u001b[0;34m**\u001b[0m \u001b[0;36m2\u001b[0m\u001b[0;34m)\u001b[0m\u001b[0;34m\u001b[0m\u001b[0;34m\u001b[0m\u001b[0m\n\u001b[1;32m      5\u001b[0m \u001b[0mrss\u001b[0m \u001b[0;34m=\u001b[0m \u001b[0mnp\u001b[0m\u001b[0;34m.\u001b[0m\u001b[0msum\u001b[0m\u001b[0;34m(\u001b[0m\u001b[0;34m(\u001b[0m\u001b[0mseattle_dropped\u001b[0m\u001b[0;34m.\u001b[0m\u001b[0mbedrooms\u001b[0m \u001b[0;34m-\u001b[0m \u001b[0mlm\u001b[0m\u001b[0;34m.\u001b[0m\u001b[0mpredict\u001b[0m\u001b[0;34m(\u001b[0m\u001b[0mX\u001b[0m\u001b[0;34m)\u001b[0m\u001b[0;34m)\u001b[0m \u001b[0;34m**\u001b[0m \u001b[0;36m2\u001b[0m\u001b[0;34m)\u001b[0m\u001b[0;34m\u001b[0m\u001b[0;34m\u001b[0m\u001b[0m\n",
      "\u001b[0;32m/anaconda3/lib/python3.7/site-packages/sklearn/linear_model/base.py\u001b[0m in \u001b[0;36mfit\u001b[0;34m(self, X, y, sample_weight)\u001b[0m\n\u001b[1;32m    456\u001b[0m         \u001b[0mn_jobs_\u001b[0m \u001b[0;34m=\u001b[0m \u001b[0mself\u001b[0m\u001b[0;34m.\u001b[0m\u001b[0mn_jobs\u001b[0m\u001b[0;34m\u001b[0m\u001b[0;34m\u001b[0m\u001b[0m\n\u001b[1;32m    457\u001b[0m         X, y = check_X_y(X, y, accept_sparse=['csr', 'csc', 'coo'],\n\u001b[0;32m--> 458\u001b[0;31m                          y_numeric=True, multi_output=True)\n\u001b[0m\u001b[1;32m    459\u001b[0m \u001b[0;34m\u001b[0m\u001b[0m\n\u001b[1;32m    460\u001b[0m         \u001b[0;32mif\u001b[0m \u001b[0msample_weight\u001b[0m \u001b[0;32mis\u001b[0m \u001b[0;32mnot\u001b[0m \u001b[0;32mNone\u001b[0m \u001b[0;32mand\u001b[0m \u001b[0mnp\u001b[0m\u001b[0;34m.\u001b[0m\u001b[0matleast_1d\u001b[0m\u001b[0;34m(\u001b[0m\u001b[0msample_weight\u001b[0m\u001b[0;34m)\u001b[0m\u001b[0;34m.\u001b[0m\u001b[0mndim\u001b[0m \u001b[0;34m>\u001b[0m \u001b[0;36m1\u001b[0m\u001b[0;34m:\u001b[0m\u001b[0;34m\u001b[0m\u001b[0;34m\u001b[0m\u001b[0m\n",
      "\u001b[0;32m/anaconda3/lib/python3.7/site-packages/sklearn/utils/validation.py\u001b[0m in \u001b[0;36mcheck_X_y\u001b[0;34m(X, y, accept_sparse, accept_large_sparse, dtype, order, copy, force_all_finite, ensure_2d, allow_nd, multi_output, ensure_min_samples, ensure_min_features, y_numeric, warn_on_dtype, estimator)\u001b[0m\n\u001b[1;32m    754\u001b[0m                     \u001b[0mensure_min_features\u001b[0m\u001b[0;34m=\u001b[0m\u001b[0mensure_min_features\u001b[0m\u001b[0;34m,\u001b[0m\u001b[0;34m\u001b[0m\u001b[0;34m\u001b[0m\u001b[0m\n\u001b[1;32m    755\u001b[0m                     \u001b[0mwarn_on_dtype\u001b[0m\u001b[0;34m=\u001b[0m\u001b[0mwarn_on_dtype\u001b[0m\u001b[0;34m,\u001b[0m\u001b[0;34m\u001b[0m\u001b[0;34m\u001b[0m\u001b[0m\n\u001b[0;32m--> 756\u001b[0;31m                     estimator=estimator)\n\u001b[0m\u001b[1;32m    757\u001b[0m     \u001b[0;32mif\u001b[0m \u001b[0mmulti_output\u001b[0m\u001b[0;34m:\u001b[0m\u001b[0;34m\u001b[0m\u001b[0;34m\u001b[0m\u001b[0m\n\u001b[1;32m    758\u001b[0m         y = check_array(y, 'csr', force_all_finite=True, ensure_2d=False,\n",
      "\u001b[0;32m/anaconda3/lib/python3.7/site-packages/sklearn/utils/validation.py\u001b[0m in \u001b[0;36mcheck_array\u001b[0;34m(array, accept_sparse, accept_large_sparse, dtype, order, copy, force_all_finite, ensure_2d, allow_nd, ensure_min_samples, ensure_min_features, warn_on_dtype, estimator)\u001b[0m\n\u001b[1;32m    565\u001b[0m         \u001b[0;31m# make sure we actually converted to numeric:\u001b[0m\u001b[0;34m\u001b[0m\u001b[0;34m\u001b[0m\u001b[0;34m\u001b[0m\u001b[0m\n\u001b[1;32m    566\u001b[0m         \u001b[0;32mif\u001b[0m \u001b[0mdtype_numeric\u001b[0m \u001b[0;32mand\u001b[0m \u001b[0marray\u001b[0m\u001b[0;34m.\u001b[0m\u001b[0mdtype\u001b[0m\u001b[0;34m.\u001b[0m\u001b[0mkind\u001b[0m \u001b[0;34m==\u001b[0m \u001b[0;34m\"O\"\u001b[0m\u001b[0;34m:\u001b[0m\u001b[0;34m\u001b[0m\u001b[0;34m\u001b[0m\u001b[0m\n\u001b[0;32m--> 567\u001b[0;31m             \u001b[0marray\u001b[0m \u001b[0;34m=\u001b[0m \u001b[0marray\u001b[0m\u001b[0;34m.\u001b[0m\u001b[0mastype\u001b[0m\u001b[0;34m(\u001b[0m\u001b[0mnp\u001b[0m\u001b[0;34m.\u001b[0m\u001b[0mfloat64\u001b[0m\u001b[0;34m)\u001b[0m\u001b[0;34m\u001b[0m\u001b[0;34m\u001b[0m\u001b[0m\n\u001b[0m\u001b[1;32m    568\u001b[0m         \u001b[0;32mif\u001b[0m \u001b[0;32mnot\u001b[0m \u001b[0mallow_nd\u001b[0m \u001b[0;32mand\u001b[0m \u001b[0marray\u001b[0m\u001b[0;34m.\u001b[0m\u001b[0mndim\u001b[0m \u001b[0;34m>=\u001b[0m \u001b[0;36m3\u001b[0m\u001b[0;34m:\u001b[0m\u001b[0;34m\u001b[0m\u001b[0;34m\u001b[0m\u001b[0m\n\u001b[1;32m    569\u001b[0m             raise ValueError(\"Found array with dim %d. %s expected <= 2.\"\n",
      "\u001b[0;31mValueError\u001b[0m: could not convert string to float: 'Entire home/apt'"
     ]
    }
   ],
   "source": [
    "# your turn\n",
    "lm.fit(X, seattle_dropped.bedrooms)\n",
    "\n",
    "ess = np.sum((lm.predict(X) - np.mean(seattle_dropped.bedrooms)) ** 2)\n",
    "rss = np.sum((seattle_dropped.bedrooms - lm.predict(X)) ** 2)\n",
    "tss = rss + ess\n",
    "r2 = ess/tss\n",
    "\n",
    "k = 1\n",
    "mse = rss/(len(seattle_dropped.bedrooms) - k - 1)\n",
    "msr = ess/k\n",
    "f_stat = msr/mse\n",
    "\n",
    "print(\"R^2 value is: \", r2)\n",
    "print(\"F statistic is: \", f_stat)"
   ]
  },
  {
   "cell_type": "code",
   "execution_count": 17,
   "metadata": {},
   "outputs": [
    {
     "data": {
      "text/plain": [
       "<matplotlib.axes._subplots.AxesSubplot at 0x1a20dd6d68>"
      ]
     },
     "execution_count": 17,
     "metadata": {},
     "output_type": "execute_result"
    },
    {
     "data": {
      "image/png": "[encoded data removed]",
      "text/plain": [
       "<Figure size 432x288 with 1 Axes>"
      ]
     },
     "metadata": {
      "needs_background": "light"
     },
     "output_type": "display_data"
    }
   ],
   "source": [
    "sns.regplot(y=\"price\", x=\"bedrooms\", data=seattle_dropped, fit_reg = True)"
   ]
  },
  {
   "cell_type": "code",
   "execution_count": 18,
   "metadata": {},
   "outputs": [
    {
     "data": {
      "text/plain": [
       "Text(0.5, 1.0, 'Predicted Prices vs. Original Prices')"
      ]
     },
     "execution_count": 18,
     "metadata": {},
     "output_type": "execute_result"
    },
    {
     "data": {
      "image/png": "[encoded data removed]",
      "text/plain": [
       "<Figure size 504x504 with 1 Axes>"
      ]
     },
     "metadata": {
      "needs_background": "light"
     },
     "output_type": "display_data"
    }
   ],
   "source": [
    "plt.figure(figsize = (7,7))\n",
    "plt.scatter(m.fittedvalues, seattle_dropped.price)\n",
    "plt.xlabel(\"Housing Price of Fitted Model\")\n",
    "plt.ylabel(\"Housing Price Original\")\n",
    "plt.title(\"Predicted Prices vs. Original Prices\")"
   ]
  },
  {
   "cell_type": "code",
   "execution_count": 19,
   "metadata": {},
   "outputs": [],
   "source": [
    "from sklearn.linear_model import LinearRegression\n",
    "X = seattle_dropped.drop('price', axis = 1)\n",
    "\n",
    "# This creates a LinearRegression object\n",
    "lm = LinearRegression()"
   ]
  },
  {
   "cell_type": "code",
   "execution_count": 20,
   "metadata": {},
   "outputs": [
    {
     "name": "stdout",
     "output_type": "stream",
     "text": [
      "True <bound method LinearRegression.fit of LinearRegression(copy_X=True, fit_intercept=True, n_jobs=None,\n",
      "         normalize=False)> True <bound method BaseEstimator.get_params of LinearRegression(copy_X=True, fit_intercept=True, n_jobs=None,\n",
      "         normalize=False)> None False <bound method LinearModel.predict of LinearRegression(copy_X=True, fit_intercept=True, n_jobs=None,\n",
      "         normalize=False)> <bound method RegressorMixin.score of LinearRegression(copy_X=True, fit_intercept=True, n_jobs=None,\n",
      "         normalize=False)> <bound method BaseEstimator.set_params of LinearRegression(copy_X=True, fit_intercept=True, n_jobs=None,\n",
      "         normalize=False)>\n"
     ]
    }
   ],
   "source": [
    "print(lm.copy_X, lm.fit, lm.fit_intercept, lm.get_params, lm.n_jobs, lm.normalize, lm.predict, lm.score, lm.set_params)"
   ]
  },
  {
   "cell_type": "code",
   "execution_count": null,
   "metadata": {},
   "outputs": [],
   "source": []
  },
  {
   "cell_type": "code",
   "execution_count": 21,
   "metadata": {},
   "outputs": [
    {
     "data": {
      "text/plain": [
       "LabelEncoder()"
      ]
     },
     "execution_count": 21,
     "metadata": {},
     "output_type": "execute_result"
    }
   ],
   "source": [
    "from sklearn import preprocessing\n",
    "le = preprocessing.LabelEncoder()\n",
    "le.fit([\"Entire home/apt\", \"Private room\"])"
   ]
  },
  {
   "cell_type": "code",
   "execution_count": 22,
   "metadata": {},
   "outputs": [
    {
     "data": {
      "text/plain": [
       "['Entire home/apt', 'Private room']"
      ]
     },
     "execution_count": 22,
     "metadata": {},
     "output_type": "execute_result"
    }
   ],
   "source": [
    "list(le.classes_)"
   ]
  },
  {
   "cell_type": "code",
   "execution_count": 23,
   "metadata": {},
   "outputs": [
    {
     "data": {
      "text/plain": [
       "array([0, 1])"
      ]
     },
     "execution_count": 23,
     "metadata": {},
     "output_type": "execute_result"
    }
   ],
   "source": [
    "le.transform([\"Entire home/apt\", \"Private room\"])"
   ]
  },
  {
   "cell_type": "code",
   "execution_count": 24,
   "metadata": {},
   "outputs": [
    {
     "data": {
      "text/plain": [
       "['Entire home/apt', 'Private room']"
      ]
     },
     "execution_count": 24,
     "metadata": {},
     "output_type": "execute_result"
    }
   ],
   "source": [
    "list(le.inverse_transform([0, 1]))"
   ]
  },
  {
   "cell_type": "code",
   "execution_count": null,
   "metadata": {},
   "outputs": [],
   "source": []
  },
  {
   "cell_type": "code",
   "execution_count": 25,
   "metadata": {},
   "outputs": [
    {
     "data": {
      "text/html": [
       "<div>\n",
       "<style scoped>\n",
       "    .dataframe tbody tr th:only-of-type {\n",
       "        vertical-align: middle;\n",
       "    }\n",
       "\n",
       "    .dataframe tbody tr th {\n",
       "        vertical-align: top;\n",
       "    }\n",
       "\n",
       "    .dataframe thead th {\n",
       "        text-align: right;\n",
       "    }\n",
       "</style>\n",
       "<table border=\"1\" class=\"dataframe\">\n",
       "  <thead>\n",
       "    <tr style=\"text-align: right;\">\n",
       "      <th></th>\n",
       "      <th>Entire home/apt</th>\n",
       "      <th>Private room</th>\n",
       "      <th>Shared room</th>\n",
       "    </tr>\n",
       "  </thead>\n",
       "  <tbody>\n",
       "    <tr>\n",
       "      <th>0</th>\n",
       "      <td>1</td>\n",
       "      <td>0</td>\n",
       "      <td>0</td>\n",
       "    </tr>\n",
       "    <tr>\n",
       "      <th>1</th>\n",
       "      <td>1</td>\n",
       "      <td>0</td>\n",
       "      <td>0</td>\n",
       "    </tr>\n",
       "    <tr>\n",
       "      <th>2</th>\n",
       "      <td>1</td>\n",
       "      <td>0</td>\n",
       "      <td>0</td>\n",
       "    </tr>\n",
       "    <tr>\n",
       "      <th>3</th>\n",
       "      <td>0</td>\n",
       "      <td>1</td>\n",
       "      <td>0</td>\n",
       "    </tr>\n",
       "    <tr>\n",
       "      <th>4</th>\n",
       "      <td>0</td>\n",
       "      <td>1</td>\n",
       "      <td>0</td>\n",
       "    </tr>\n",
       "  </tbody>\n",
       "</table>\n",
       "</div>"
      ],
      "text/plain": [
       "   Entire home/apt  Private room  Shared room\n",
       "0                1             0            0\n",
       "1                1             0            0\n",
       "2                1             0            0\n",
       "3                0             1            0\n",
       "4                0             1            0"
      ]
     },
     "execution_count": 25,
     "metadata": {},
     "output_type": "execute_result"
    }
   ],
   "source": [
    "roomtype_dummies = pd.get_dummies(seattle_dropped.room_type)\n",
    "roomtype_dummies.head()"
   ]
  },
  {
   "cell_type": "code",
   "execution_count": 26,
   "metadata": {},
   "outputs": [
    {
     "data": {
      "text/html": [
       "<div>\n",
       "<style scoped>\n",
       "    .dataframe tbody tr th:only-of-type {\n",
       "        vertical-align: middle;\n",
       "    }\n",
       "\n",
       "    .dataframe tbody tr th {\n",
       "        vertical-align: top;\n",
       "    }\n",
       "\n",
       "    .dataframe thead th {\n",
       "        text-align: right;\n",
       "    }\n",
       "</style>\n",
       "<table border=\"1\" class=\"dataframe\">\n",
       "  <thead>\n",
       "    <tr style=\"text-align: right;\">\n",
       "      <th></th>\n",
       "      <th>reviews</th>\n",
       "      <th>overall_satisfaction</th>\n",
       "      <th>accommodates</th>\n",
       "      <th>bedrooms</th>\n",
       "      <th>price</th>\n",
       "      <th>latitude</th>\n",
       "      <th>longitude</th>\n",
       "      <th>minimum_nights</th>\n",
       "      <th>availability_365</th>\n",
       "      <th>Entire home/apt</th>\n",
       "      <th>Private room</th>\n",
       "      <th>Shared room</th>\n",
       "    </tr>\n",
       "  </thead>\n",
       "  <tbody>\n",
       "    <tr>\n",
       "      <th>0</th>\n",
       "      <td>21</td>\n",
       "      <td>5.0</td>\n",
       "      <td>8</td>\n",
       "      <td>4.0</td>\n",
       "      <td>250</td>\n",
       "      <td>47.610819</td>\n",
       "      <td>-122.290816</td>\n",
       "      <td>4</td>\n",
       "      <td>335</td>\n",
       "      <td>1</td>\n",
       "      <td>0</td>\n",
       "      <td>0</td>\n",
       "    </tr>\n",
       "    <tr>\n",
       "      <th>1</th>\n",
       "      <td>462</td>\n",
       "      <td>5.0</td>\n",
       "      <td>2</td>\n",
       "      <td>0.0</td>\n",
       "      <td>49</td>\n",
       "      <td>47.523980</td>\n",
       "      <td>-122.359891</td>\n",
       "      <td>3</td>\n",
       "      <td>0</td>\n",
       "      <td>1</td>\n",
       "      <td>0</td>\n",
       "      <td>0</td>\n",
       "    </tr>\n",
       "    <tr>\n",
       "      <th>2</th>\n",
       "      <td>134</td>\n",
       "      <td>4.5</td>\n",
       "      <td>2</td>\n",
       "      <td>1.0</td>\n",
       "      <td>90</td>\n",
       "      <td>47.654109</td>\n",
       "      <td>-122.337605</td>\n",
       "      <td>2</td>\n",
       "      <td>43</td>\n",
       "      <td>1</td>\n",
       "      <td>0</td>\n",
       "      <td>0</td>\n",
       "    </tr>\n",
       "    <tr>\n",
       "      <th>3</th>\n",
       "      <td>130</td>\n",
       "      <td>4.5</td>\n",
       "      <td>2</td>\n",
       "      <td>1.0</td>\n",
       "      <td>65</td>\n",
       "      <td>47.550167</td>\n",
       "      <td>-122.319366</td>\n",
       "      <td>2</td>\n",
       "      <td>356</td>\n",
       "      <td>0</td>\n",
       "      <td>1</td>\n",
       "      <td>0</td>\n",
       "    </tr>\n",
       "    <tr>\n",
       "      <th>4</th>\n",
       "      <td>401</td>\n",
       "      <td>5.0</td>\n",
       "      <td>2</td>\n",
       "      <td>1.0</td>\n",
       "      <td>78</td>\n",
       "      <td>47.608010</td>\n",
       "      <td>-122.328739</td>\n",
       "      <td>3</td>\n",
       "      <td>87</td>\n",
       "      <td>0</td>\n",
       "      <td>1</td>\n",
       "      <td>0</td>\n",
       "    </tr>\n",
       "  </tbody>\n",
       "</table>\n",
       "</div>"
      ],
      "text/plain": [
       "   reviews  overall_satisfaction  accommodates  bedrooms  price   latitude  \\\n",
       "0       21                   5.0             8       4.0    250  47.610819   \n",
       "1      462                   5.0             2       0.0     49  47.523980   \n",
       "2      134                   4.5             2       1.0     90  47.654109   \n",
       "3      130                   4.5             2       1.0     65  47.550167   \n",
       "4      401                   5.0             2       1.0     78  47.608010   \n",
       "\n",
       "    longitude  minimum_nights  availability_365  Entire home/apt  \\\n",
       "0 -122.290816               4               335                1   \n",
       "1 -122.359891               3                 0                1   \n",
       "2 -122.337605               2                43                1   \n",
       "3 -122.319366               2               356                0   \n",
       "4 -122.328739               3                87                0   \n",
       "\n",
       "   Private room  Shared room  \n",
       "0             0            0  \n",
       "1             0            0  \n",
       "2             0            0  \n",
       "3             1            0  \n",
       "4             1            0  "
      ]
     },
     "execution_count": 26,
     "metadata": {},
     "output_type": "execute_result"
    }
   ],
   "source": [
    "#seattle[\"Entire home/apt\"] = roomtype_dummies[\"Entire home/apt\"]\n",
    "#seattle[\"Private room\"] = roomtype_dummies[\"Private room\"]\n",
    "#seattle[\"Shared Room\"] = roomtype_dummies[\"Shared room\"]\n",
    "\n",
    "#result = pd.concat([df1, df4], axis=1, sort=False)\n",
    "seattle_dropped = seattle_dropped.drop([\"room_type\"], axis = 1)\n",
    "seattle_roomtype = pd.concat([seattle_dropped, roomtype_dummies], axis = 1, sort = False)\n",
    "seattle_roomtype.head()"
   ]
  },
  {
   "cell_type": "code",
   "execution_count": 27,
   "metadata": {},
   "outputs": [],
   "source": [
    "X = X.drop(\"room_type\", axis = 1);"
   ]
  },
  {
   "cell_type": "code",
   "execution_count": 28,
   "metadata": {},
   "outputs": [
    {
     "data": {
      "text/plain": [
       "LinearRegression(copy_X=True, fit_intercept=True, n_jobs=None,\n",
       "         normalize=False)"
      ]
     },
     "execution_count": 28,
     "metadata": {},
     "output_type": "execute_result"
    }
   ],
   "source": [
    "lm.fit(X, seattle_roomtype.price)"
   ]
  },
  {
   "cell_type": "code",
   "execution_count": 29,
   "metadata": {},
   "outputs": [
    {
     "name": "stdout",
     "output_type": "stream",
     "text": [
      "Estimated intercept coefficient: -25680.18771108338\n"
     ]
    }
   ],
   "source": [
    "print('Estimated intercept coefficient: {}'.format(lm.intercept_))"
   ]
  },
  {
   "cell_type": "code",
   "execution_count": 30,
   "metadata": {},
   "outputs": [
    {
     "name": "stdout",
     "output_type": "stream",
     "text": [
      "Number of coefficients: 8\n"
     ]
    }
   ],
   "source": [
    "print('Number of coefficients: {}'.format(len(lm.coef_)))"
   ]
  },
  {
   "cell_type": "code",
   "execution_count": 31,
   "metadata": {},
   "outputs": [
    {
     "data": {
      "text/html": [
       "<div>\n",
       "<style scoped>\n",
       "    .dataframe tbody tr th:only-of-type {\n",
       "        vertical-align: middle;\n",
       "    }\n",
       "\n",
       "    .dataframe tbody tr th {\n",
       "        vertical-align: top;\n",
       "    }\n",
       "\n",
       "    .dataframe thead th {\n",
       "        text-align: right;\n",
       "    }\n",
       "</style>\n",
       "<table border=\"1\" class=\"dataframe\">\n",
       "  <thead>\n",
       "    <tr style=\"text-align: right;\">\n",
       "      <th></th>\n",
       "      <th>features</th>\n",
       "      <th>estimatedCoefficients</th>\n",
       "    </tr>\n",
       "  </thead>\n",
       "  <tbody>\n",
       "    <tr>\n",
       "      <th>0</th>\n",
       "      <td>reviews</td>\n",
       "      <td>-0.112618</td>\n",
       "    </tr>\n",
       "    <tr>\n",
       "      <th>1</th>\n",
       "      <td>overall_satisfaction</td>\n",
       "      <td>-1.499238</td>\n",
       "    </tr>\n",
       "    <tr>\n",
       "      <th>2</th>\n",
       "      <td>accommodates</td>\n",
       "      <td>8.530509</td>\n",
       "    </tr>\n",
       "    <tr>\n",
       "      <th>3</th>\n",
       "      <td>bedrooms</td>\n",
       "      <td>34.849375</td>\n",
       "    </tr>\n",
       "    <tr>\n",
       "      <th>4</th>\n",
       "      <td>latitude</td>\n",
       "      <td>25.956038</td>\n",
       "    </tr>\n",
       "    <tr>\n",
       "      <th>5</th>\n",
       "      <td>longitude</td>\n",
       "      <td>-200.103741</td>\n",
       "    </tr>\n",
       "    <tr>\n",
       "      <th>6</th>\n",
       "      <td>minimum_nights</td>\n",
       "      <td>0.075465</td>\n",
       "    </tr>\n",
       "    <tr>\n",
       "      <th>7</th>\n",
       "      <td>availability_365</td>\n",
       "      <td>0.051849</td>\n",
       "    </tr>\n",
       "  </tbody>\n",
       "</table>\n",
       "</div>"
      ],
      "text/plain": [
       "               features  estimatedCoefficients\n",
       "0               reviews              -0.112618\n",
       "1  overall_satisfaction              -1.499238\n",
       "2          accommodates               8.530509\n",
       "3              bedrooms              34.849375\n",
       "4              latitude              25.956038\n",
       "5             longitude            -200.103741\n",
       "6        minimum_nights               0.075465\n",
       "7      availability_365               0.051849"
      ]
     },
     "execution_count": 31,
     "metadata": {},
     "output_type": "execute_result"
    }
   ],
   "source": [
    "pd.DataFrame({'features': X.columns, 'estimatedCoefficients': lm.coef_})[['features', 'estimatedCoefficients']]"
   ]
  },
  {
   "cell_type": "code",
   "execution_count": 32,
   "metadata": {},
   "outputs": [
    {
     "data": {
      "text/plain": [
       "array([241.90209605,  -4.21974205,  69.39005643,  79.72178428,\n",
       "        37.95767056])"
      ]
     },
     "execution_count": 32,
     "metadata": {},
     "output_type": "execute_result"
    }
   ],
   "source": [
    "lm.predict(X)[0:5]"
   ]
  },
  {
   "cell_type": "code",
   "execution_count": 33,
   "metadata": {},
   "outputs": [
    {
     "data": {
      "text/plain": [
       "Text(0.5, 0, 'Predicted prices')"
      ]
     },
     "execution_count": 33,
     "metadata": {},
     "output_type": "execute_result"
    },
    {
     "data": {
      "image/png": "[encoded data removed]",
      "text/plain": [
       "<Figure size 432x288 with 1 Axes>"
      ]
     },
     "metadata": {
      "needs_background": "light"
     },
     "output_type": "display_data"
    }
   ],
   "source": [
    "plt.hist(lm.predict(X), bins = 30)\n",
    "plt.xlabel(\"Predicted prices\")"
   ]
  },
  {
   "cell_type": "code",
   "execution_count": 34,
   "metadata": {},
   "outputs": [],
   "source": [
    "#deicsion trees"
   ]
  },
  {
   "cell_type": "code",
   "execution_count": 35,
   "metadata": {},
   "outputs": [],
   "source": [
    "from sklearn.tree import DecisionTreeClassifier\n",
    "from sklearn.model_selection import train_test_split\n",
    "from sklearn import metrics"
   ]
  },
  {
   "cell_type": "code",
   "execution_count": 36,
   "metadata": {},
   "outputs": [
    {
     "data": {
      "text/html": [
       "<div>\n",
       "<style scoped>\n",
       "    .dataframe tbody tr th:only-of-type {\n",
       "        vertical-align: middle;\n",
       "    }\n",
       "\n",
       "    .dataframe tbody tr th {\n",
       "        vertical-align: top;\n",
       "    }\n",
       "\n",
       "    .dataframe thead th {\n",
       "        text-align: right;\n",
       "    }\n",
       "</style>\n",
       "<table border=\"1\" class=\"dataframe\">\n",
       "  <thead>\n",
       "    <tr style=\"text-align: right;\">\n",
       "      <th></th>\n",
       "      <th>reviews</th>\n",
       "      <th>overall_satisfaction</th>\n",
       "      <th>accommodates</th>\n",
       "      <th>bedrooms</th>\n",
       "      <th>price</th>\n",
       "      <th>latitude</th>\n",
       "      <th>longitude</th>\n",
       "      <th>minimum_nights</th>\n",
       "      <th>availability_365</th>\n",
       "      <th>Entire home/apt</th>\n",
       "      <th>Private room</th>\n",
       "      <th>Shared room</th>\n",
       "    </tr>\n",
       "  </thead>\n",
       "  <tbody>\n",
       "    <tr>\n",
       "      <th>0</th>\n",
       "      <td>21</td>\n",
       "      <td>5.0</td>\n",
       "      <td>8</td>\n",
       "      <td>4.0</td>\n",
       "      <td>250</td>\n",
       "      <td>47.610819</td>\n",
       "      <td>-122.290816</td>\n",
       "      <td>4</td>\n",
       "      <td>335</td>\n",
       "      <td>1</td>\n",
       "      <td>0</td>\n",
       "      <td>0</td>\n",
       "    </tr>\n",
       "    <tr>\n",
       "      <th>1</th>\n",
       "      <td>462</td>\n",
       "      <td>5.0</td>\n",
       "      <td>2</td>\n",
       "      <td>0.0</td>\n",
       "      <td>49</td>\n",
       "      <td>47.523980</td>\n",
       "      <td>-122.359891</td>\n",
       "      <td>3</td>\n",
       "      <td>0</td>\n",
       "      <td>1</td>\n",
       "      <td>0</td>\n",
       "      <td>0</td>\n",
       "    </tr>\n",
       "    <tr>\n",
       "      <th>2</th>\n",
       "      <td>134</td>\n",
       "      <td>4.5</td>\n",
       "      <td>2</td>\n",
       "      <td>1.0</td>\n",
       "      <td>90</td>\n",
       "      <td>47.654109</td>\n",
       "      <td>-122.337605</td>\n",
       "      <td>2</td>\n",
       "      <td>43</td>\n",
       "      <td>1</td>\n",
       "      <td>0</td>\n",
       "      <td>0</td>\n",
       "    </tr>\n",
       "    <tr>\n",
       "      <th>3</th>\n",
       "      <td>130</td>\n",
       "      <td>4.5</td>\n",
       "      <td>2</td>\n",
       "      <td>1.0</td>\n",
       "      <td>65</td>\n",
       "      <td>47.550167</td>\n",
       "      <td>-122.319366</td>\n",
       "      <td>2</td>\n",
       "      <td>356</td>\n",
       "      <td>0</td>\n",
       "      <td>1</td>\n",
       "      <td>0</td>\n",
       "    </tr>\n",
       "    <tr>\n",
       "      <th>4</th>\n",
       "      <td>401</td>\n",
       "      <td>5.0</td>\n",
       "      <td>2</td>\n",
       "      <td>1.0</td>\n",
       "      <td>78</td>\n",
       "      <td>47.608010</td>\n",
       "      <td>-122.328739</td>\n",
       "      <td>3</td>\n",
       "      <td>87</td>\n",
       "      <td>0</td>\n",
       "      <td>1</td>\n",
       "      <td>0</td>\n",
       "    </tr>\n",
       "  </tbody>\n",
       "</table>\n",
       "</div>"
      ],
      "text/plain": [
       "   reviews  overall_satisfaction  accommodates  bedrooms  price   latitude  \\\n",
       "0       21                   5.0             8       4.0    250  47.610819   \n",
       "1      462                   5.0             2       0.0     49  47.523980   \n",
       "2      134                   4.5             2       1.0     90  47.654109   \n",
       "3      130                   4.5             2       1.0     65  47.550167   \n",
       "4      401                   5.0             2       1.0     78  47.608010   \n",
       "\n",
       "    longitude  minimum_nights  availability_365  Entire home/apt  \\\n",
       "0 -122.290816               4               335                1   \n",
       "1 -122.359891               3                 0                1   \n",
       "2 -122.337605               2                43                1   \n",
       "3 -122.319366               2               356                0   \n",
       "4 -122.328739               3                87                0   \n",
       "\n",
       "   Private room  Shared room  \n",
       "0             0            0  \n",
       "1             0            0  \n",
       "2             0            0  \n",
       "3             1            0  \n",
       "4             1            0  "
      ]
     },
     "execution_count": 36,
     "metadata": {},
     "output_type": "execute_result"
    }
   ],
   "source": [
    "seattle_roomtype.head()"
   ]
  },
  {
   "cell_type": "code",
   "execution_count": 37,
   "metadata": {},
   "outputs": [],
   "source": [
    "feature_cols = [\"reviews\", \"overall_satisfaction\", \"accommodates\", \"bedrooms\",\"latitude\", \"longitude\", \n",
    "                \"minimum_nights\", \"availability_365\", \"Entire home/apt\", \"Private room\", \"Shared room\"]\n",
    "X = seattle_roomtype[feature_cols]\n",
    "y = seattle_dropped.price\n",
    "\n"
   ]
  },
  {
   "cell_type": "code",
   "execution_count": 50,
   "metadata": {},
   "outputs": [],
   "source": [
    "X_train, X_test, y_train, y_test = train_test_split(X, y, test_size = 0.3, random_state = 1)"
   ]
  },
  {
   "cell_type": "code",
   "execution_count": 39,
   "metadata": {},
   "outputs": [],
   "source": [
    "clf = DecisionTreeClassifier()\n",
    "clf = clf.fit(X_train, y_train)\n",
    "y_pred = clf.predict(X_test)"
   ]
  },
  {
   "cell_type": "code",
   "execution_count": 40,
   "metadata": {},
   "outputs": [
    {
     "name": "stdout",
     "output_type": "stream",
     "text": [
      "Accuracy:  0.09351620947630923\n"
     ]
    }
   ],
   "source": [
    "print(\"Accuracy: \", metrics.accuracy_score(y_test, y_pred))"
   ]
  },
  {
   "cell_type": "code",
   "execution_count": 42,
   "metadata": {},
   "outputs": [],
   "source": [
    "#Decision Tree Regressor\n",
    "from sklearn.tree import DecisionTreeRegressor\n",
    "from sklearn.model_selection import cross_val_score"
   ]
  },
  {
   "cell_type": "code",
   "execution_count": 46,
   "metadata": {},
   "outputs": [
    {
     "data": {
      "text/plain": [
       "array([-0.22441872, -0.191213  ,  0.09307443,  0.11621587,  0.21809151,\n",
       "        0.0470143 , -0.65604648, -0.79458351, -0.75184045, -1.37505906])"
      ]
     },
     "execution_count": 46,
     "metadata": {},
     "output_type": "execute_result"
    }
   ],
   "source": [
    "regressor = DecisionTreeRegressor(random_state=0)\n",
    "cross_val_score(regressor, X, y, cv=10)"
   ]
  },
  {
   "cell_type": "code",
   "execution_count": 51,
   "metadata": {},
   "outputs": [
    {
     "data": {
      "text/plain": [
       "9364.424563591023"
      ]
     },
     "execution_count": 51,
     "metadata": {},
     "output_type": "execute_result"
    }
   ],
   "source": [
    "from sklearn.metrics import mean_squared_error\n",
    "mean_squared_error(y_test, y_pred)\n",
    "#what do i put in for the mse? it's a pretty high number return"
   ]
  },
  {
   "cell_type": "code",
   "execution_count": null,
   "metadata": {},
   "outputs": [],
   "source": []
  }
 ],
 "metadata": {
  "kernelspec": {
   "display_name": "Python 3",
   "language": "python",
   "name": "python3"
  },
  "language_info": {
   "codemirror_mode": {
    "name": "ipython",
    "version": 3
   },
   "file_extension": ".py",
   "mimetype": "text/x-python",
   "name": "python",
   "nbconvert_exporter": "python",
   "pygments_lexer": "ipython3",
   "version": "3.7.3"
  }
 },
 "nbformat": 4,
 "nbformat_minor": 2
}
