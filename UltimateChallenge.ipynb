{
 "cells": [
  {
   "cell_type": "code",
   "execution_count": 350,
   "metadata": {},
   "outputs": [],
   "source": [
    "import json\n",
    "import csv\n",
    "import pandas as pd\n",
    "import numpy as np\n",
    "import seaborn as sns\n",
    "import matplotlib.pyplot as plt"
   ]
  },
  {
   "cell_type": "code",
   "execution_count": 351,
   "metadata": {},
   "outputs": [],
   "source": [
    "filename = 'ultimate_data_challenge.json'\n",
    "with open(filename) as data_file:\n",
    "    data = pd.DataFrame(json.load(data_file))\n",
    "    \n",
    "logins_filename = 'logins.json'\n",
    "with open(logins_filename) as data_file:\n",
    "    logins = pd.DataFrame(json.load(data_file))"
   ]
  },
  {
   "cell_type": "code",
   "execution_count": 352,
   "metadata": {},
   "outputs": [
    {
     "data": {
      "text/html": [
       "<div>\n",
       "<style scoped>\n",
       "    .dataframe tbody tr th:only-of-type {\n",
       "        vertical-align: middle;\n",
       "    }\n",
       "\n",
       "    .dataframe tbody tr th {\n",
       "        vertical-align: top;\n",
       "    }\n",
       "\n",
       "    .dataframe thead th {\n",
       "        text-align: right;\n",
       "    }\n",
       "</style>\n",
       "<table border=\"1\" class=\"dataframe\">\n",
       "  <thead>\n",
       "    <tr style=\"text-align: right;\">\n",
       "      <th></th>\n",
       "      <th>login_time</th>\n",
       "    </tr>\n",
       "  </thead>\n",
       "  <tbody>\n",
       "    <tr>\n",
       "      <th>0</th>\n",
       "      <td>1970-01-01 20:13:18</td>\n",
       "    </tr>\n",
       "    <tr>\n",
       "      <th>1</th>\n",
       "      <td>1970-01-01 20:16:10</td>\n",
       "    </tr>\n",
       "    <tr>\n",
       "      <th>2</th>\n",
       "      <td>1970-01-01 20:16:37</td>\n",
       "    </tr>\n",
       "    <tr>\n",
       "      <th>3</th>\n",
       "      <td>1970-01-01 20:16:36</td>\n",
       "    </tr>\n",
       "    <tr>\n",
       "      <th>4</th>\n",
       "      <td>1970-01-01 20:26:21</td>\n",
       "    </tr>\n",
       "  </tbody>\n",
       "</table>\n",
       "</div>"
      ],
      "text/plain": [
       "            login_time\n",
       "0  1970-01-01 20:13:18\n",
       "1  1970-01-01 20:16:10\n",
       "2  1970-01-01 20:16:37\n",
       "3  1970-01-01 20:16:36\n",
       "4  1970-01-01 20:26:21"
      ]
     },
     "execution_count": 352,
     "metadata": {},
     "output_type": "execute_result"
    }
   ],
   "source": [
    "logins.head()"
   ]
  },
  {
   "cell_type": "code",
   "execution_count": 353,
   "metadata": {},
   "outputs": [
    {
     "data": {
      "text/html": [
       "<div>\n",
       "<style scoped>\n",
       "    .dataframe tbody tr th:only-of-type {\n",
       "        vertical-align: middle;\n",
       "    }\n",
       "\n",
       "    .dataframe tbody tr th {\n",
       "        vertical-align: top;\n",
       "    }\n",
       "\n",
       "    .dataframe thead th {\n",
       "        text-align: right;\n",
       "    }\n",
       "</style>\n",
       "<table border=\"1\" class=\"dataframe\">\n",
       "  <thead>\n",
       "    <tr style=\"text-align: right;\">\n",
       "      <th></th>\n",
       "      <th>avg_dist</th>\n",
       "      <th>avg_rating_by_driver</th>\n",
       "      <th>avg_rating_of_driver</th>\n",
       "      <th>avg_surge</th>\n",
       "      <th>city</th>\n",
       "      <th>last_trip_date</th>\n",
       "      <th>phone</th>\n",
       "      <th>signup_date</th>\n",
       "      <th>surge_pct</th>\n",
       "      <th>trips_in_first_30_days</th>\n",
       "      <th>ultimate_black_user</th>\n",
       "      <th>weekday_pct</th>\n",
       "    </tr>\n",
       "  </thead>\n",
       "  <tbody>\n",
       "    <tr>\n",
       "      <th>0</th>\n",
       "      <td>3.67</td>\n",
       "      <td>5.0</td>\n",
       "      <td>4.7</td>\n",
       "      <td>1.10</td>\n",
       "      <td>King's Landing</td>\n",
       "      <td>2014-06-17</td>\n",
       "      <td>iPhone</td>\n",
       "      <td>2014-01-25</td>\n",
       "      <td>15.4</td>\n",
       "      <td>4</td>\n",
       "      <td>True</td>\n",
       "      <td>46.2</td>\n",
       "    </tr>\n",
       "    <tr>\n",
       "      <th>1</th>\n",
       "      <td>8.26</td>\n",
       "      <td>5.0</td>\n",
       "      <td>5.0</td>\n",
       "      <td>1.00</td>\n",
       "      <td>Astapor</td>\n",
       "      <td>2014-05-05</td>\n",
       "      <td>Android</td>\n",
       "      <td>2014-01-29</td>\n",
       "      <td>0.0</td>\n",
       "      <td>0</td>\n",
       "      <td>False</td>\n",
       "      <td>50.0</td>\n",
       "    </tr>\n",
       "    <tr>\n",
       "      <th>2</th>\n",
       "      <td>0.77</td>\n",
       "      <td>5.0</td>\n",
       "      <td>4.3</td>\n",
       "      <td>1.00</td>\n",
       "      <td>Astapor</td>\n",
       "      <td>2014-01-07</td>\n",
       "      <td>iPhone</td>\n",
       "      <td>2014-01-06</td>\n",
       "      <td>0.0</td>\n",
       "      <td>3</td>\n",
       "      <td>False</td>\n",
       "      <td>100.0</td>\n",
       "    </tr>\n",
       "    <tr>\n",
       "      <th>3</th>\n",
       "      <td>2.36</td>\n",
       "      <td>4.9</td>\n",
       "      <td>4.6</td>\n",
       "      <td>1.14</td>\n",
       "      <td>King's Landing</td>\n",
       "      <td>2014-06-29</td>\n",
       "      <td>iPhone</td>\n",
       "      <td>2014-01-10</td>\n",
       "      <td>20.0</td>\n",
       "      <td>9</td>\n",
       "      <td>True</td>\n",
       "      <td>80.0</td>\n",
       "    </tr>\n",
       "    <tr>\n",
       "      <th>4</th>\n",
       "      <td>3.13</td>\n",
       "      <td>4.9</td>\n",
       "      <td>4.4</td>\n",
       "      <td>1.19</td>\n",
       "      <td>Winterfell</td>\n",
       "      <td>2014-03-15</td>\n",
       "      <td>Android</td>\n",
       "      <td>2014-01-27</td>\n",
       "      <td>11.8</td>\n",
       "      <td>14</td>\n",
       "      <td>False</td>\n",
       "      <td>82.4</td>\n",
       "    </tr>\n",
       "  </tbody>\n",
       "</table>\n",
       "</div>"
      ],
      "text/plain": [
       "   avg_dist  avg_rating_by_driver  avg_rating_of_driver  avg_surge  \\\n",
       "0      3.67                   5.0                   4.7       1.10   \n",
       "1      8.26                   5.0                   5.0       1.00   \n",
       "2      0.77                   5.0                   4.3       1.00   \n",
       "3      2.36                   4.9                   4.6       1.14   \n",
       "4      3.13                   4.9                   4.4       1.19   \n",
       "\n",
       "             city last_trip_date    phone signup_date  surge_pct  \\\n",
       "0  King's Landing     2014-06-17   iPhone  2014-01-25       15.4   \n",
       "1         Astapor     2014-05-05  Android  2014-01-29        0.0   \n",
       "2         Astapor     2014-01-07   iPhone  2014-01-06        0.0   \n",
       "3  King's Landing     2014-06-29   iPhone  2014-01-10       20.0   \n",
       "4      Winterfell     2014-03-15  Android  2014-01-27       11.8   \n",
       "\n",
       "   trips_in_first_30_days  ultimate_black_user  weekday_pct  \n",
       "0                       4                 True         46.2  \n",
       "1                       0                False         50.0  \n",
       "2                       3                False        100.0  \n",
       "3                       9                 True         80.0  \n",
       "4                      14                False         82.4  "
      ]
     },
     "execution_count": 353,
     "metadata": {},
     "output_type": "execute_result"
    }
   ],
   "source": [
    "data.head()"
   ]
  },
  {
   "cell_type": "code",
   "execution_count": 354,
   "metadata": {},
   "outputs": [
    {
     "data": {
      "text/plain": [
       "avg_dist                     0\n",
       "avg_rating_by_driver       201\n",
       "avg_rating_of_driver      8122\n",
       "avg_surge                    0\n",
       "city                         0\n",
       "last_trip_date               0\n",
       "phone                      396\n",
       "signup_date                  0\n",
       "surge_pct                    0\n",
       "trips_in_first_30_days       0\n",
       "ultimate_black_user          0\n",
       "weekday_pct                  0\n",
       "dtype: int64"
      ]
     },
     "execution_count": 354,
     "metadata": {},
     "output_type": "execute_result"
    }
   ],
   "source": [
    "data.isnull().sum()"
   ]
  },
  {
   "cell_type": "code",
   "execution_count": 355,
   "metadata": {},
   "outputs": [
    {
     "data": {
      "text/plain": [
       "login_time    0\n",
       "dtype: int64"
      ]
     },
     "execution_count": 355,
     "metadata": {},
     "output_type": "execute_result"
    }
   ],
   "source": [
    "logins.isnull().sum()"
   ]
  },
  {
   "cell_type": "code",
   "execution_count": 356,
   "metadata": {},
   "outputs": [
    {
     "data": {
      "text/plain": [
       "50000"
      ]
     },
     "execution_count": 356,
     "metadata": {},
     "output_type": "execute_result"
    }
   ],
   "source": [
    "len(data)"
   ]
  },
  {
   "cell_type": "code",
   "execution_count": 357,
   "metadata": {},
   "outputs": [
    {
     "data": {
      "text/plain": [
       "4.778158195947439"
      ]
     },
     "execution_count": 357,
     "metadata": {},
     "output_type": "execute_result"
    }
   ],
   "source": [
    "avg_by_driver = np.mean(data['avg_rating_by_driver'])\n",
    "avg_by_driver"
   ]
  },
  {
   "cell_type": "code",
   "execution_count": 358,
   "metadata": {},
   "outputs": [
    {
     "name": "stdout",
     "output_type": "stream",
     "text": [
      "avg_dist                     0\n",
      "avg_rating_by_driver         0\n",
      "avg_rating_of_driver      8122\n",
      "avg_surge                    0\n",
      "city                         0\n",
      "last_trip_date               0\n",
      "phone                      396\n",
      "signup_date                  0\n",
      "surge_pct                    0\n",
      "trips_in_first_30_days       0\n",
      "ultimate_black_user          0\n",
      "weekday_pct                  0\n",
      "dtype: int64\n"
     ]
    }
   ],
   "source": [
    "data['avg_rating_by_driver']= data['avg_rating_by_driver'].fillna(int(avg_by_driver))\n",
    "print(data.isnull().sum())"
   ]
  },
  {
   "cell_type": "code",
   "execution_count": 359,
   "metadata": {},
   "outputs": [
    {
     "data": {
      "text/plain": [
       "4.77502999999973"
      ]
     },
     "execution_count": 359,
     "metadata": {},
     "output_type": "execute_result"
    }
   ],
   "source": [
    "avg_of_driver = np.mean(data['avg_rating_by_driver'])\n",
    "avg_of_driver"
   ]
  },
  {
   "cell_type": "code",
   "execution_count": 360,
   "metadata": {},
   "outputs": [
    {
     "name": "stdout",
     "output_type": "stream",
     "text": [
      "avg_dist                    0\n",
      "avg_rating_by_driver        0\n",
      "avg_rating_of_driver        0\n",
      "avg_surge                   0\n",
      "city                        0\n",
      "last_trip_date              0\n",
      "phone                     396\n",
      "signup_date                 0\n",
      "surge_pct                   0\n",
      "trips_in_first_30_days      0\n",
      "ultimate_black_user         0\n",
      "weekday_pct                 0\n",
      "dtype: int64\n"
     ]
    }
   ],
   "source": [
    "data['avg_rating_of_driver']= data['avg_rating_of_driver'].fillna(int(avg_of_driver))\n",
    "print(data.isnull().sum())"
   ]
  },
  {
   "cell_type": "code",
   "execution_count": 361,
   "metadata": {},
   "outputs": [
    {
     "name": "stdout",
     "output_type": "stream",
     "text": [
      "avg_dist                  0\n",
      "avg_rating_by_driver      0\n",
      "avg_rating_of_driver      0\n",
      "avg_surge                 0\n",
      "city                      0\n",
      "last_trip_date            0\n",
      "phone                     0\n",
      "signup_date               0\n",
      "surge_pct                 0\n",
      "trips_in_first_30_days    0\n",
      "ultimate_black_user       0\n",
      "weekday_pct               0\n",
      "dtype: int64\n"
     ]
    }
   ],
   "source": [
    "data['phone'] = data['phone'].fillna('Other')\n",
    "print(data.isnull().sum())"
   ]
  },
  {
   "cell_type": "code",
   "execution_count": null,
   "metadata": {},
   "outputs": [],
   "source": []
  },
  {
   "cell_type": "code",
   "execution_count": 362,
   "metadata": {},
   "outputs": [
    {
     "data": {
      "text/plain": [
       "49999    Astapor\n",
       "13706    Astapor\n",
       "13705    Astapor\n",
       "33004    Astapor\n",
       "33009    Astapor\n",
       "Name: city, dtype: object"
      ]
     },
     "execution_count": 362,
     "metadata": {},
     "output_type": "execute_result"
    }
   ],
   "source": [
    "sorted_cities = data['city'].sort_values()\n",
    "sorted_cities.head()"
   ]
  },
  {
   "cell_type": "code",
   "execution_count": 363,
   "metadata": {},
   "outputs": [],
   "source": [
    "cities_counted = sorted_cities.value_counts()\n",
    "cities_counted = cities_counted.rename_axis(\"city\").reset_index(name = \"count\")"
   ]
  },
  {
   "cell_type": "code",
   "execution_count": 364,
   "metadata": {},
   "outputs": [
    {
     "data": {
      "text/plain": [
       "<BarContainer object of 3 artists>"
      ]
     },
     "execution_count": 364,
     "metadata": {},
     "output_type": "execute_result"
    },
    {
     "data": {
      "image/png": "[encoded data removed]",
      "text/plain": [
       "<Figure size 360x360 with 1 Axes>"
      ]
     },
     "metadata": {},
     "output_type": "display_data"
    }
   ],
   "source": [
    "x = list(cities_counted['city'])\n",
    "y = list(cities_counted['count'])\n",
    "\n",
    "plt.figure(figsize = (5,5))\n",
    "plt.bar(x,y)"
   ]
  },
  {
   "cell_type": "code",
   "execution_count": 365,
   "metadata": {},
   "outputs": [],
   "source": [
    "logins_filename = 'logins.json'\n",
    "with open(logins_filename) as data_file:\n",
    "    logins = pd.DataFrame(json.load(data_file))"
   ]
  },
  {
   "cell_type": "code",
   "execution_count": 366,
   "metadata": {},
   "outputs": [],
   "source": [
    "logins['login_time'] = pd.to_datetime(logins['login_time'])\n",
    "logins.index = logins['login_time']\n",
    "logins['count'] = 1"
   ]
  },
  {
   "cell_type": "code",
   "execution_count": 367,
   "metadata": {},
   "outputs": [],
   "source": [
    "logins_15 = pd.DataFrame(logins['count'].resample('15Min').sum())"
   ]
  },
  {
   "cell_type": "code",
   "execution_count": 368,
   "metadata": {},
   "outputs": [
    {
     "data": {
      "text/html": [
       "<div>\n",
       "<style scoped>\n",
       "    .dataframe tbody tr th:only-of-type {\n",
       "        vertical-align: middle;\n",
       "    }\n",
       "\n",
       "    .dataframe tbody tr th {\n",
       "        vertical-align: top;\n",
       "    }\n",
       "\n",
       "    .dataframe thead th {\n",
       "        text-align: right;\n",
       "    }\n",
       "</style>\n",
       "<table border=\"1\" class=\"dataframe\">\n",
       "  <thead>\n",
       "    <tr style=\"text-align: right;\">\n",
       "      <th></th>\n",
       "      <th>count</th>\n",
       "    </tr>\n",
       "    <tr>\n",
       "      <th>login_time</th>\n",
       "      <th></th>\n",
       "    </tr>\n",
       "  </thead>\n",
       "  <tbody>\n",
       "    <tr>\n",
       "      <th>1970-01-01 20:00:00</th>\n",
       "      <td>2</td>\n",
       "    </tr>\n",
       "    <tr>\n",
       "      <th>1970-01-01 20:15:00</th>\n",
       "      <td>6</td>\n",
       "    </tr>\n",
       "    <tr>\n",
       "      <th>1970-01-01 20:30:00</th>\n",
       "      <td>9</td>\n",
       "    </tr>\n",
       "    <tr>\n",
       "      <th>1970-01-01 20:45:00</th>\n",
       "      <td>7</td>\n",
       "    </tr>\n",
       "    <tr>\n",
       "      <th>1970-01-01 21:00:00</th>\n",
       "      <td>1</td>\n",
       "    </tr>\n",
       "  </tbody>\n",
       "</table>\n",
       "</div>"
      ],
      "text/plain": [
       "                     count\n",
       "login_time                \n",
       "1970-01-01 20:00:00      2\n",
       "1970-01-01 20:15:00      6\n",
       "1970-01-01 20:30:00      9\n",
       "1970-01-01 20:45:00      7\n",
       "1970-01-01 21:00:00      1"
      ]
     },
     "execution_count": 368,
     "metadata": {},
     "output_type": "execute_result"
    }
   ],
   "source": [
    "logins_15.head()"
   ]
  },
  {
   "cell_type": "code",
   "execution_count": 369,
   "metadata": {},
   "outputs": [
    {
     "data": {
      "text/plain": [
       "<matplotlib.axes._subplots.AxesSubplot at 0x1a6f19d1d0>"
      ]
     },
     "execution_count": 369,
     "metadata": {},
     "output_type": "execute_result"
    },
    {
     "data": {
      "image/png": "[encoded data removed]",
      "text/plain": [
       "<Figure size 432x288 with 1 Axes>"
      ]
     },
     "metadata": {},
     "output_type": "display_data"
    }
   ],
   "source": [
    "logins_15.plot(kind = \"line\")"
   ]
  },
  {
   "cell_type": "markdown",
   "metadata": {},
   "source": [
    "1. What would you choose as the key measure of success of this experiment in encouraging driver partners to serve both cities, and why would you choose this metric?\n",
    "        A key measure of success of this experienment is the increase of numbers used during the day or night. If both cities get more traffic during the day and the night, then you'd be able to tell if the vheicles have started using the toll bridge.\n",
    "\n",
    "2. Describe a practical experiment you would design to compare the effectiveness of the proposed change in relation to the key measure of success. Please provide details on:\n",
    "    a. how you will implement the experiment\n",
    "        The experiment I'd probably look into is through some statistical methods such frequentist inference which would allow me to find the frequency in which cars are used in both cities during the day and the night.\n",
    "    b. what statistical test(s) you will conduct to verify the significance of the observation\n",
    "        I'd use A/B testing to verify the singificance. This is so I can compare before and affer to see if there was any significant change in how much each city is being used before and after they implement the toll compensation.\n",
    "    c. how you would interpret the results and provide recommendations to the city operations team along with any caveats.\n",
    "        If there is a difference, then I think it would also be fair to see if the total amount of use increases as well. If it doesn't, then toll price isn't a factor in how much people use the service. But if there is some siginificant difference then it would be wise to keep the toll compensation in place. One thing though is I think that the amount people travel from one city to another will be better tellers of whether or not it was significant. That way before and after you can see if people were more willing to travel between cities and see that people are partnerned between."
   ]
  },
  {
   "cell_type": "markdown",
   "metadata": {},
   "source": [
    "Question 3"
   ]
  },
  {
   "cell_type": "markdown",
   "metadata": {},
   "source": [
    "Question 1: perform exploratory analysis on the retained users."
   ]
  },
  {
   "cell_type": "code",
   "execution_count": 370,
   "metadata": {},
   "outputs": [
    {
     "data": {
      "text/plain": [
       "24999    0\n",
       "24518    0\n",
       "24515    0\n",
       "24505    0\n",
       "24503    0\n",
       "Name: trips_in_first_30_days, dtype: int64"
      ]
     },
     "execution_count": 370,
     "metadata": {},
     "output_type": "execute_result"
    }
   ],
   "source": [
    "month_trips = data['trips_in_first_30_days'].sort_values()\n",
    "month_trips.head()"
   ]
  },
  {
   "cell_type": "code",
   "execution_count": 371,
   "metadata": {},
   "outputs": [],
   "source": [
    "number_of_days = month_trips.value_counts()\n",
    "number_of_days = number_of_days.rename_axis(\"trips_in_first_30_days\").reset_index(name = \"count_month\")"
   ]
  },
  {
   "cell_type": "code",
   "execution_count": 372,
   "metadata": {},
   "outputs": [
    {
     "data": {
      "text/plain": [
       "<BarContainer object of 59 artists>"
      ]
     },
     "execution_count": 372,
     "metadata": {},
     "output_type": "execute_result"
    },
    {
     "data": {
      "image/png": "[encoded data removed]",
      "text/plain": [
       "<Figure size 720x360 with 1 Axes>"
      ]
     },
     "metadata": {},
     "output_type": "display_data"
    }
   ],
   "source": [
    "xm = list(number_of_days['trips_in_first_30_days'])\n",
    "ym = list(number_of_days['count_month'])\n",
    "\n",
    "plt.figure(figsize = (10,5))\n",
    "plt.bar(xm, ym, alpha=0.5)"
   ]
  },
  {
   "cell_type": "code",
   "execution_count": 373,
   "metadata": {},
   "outputs": [],
   "source": [
    "#if the date sign up + 30 is earlier than the last date they used it, then they weren't retained after 30 days"
   ]
  },
  {
   "cell_type": "code",
   "execution_count": 374,
   "metadata": {},
   "outputs": [],
   "source": [
    "data['signup_date'] = pd.to_datetime(data['signup_date'])"
   ]
  },
  {
   "cell_type": "code",
   "execution_count": 375,
   "metadata": {},
   "outputs": [],
   "source": [
    "data['last_trip_date'] = pd.to_datetime(data['last_trip_date'])"
   ]
  },
  {
   "cell_type": "code",
   "execution_count": 376,
   "metadata": {},
   "outputs": [
    {
     "data": {
      "text/html": [
       "<div>\n",
       "<style scoped>\n",
       "    .dataframe tbody tr th:only-of-type {\n",
       "        vertical-align: middle;\n",
       "    }\n",
       "\n",
       "    .dataframe tbody tr th {\n",
       "        vertical-align: top;\n",
       "    }\n",
       "\n",
       "    .dataframe thead th {\n",
       "        text-align: right;\n",
       "    }\n",
       "</style>\n",
       "<table border=\"1\" class=\"dataframe\">\n",
       "  <thead>\n",
       "    <tr style=\"text-align: right;\">\n",
       "      <th></th>\n",
       "      <th>avg_dist</th>\n",
       "      <th>avg_rating_by_driver</th>\n",
       "      <th>avg_rating_of_driver</th>\n",
       "      <th>avg_surge</th>\n",
       "      <th>city</th>\n",
       "      <th>last_trip_date</th>\n",
       "      <th>phone</th>\n",
       "      <th>signup_date</th>\n",
       "      <th>surge_pct</th>\n",
       "      <th>trips_in_first_30_days</th>\n",
       "      <th>ultimate_black_user</th>\n",
       "      <th>weekday_pct</th>\n",
       "      <th>signup_date_30</th>\n",
       "    </tr>\n",
       "  </thead>\n",
       "  <tbody>\n",
       "    <tr>\n",
       "      <th>0</th>\n",
       "      <td>3.67</td>\n",
       "      <td>5.0</td>\n",
       "      <td>4.7</td>\n",
       "      <td>1.10</td>\n",
       "      <td>King's Landing</td>\n",
       "      <td>2014-06-17</td>\n",
       "      <td>iPhone</td>\n",
       "      <td>2014-01-25</td>\n",
       "      <td>15.4</td>\n",
       "      <td>4</td>\n",
       "      <td>True</td>\n",
       "      <td>46.2</td>\n",
       "      <td>2014-02-24</td>\n",
       "    </tr>\n",
       "    <tr>\n",
       "      <th>1</th>\n",
       "      <td>8.26</td>\n",
       "      <td>5.0</td>\n",
       "      <td>5.0</td>\n",
       "      <td>1.00</td>\n",
       "      <td>Astapor</td>\n",
       "      <td>2014-05-05</td>\n",
       "      <td>Android</td>\n",
       "      <td>2014-01-29</td>\n",
       "      <td>0.0</td>\n",
       "      <td>0</td>\n",
       "      <td>False</td>\n",
       "      <td>50.0</td>\n",
       "      <td>2014-02-28</td>\n",
       "    </tr>\n",
       "    <tr>\n",
       "      <th>2</th>\n",
       "      <td>0.77</td>\n",
       "      <td>5.0</td>\n",
       "      <td>4.3</td>\n",
       "      <td>1.00</td>\n",
       "      <td>Astapor</td>\n",
       "      <td>2014-01-07</td>\n",
       "      <td>iPhone</td>\n",
       "      <td>2014-01-06</td>\n",
       "      <td>0.0</td>\n",
       "      <td>3</td>\n",
       "      <td>False</td>\n",
       "      <td>100.0</td>\n",
       "      <td>2014-02-05</td>\n",
       "    </tr>\n",
       "    <tr>\n",
       "      <th>3</th>\n",
       "      <td>2.36</td>\n",
       "      <td>4.9</td>\n",
       "      <td>4.6</td>\n",
       "      <td>1.14</td>\n",
       "      <td>King's Landing</td>\n",
       "      <td>2014-06-29</td>\n",
       "      <td>iPhone</td>\n",
       "      <td>2014-01-10</td>\n",
       "      <td>20.0</td>\n",
       "      <td>9</td>\n",
       "      <td>True</td>\n",
       "      <td>80.0</td>\n",
       "      <td>2014-02-09</td>\n",
       "    </tr>\n",
       "    <tr>\n",
       "      <th>4</th>\n",
       "      <td>3.13</td>\n",
       "      <td>4.9</td>\n",
       "      <td>4.4</td>\n",
       "      <td>1.19</td>\n",
       "      <td>Winterfell</td>\n",
       "      <td>2014-03-15</td>\n",
       "      <td>Android</td>\n",
       "      <td>2014-01-27</td>\n",
       "      <td>11.8</td>\n",
       "      <td>14</td>\n",
       "      <td>False</td>\n",
       "      <td>82.4</td>\n",
       "      <td>2014-02-26</td>\n",
       "    </tr>\n",
       "  </tbody>\n",
       "</table>\n",
       "</div>"
      ],
      "text/plain": [
       "   avg_dist  avg_rating_by_driver  avg_rating_of_driver  avg_surge  \\\n",
       "0      3.67                   5.0                   4.7       1.10   \n",
       "1      8.26                   5.0                   5.0       1.00   \n",
       "2      0.77                   5.0                   4.3       1.00   \n",
       "3      2.36                   4.9                   4.6       1.14   \n",
       "4      3.13                   4.9                   4.4       1.19   \n",
       "\n",
       "             city last_trip_date    phone signup_date  surge_pct  \\\n",
       "0  King's Landing     2014-06-17   iPhone  2014-01-25       15.4   \n",
       "1         Astapor     2014-05-05  Android  2014-01-29        0.0   \n",
       "2         Astapor     2014-01-07   iPhone  2014-01-06        0.0   \n",
       "3  King's Landing     2014-06-29   iPhone  2014-01-10       20.0   \n",
       "4      Winterfell     2014-03-15  Android  2014-01-27       11.8   \n",
       "\n",
       "   trips_in_first_30_days  ultimate_black_user  weekday_pct signup_date_30  \n",
       "0                       4                 True         46.2     2014-02-24  \n",
       "1                       0                False         50.0     2014-02-28  \n",
       "2                       3                False        100.0     2014-02-05  \n",
       "3                       9                 True         80.0     2014-02-09  \n",
       "4                      14                False         82.4     2014-02-26  "
      ]
     },
     "execution_count": 376,
     "metadata": {},
     "output_type": "execute_result"
    }
   ],
   "source": [
    "from datetime import date, timedelta\n",
    "\n",
    "\n",
    "data[\"signup_date_30\"] = data[\"signup_date\"] + timedelta(days=30)\n",
    "data.head()"
   ]
  },
  {
   "cell_type": "code",
   "execution_count": 377,
   "metadata": {},
   "outputs": [],
   "source": [
    "data['signup_date_30'] = pd.to_datetime(data['signup_date_30'])"
   ]
  },
  {
   "cell_type": "code",
   "execution_count": null,
   "metadata": {},
   "outputs": [],
   "source": []
  },
  {
   "cell_type": "code",
   "execution_count": 378,
   "metadata": {},
   "outputs": [],
   "source": [
    "#retained meaning it was used after 30 days\n",
    "data['retained'] = \"\"\n",
    "\n",
    "data.retained = data['signup_date_30'] < data['last_trip_date']"
   ]
  },
  {
   "cell_type": "code",
   "execution_count": 379,
   "metadata": {},
   "outputs": [
    {
     "data": {
      "text/html": [
       "<div>\n",
       "<style scoped>\n",
       "    .dataframe tbody tr th:only-of-type {\n",
       "        vertical-align: middle;\n",
       "    }\n",
       "\n",
       "    .dataframe tbody tr th {\n",
       "        vertical-align: top;\n",
       "    }\n",
       "\n",
       "    .dataframe thead th {\n",
       "        text-align: right;\n",
       "    }\n",
       "</style>\n",
       "<table border=\"1\" class=\"dataframe\">\n",
       "  <thead>\n",
       "    <tr style=\"text-align: right;\">\n",
       "      <th></th>\n",
       "      <th>avg_dist</th>\n",
       "      <th>avg_rating_by_driver</th>\n",
       "      <th>avg_rating_of_driver</th>\n",
       "      <th>avg_surge</th>\n",
       "      <th>city</th>\n",
       "      <th>last_trip_date</th>\n",
       "      <th>phone</th>\n",
       "      <th>signup_date</th>\n",
       "      <th>surge_pct</th>\n",
       "      <th>trips_in_first_30_days</th>\n",
       "      <th>ultimate_black_user</th>\n",
       "      <th>weekday_pct</th>\n",
       "      <th>signup_date_30</th>\n",
       "      <th>retained</th>\n",
       "    </tr>\n",
       "  </thead>\n",
       "  <tbody>\n",
       "    <tr>\n",
       "      <th>0</th>\n",
       "      <td>3.67</td>\n",
       "      <td>5.0</td>\n",
       "      <td>4.7</td>\n",
       "      <td>1.10</td>\n",
       "      <td>King's Landing</td>\n",
       "      <td>2014-06-17</td>\n",
       "      <td>iPhone</td>\n",
       "      <td>2014-01-25</td>\n",
       "      <td>15.4</td>\n",
       "      <td>4</td>\n",
       "      <td>True</td>\n",
       "      <td>46.2</td>\n",
       "      <td>2014-02-24</td>\n",
       "      <td>True</td>\n",
       "    </tr>\n",
       "    <tr>\n",
       "      <th>1</th>\n",
       "      <td>8.26</td>\n",
       "      <td>5.0</td>\n",
       "      <td>5.0</td>\n",
       "      <td>1.00</td>\n",
       "      <td>Astapor</td>\n",
       "      <td>2014-05-05</td>\n",
       "      <td>Android</td>\n",
       "      <td>2014-01-29</td>\n",
       "      <td>0.0</td>\n",
       "      <td>0</td>\n",
       "      <td>False</td>\n",
       "      <td>50.0</td>\n",
       "      <td>2014-02-28</td>\n",
       "      <td>True</td>\n",
       "    </tr>\n",
       "    <tr>\n",
       "      <th>2</th>\n",
       "      <td>0.77</td>\n",
       "      <td>5.0</td>\n",
       "      <td>4.3</td>\n",
       "      <td>1.00</td>\n",
       "      <td>Astapor</td>\n",
       "      <td>2014-01-07</td>\n",
       "      <td>iPhone</td>\n",
       "      <td>2014-01-06</td>\n",
       "      <td>0.0</td>\n",
       "      <td>3</td>\n",
       "      <td>False</td>\n",
       "      <td>100.0</td>\n",
       "      <td>2014-02-05</td>\n",
       "      <td>False</td>\n",
       "    </tr>\n",
       "    <tr>\n",
       "      <th>3</th>\n",
       "      <td>2.36</td>\n",
       "      <td>4.9</td>\n",
       "      <td>4.6</td>\n",
       "      <td>1.14</td>\n",
       "      <td>King's Landing</td>\n",
       "      <td>2014-06-29</td>\n",
       "      <td>iPhone</td>\n",
       "      <td>2014-01-10</td>\n",
       "      <td>20.0</td>\n",
       "      <td>9</td>\n",
       "      <td>True</td>\n",
       "      <td>80.0</td>\n",
       "      <td>2014-02-09</td>\n",
       "      <td>True</td>\n",
       "    </tr>\n",
       "    <tr>\n",
       "      <th>4</th>\n",
       "      <td>3.13</td>\n",
       "      <td>4.9</td>\n",
       "      <td>4.4</td>\n",
       "      <td>1.19</td>\n",
       "      <td>Winterfell</td>\n",
       "      <td>2014-03-15</td>\n",
       "      <td>Android</td>\n",
       "      <td>2014-01-27</td>\n",
       "      <td>11.8</td>\n",
       "      <td>14</td>\n",
       "      <td>False</td>\n",
       "      <td>82.4</td>\n",
       "      <td>2014-02-26</td>\n",
       "      <td>True</td>\n",
       "    </tr>\n",
       "  </tbody>\n",
       "</table>\n",
       "</div>"
      ],
      "text/plain": [
       "   avg_dist  avg_rating_by_driver  avg_rating_of_driver  avg_surge  \\\n",
       "0      3.67                   5.0                   4.7       1.10   \n",
       "1      8.26                   5.0                   5.0       1.00   \n",
       "2      0.77                   5.0                   4.3       1.00   \n",
       "3      2.36                   4.9                   4.6       1.14   \n",
       "4      3.13                   4.9                   4.4       1.19   \n",
       "\n",
       "             city last_trip_date    phone signup_date  surge_pct  \\\n",
       "0  King's Landing     2014-06-17   iPhone  2014-01-25       15.4   \n",
       "1         Astapor     2014-05-05  Android  2014-01-29        0.0   \n",
       "2         Astapor     2014-01-07   iPhone  2014-01-06        0.0   \n",
       "3  King's Landing     2014-06-29   iPhone  2014-01-10       20.0   \n",
       "4      Winterfell     2014-03-15  Android  2014-01-27       11.8   \n",
       "\n",
       "   trips_in_first_30_days  ultimate_black_user  weekday_pct signup_date_30  \\\n",
       "0                       4                 True         46.2     2014-02-24   \n",
       "1                       0                False         50.0     2014-02-28   \n",
       "2                       3                False        100.0     2014-02-05   \n",
       "3                       9                 True         80.0     2014-02-09   \n",
       "4                      14                False         82.4     2014-02-26   \n",
       "\n",
       "   retained  \n",
       "0      True  \n",
       "1      True  \n",
       "2     False  \n",
       "3      True  \n",
       "4      True  "
      ]
     },
     "execution_count": 379,
     "metadata": {},
     "output_type": "execute_result"
    }
   ],
   "source": [
    "data.head()"
   ]
  },
  {
   "cell_type": "code",
   "execution_count": 380,
   "metadata": {},
   "outputs": [
    {
     "data": {
      "text/plain": [
       "<matplotlib.axes._subplots.AxesSubplot at 0x1a7263d6a0>"
      ]
     },
     "execution_count": 380,
     "metadata": {},
     "output_type": "execute_result"
    },
    {
     "data": {
      "image/png": "[encoded data removed]",
      "text/plain": [
       "<Figure size 432x288 with 1 Axes>"
      ]
     },
     "metadata": {},
     "output_type": "display_data"
    }
   ],
   "source": [
    "#count of true vs false. True is if the customer is retained. False if they have not been using it after 30 days\n",
    "data.retained.value_counts().plot(kind = \"bar\")"
   ]
  },
  {
   "cell_type": "code",
   "execution_count": null,
   "metadata": {},
   "outputs": [],
   "source": []
  },
  {
   "cell_type": "code",
   "execution_count": null,
   "metadata": {},
   "outputs": [],
   "source": []
  },
  {
   "cell_type": "code",
   "execution_count": 381,
   "metadata": {},
   "outputs": [],
   "source": [
    "#data.retained.plot()"
   ]
  },
  {
   "cell_type": "code",
   "execution_count": 382,
   "metadata": {},
   "outputs": [],
   "source": [
    "data_no_return = data.copy()\n",
    "data_return = data.copy()"
   ]
  },
  {
   "cell_type": "code",
   "execution_count": 383,
   "metadata": {},
   "outputs": [],
   "source": [
    "# Get names of indexes for which column Age has value 30\n",
    "indexNames = data_no_return[ data_no_return['trips_in_first_30_days'] != 0 ].index\n",
    " \n",
    "# Delete these row indexes from dataFrame\n",
    "data_no_return.drop(indexNames , inplace=True)"
   ]
  },
  {
   "cell_type": "code",
   "execution_count": null,
   "metadata": {},
   "outputs": [],
   "source": []
  },
  {
   "cell_type": "code",
   "execution_count": 384,
   "metadata": {},
   "outputs": [
    {
     "data": {
      "text/plain": [
       "15390"
      ]
     },
     "execution_count": 384,
     "metadata": {},
     "output_type": "execute_result"
    }
   ],
   "source": [
    "len(data_no_return)"
   ]
  },
  {
   "cell_type": "code",
   "execution_count": 385,
   "metadata": {},
   "outputs": [
    {
     "data": {
      "text/plain": [
       "34610"
      ]
     },
     "execution_count": 385,
     "metadata": {},
     "output_type": "execute_result"
    }
   ],
   "source": [
    "# Get names of indexes for which column Age has value 30\n",
    "indexNames = data_return[data_return['trips_in_first_30_days'] == 0 ].index\n",
    " \n",
    "# Delete these row indexes from dataFrame\n",
    "data_return.drop(indexNames , inplace=True)\n",
    "\n",
    "len(data_return)"
   ]
  },
  {
   "cell_type": "code",
   "execution_count": 386,
   "metadata": {},
   "outputs": [
    {
     "data": {
      "text/plain": [
       "<matplotlib.axes._subplots.AxesSubplot at 0x1a6e983fd0>"
      ]
     },
     "execution_count": 386,
     "metadata": {},
     "output_type": "execute_result"
    },
    {
     "data": {
      "image/png": "[encoded data removed]",
      "text/plain": [
       "<Figure size 432x288 with 1 Axes>"
      ]
     },
     "metadata": {},
     "output_type": "display_data"
    }
   ],
   "source": [
    "data_return.phone.value_counts().plot(kind = \"bar\")"
   ]
  },
  {
   "cell_type": "code",
   "execution_count": 387,
   "metadata": {},
   "outputs": [
    {
     "data": {
      "text/plain": [
       "<matplotlib.axes._subplots.AxesSubplot at 0x1a71a562e8>"
      ]
     },
     "execution_count": 387,
     "metadata": {},
     "output_type": "execute_result"
    },
    {
     "data": {
      "image/png": "[encoded data removed]",
      "text/plain": [
       "<Figure size 432x288 with 1 Axes>"
      ]
     },
     "metadata": {},
     "output_type": "display_data"
    }
   ],
   "source": [
    "data_no_return.phone.value_counts().plot(kind = \"bar\")"
   ]
  },
  {
   "cell_type": "code",
   "execution_count": 388,
   "metadata": {},
   "outputs": [
    {
     "name": "stdout",
     "output_type": "stream",
     "text": [
      "Average distance of people who have used it within 30 days:  5.529568043917937\n",
      "Average distance of people who have NOT used it within 30 days:  6.397854450942169\n"
     ]
    }
   ],
   "source": [
    "print(\"Average distance of people who have used it within 30 days: \", data_return['avg_dist'].mean())\n",
    "print(\"Average distance of people who have NOT used it within 30 days: \", data_no_return['avg_dist'].mean())"
   ]
  },
  {
   "cell_type": "code",
   "execution_count": 389,
   "metadata": {},
   "outputs": [
    {
     "name": "stdout",
     "output_type": "stream",
     "text": [
      "Avg rating of driver 30days:  4.5150707887892745\n",
      "Avg rating of driver NO 30days:  4.478589993502302\n"
     ]
    }
   ],
   "source": [
    "print(\"Avg rating of driver 30days: \", data_return['avg_rating_of_driver'].mean())\n",
    "print(\"Avg rating of driver NO 30days: \", data_no_return['avg_rating_of_driver'].mean())"
   ]
  },
  {
   "cell_type": "code",
   "execution_count": 411,
   "metadata": {},
   "outputs": [
    {
     "name": "stdout",
     "output_type": "stream",
     "text": [
      "Avg rating of customer 30days:  4.769988442646459\n",
      "Avg rating of customer NO 30days:  4.786367771280087\n"
     ]
    }
   ],
   "source": [
    "print(\"Avg rating of customer 30days: \", data_return['avg_rating_by_driver'].mean())\n",
    "print(\"Avg rating of customer NO 30days: \", data_no_return['avg_rating_by_driver'].mean())"
   ]
  },
  {
   "cell_type": "code",
   "execution_count": 390,
   "metadata": {},
   "outputs": [
    {
     "data": {
      "text/plain": [
       "<matplotlib.axes._subplots.AxesSubplot at 0x1a707da9b0>"
      ]
     },
     "execution_count": 390,
     "metadata": {},
     "output_type": "execute_result"
    },
    {
     "data": {
      "image/png": "[encoded data removed]",
      "text/plain": [
       "<Figure size 432x288 with 1 Axes>"
      ]
     },
     "metadata": {},
     "output_type": "display_data"
    }
   ],
   "source": [
    "data_no_return.ultimate_black_user.value_counts().plot(kind = \"bar\")"
   ]
  },
  {
   "cell_type": "code",
   "execution_count": 391,
   "metadata": {},
   "outputs": [
    {
     "data": {
      "text/plain": [
       "<matplotlib.axes._subplots.AxesSubplot at 0x1a6e7724e0>"
      ]
     },
     "execution_count": 391,
     "metadata": {},
     "output_type": "execute_result"
    },
    {
     "data": {
      "image/png": "[encoded data removed]",
      "text/plain": [
       "<Figure size 432x288 with 1 Axes>"
      ]
     },
     "metadata": {},
     "output_type": "display_data"
    }
   ],
   "source": [
    "data_return.ultimate_black_user.value_counts().plot(kind = \"bar\")"
   ]
  },
  {
   "cell_type": "code",
   "execution_count": 410,
   "metadata": {},
   "outputs": [
    {
     "data": {
      "text/plain": [
       "<matplotlib.axes._subplots.AxesSubplot at 0x1a729ad400>"
      ]
     },
     "execution_count": 410,
     "metadata": {},
     "output_type": "execute_result"
    },
    {
     "data": {
      "image/png": "[encoded data removed]",
      "text/plain": [
       "<Figure size 432x288 with 1 Axes>"
      ]
     },
     "metadata": {},
     "output_type": "display_data"
    }
   ],
   "source": [
    "ax = data_no_return.ultimate_black_user.value_counts().plot()\n",
    "data_return.ultimate_black_user.value_counts().plot(ax=ax)\n",
    "\n",
    "#that doesn't look right, disregard this one"
   ]
  },
  {
   "cell_type": "code",
   "execution_count": 392,
   "metadata": {},
   "outputs": [],
   "source": [
    "from sklearn.linear_model import LogisticRegression"
   ]
  },
  {
   "cell_type": "code",
   "execution_count": 393,
   "metadata": {},
   "outputs": [],
   "source": [
    "feature_col = [\"trips_in_first_30_days\", \"weekday_pct\"]\n",
    "\n",
    "X = data[feature_col]\n",
    "y = data.trips_in_first_30_days"
   ]
  },
  {
   "cell_type": "code",
   "execution_count": 394,
   "metadata": {},
   "outputs": [
    {
     "name": "stderr",
     "output_type": "stream",
     "text": [
      "/anaconda3/lib/python3.7/site-packages/sklearn/linear_model/logistic.py:433: FutureWarning: Default solver will be changed to 'lbfgs' in 0.22. Specify a solver to silence this warning.\n",
      "  FutureWarning)\n",
      "/anaconda3/lib/python3.7/site-packages/sklearn/linear_model/logistic.py:460: FutureWarning: Default multi_class will be changed to 'auto' in 0.22. Specify the multi_class option to silence this warning.\n",
      "  \"this warning.\", FutureWarning)\n"
     ]
    },
    {
     "data": {
      "text/plain": [
       "LogisticRegression(C=1.0, class_weight=None, dual=False, fit_intercept=True,\n",
       "          intercept_scaling=1, max_iter=100, multi_class='warn',\n",
       "          n_jobs=None, penalty='l2', random_state=None, solver='warn',\n",
       "          tol=0.0001, verbose=0, warm_start=False)"
      ]
     },
     "execution_count": 394,
     "metadata": {},
     "output_type": "execute_result"
    }
   ],
   "source": [
    "from sklearn import metrics\n",
    "from sklearn.model_selection import train_test_split\n",
    "\n",
    "X_train, X_test, y_train, y_test = train_test_split(X, y, test_size=0.3, random_state=42)\n",
    "lr = LogisticRegression()\n",
    "lr.fit(X_train, y_train)"
   ]
  },
  {
   "cell_type": "code",
   "execution_count": 395,
   "metadata": {},
   "outputs": [
    {
     "name": "stdout",
     "output_type": "stream",
     "text": [
      "Accuracy of logistic regression classifier on test set: 0.60\n"
     ]
    }
   ],
   "source": [
    "y_pred = lr.predict(X_test)\n",
    "print('Accuracy of logistic regression classifier on test set: {:.2f}'.format(lr.score(X_test, y_test)))"
   ]
  },
  {
   "cell_type": "code",
   "execution_count": 396,
   "metadata": {},
   "outputs": [
    {
     "name": "stdout",
     "output_type": "stream",
     "text": [
      "[[4662    0    0 ...    0    0    0]\n",
      " [   0 4278    0 ...    0    0    0]\n",
      " [   0 2201    0 ...    0    0    0]\n",
      " ...\n",
      " [   0    0    0 ...    0    0    0]\n",
      " [   0    0    0 ...    0    0    0]\n",
      " [   0    0    0 ...    0    0    0]]\n"
     ]
    }
   ],
   "source": [
    "from sklearn.metrics import confusion_matrix\n",
    "confusion_matrix = confusion_matrix(y_test, y_pred)\n",
    "print(confusion_matrix)"
   ]
  },
  {
   "cell_type": "code",
   "execution_count": 397,
   "metadata": {},
   "outputs": [],
   "source": [
    "#0+11094 are correct predictions\n",
    "#0+3906 are incorrect predictions"
   ]
  },
  {
   "cell_type": "code",
   "execution_count": null,
   "metadata": {},
   "outputs": [],
   "source": []
  },
  {
   "cell_type": "markdown",
   "metadata": {},
   "source": []
  },
  {
   "cell_type": "code",
   "execution_count": 399,
   "metadata": {},
   "outputs": [],
   "source": [
    "#predictions\n",
    "predictions = lr.predict(X_test)\n"
   ]
  },
  {
   "cell_type": "code",
   "execution_count": 400,
   "metadata": {},
   "outputs": [
    {
     "name": "stdout",
     "output_type": "stream",
     "text": [
      "              precision    recall  f1-score   support\n",
      "\n",
      "           0       1.00      1.00      1.00      4662\n",
      "           1       0.55      1.00      0.71      4278\n",
      "           2       0.00      0.00      0.00      2201\n",
      "           3       0.00      0.00      0.00      1131\n",
      "           4       0.00      0.00      0.00       711\n",
      "           5       0.00      0.00      0.00       463\n",
      "           6       0.00      0.00      0.00       342\n",
      "           7       0.00      0.00      0.00       239\n",
      "           8       0.00      0.00      0.00       189\n",
      "           9       0.00      0.00      0.00       141\n",
      "          10       0.00      0.00      0.00       101\n",
      "          11       0.00      0.00      0.00        85\n",
      "          12       0.00      0.00      0.00        55\n",
      "          13       0.00      0.00      0.00        50\n",
      "          14       0.00      0.00      0.00        40\n",
      "          15       0.00      0.00      0.00        56\n",
      "          16       0.00      0.00      0.00        42\n",
      "          17       0.00      0.00      0.00        36\n",
      "          18       0.00      0.00      0.00        24\n",
      "          19       0.00      0.00      0.00        21\n",
      "          20       0.00      0.00      0.00        17\n",
      "          21       0.00      0.00      0.00        14\n",
      "          22       0.00      0.00      0.00        14\n",
      "          23       0.00      0.00      0.00        11\n",
      "          24       0.00      0.00      0.00         9\n",
      "          25       0.00      0.00      0.00         8\n",
      "          26       0.00      0.00      0.00         5\n",
      "          27       0.00      0.00      0.00         7\n",
      "          28       0.00      0.00      0.00         4\n",
      "          29       0.00      0.00      0.00         4\n",
      "          30       0.00      0.00      0.00         7\n",
      "          31       0.00      0.00      0.00         2\n",
      "          32       0.00      0.00      0.00         2\n",
      "          33       0.00      0.00      0.00         4\n",
      "          34       0.00      0.00      0.00         4\n",
      "          35       0.00      0.00      0.00         2\n",
      "          37       0.00      0.00      0.00         4\n",
      "          38       0.00      0.00      0.00         1\n",
      "          40       0.00      0.00      0.00         2\n",
      "          43       0.00      0.00      0.00         4\n",
      "          44       0.00      0.00      0.00         2\n",
      "          48       0.00      0.00      0.00         2\n",
      "          55       0.00      0.00      0.00         1\n",
      "          56       0.00      0.00      0.00         1\n",
      "          63       0.00      0.00      0.00         1\n",
      "          71       0.00      0.00      0.00         1\n",
      "\n",
      "   micro avg       0.60      0.60      0.60     15000\n",
      "   macro avg       0.03      0.04      0.04     15000\n",
      "weighted avg       0.47      0.60      0.51     15000\n",
      "\n"
     ]
    },
    {
     "name": "stderr",
     "output_type": "stream",
     "text": [
      "/anaconda3/lib/python3.7/site-packages/sklearn/metrics/classification.py:1143: UndefinedMetricWarning: Precision and F-score are ill-defined and being set to 0.0 in labels with no predicted samples.\n",
      "  'precision', 'predicted', average, warn_for)\n",
      "/anaconda3/lib/python3.7/site-packages/sklearn/metrics/classification.py:1143: UndefinedMetricWarning: Precision and F-score are ill-defined and being set to 0.0 in labels with no predicted samples.\n",
      "  'precision', 'predicted', average, warn_for)\n",
      "/anaconda3/lib/python3.7/site-packages/sklearn/metrics/classification.py:1143: UndefinedMetricWarning: Precision and F-score are ill-defined and being set to 0.0 in labels with no predicted samples.\n",
      "  'precision', 'predicted', average, warn_for)\n"
     ]
    }
   ],
   "source": [
    "from sklearn.metrics import classification_report\n",
    "print(classification_report(y_test,predictions))"
   ]
  },
  {
   "cell_type": "markdown",
   "metadata": {},
   "source": [
    "Logistic model was fairly accurate to predict prices for the future. The accuracy was about 74 which means it was more likely than random chance that the model was correctly predicting whether or not users would be retained."
   ]
  },
  {
   "cell_type": "code",
   "execution_count": 412,
   "metadata": {},
   "outputs": [
    {
     "data": {
      "text/plain": [
       "Ttest_indResult(statistic=array([  0.        , 351.81974526]), pvalue=array([1., 0.]))"
      ]
     },
     "execution_count": 412,
     "metadata": {},
     "output_type": "execute_result"
    }
   ],
   "source": [
    "from scipy.stats import ttest_ind\n",
    "\n",
    "ttest_ind(X, y, equal_var=False)"
   ]
  },
  {
   "cell_type": "code",
   "execution_count": 413,
   "metadata": {},
   "outputs": [
    {
     "data": {
      "text/html": [
       "<div>\n",
       "<style scoped>\n",
       "    .dataframe tbody tr th:only-of-type {\n",
       "        vertical-align: middle;\n",
       "    }\n",
       "\n",
       "    .dataframe tbody tr th {\n",
       "        vertical-align: top;\n",
       "    }\n",
       "\n",
       "    .dataframe thead th {\n",
       "        text-align: right;\n",
       "    }\n",
       "</style>\n",
       "<table border=\"1\" class=\"dataframe\">\n",
       "  <thead>\n",
       "    <tr style=\"text-align: right;\">\n",
       "      <th></th>\n",
       "      <th>avg_dist</th>\n",
       "      <th>avg_rating_by_driver</th>\n",
       "      <th>avg_rating_of_driver</th>\n",
       "      <th>avg_surge</th>\n",
       "      <th>surge_pct</th>\n",
       "      <th>trips_in_first_30_days</th>\n",
       "      <th>ultimate_black_user</th>\n",
       "      <th>weekday_pct</th>\n",
       "      <th>retained</th>\n",
       "    </tr>\n",
       "  </thead>\n",
       "  <tbody>\n",
       "    <tr>\n",
       "      <th>avg_dist</th>\n",
       "      <td>1.000000</td>\n",
       "      <td>0.088906</td>\n",
       "      <td>-0.013471</td>\n",
       "      <td>-0.077098</td>\n",
       "      <td>-0.099673</td>\n",
       "      <td>-0.153418</td>\n",
       "      <td>0.018227</td>\n",
       "      <td>0.095186</td>\n",
       "      <td>-0.162731</td>\n",
       "    </tr>\n",
       "    <tr>\n",
       "      <th>avg_rating_by_driver</th>\n",
       "      <td>0.088906</td>\n",
       "      <td>1.000000</td>\n",
       "      <td>0.093614</td>\n",
       "      <td>0.012954</td>\n",
       "      <td>0.022766</td>\n",
       "      <td>-0.040309</td>\n",
       "      <td>0.020882</td>\n",
       "      <td>0.019245</td>\n",
       "      <td>-0.047364</td>\n",
       "    </tr>\n",
       "    <tr>\n",
       "      <th>avg_rating_of_driver</th>\n",
       "      <td>-0.013471</td>\n",
       "      <td>0.093614</td>\n",
       "      <td>1.000000</td>\n",
       "      <td>-0.021905</td>\n",
       "      <td>-0.001314</td>\n",
       "      <td>0.067006</td>\n",
       "      <td>0.009933</td>\n",
       "      <td>0.022213</td>\n",
       "      <td>0.061505</td>\n",
       "    </tr>\n",
       "    <tr>\n",
       "      <th>avg_surge</th>\n",
       "      <td>-0.077098</td>\n",
       "      <td>0.012954</td>\n",
       "      <td>-0.021905</td>\n",
       "      <td>1.000000</td>\n",
       "      <td>0.792811</td>\n",
       "      <td>-0.008119</td>\n",
       "      <td>-0.076317</td>\n",
       "      <td>-0.109399</td>\n",
       "      <td>-0.017806</td>\n",
       "    </tr>\n",
       "    <tr>\n",
       "      <th>surge_pct</th>\n",
       "      <td>-0.099673</td>\n",
       "      <td>0.022766</td>\n",
       "      <td>-0.001314</td>\n",
       "      <td>0.792811</td>\n",
       "      <td>1.000000</td>\n",
       "      <td>0.001677</td>\n",
       "      <td>-0.102020</td>\n",
       "      <td>-0.147898</td>\n",
       "      <td>-0.001906</td>\n",
       "    </tr>\n",
       "    <tr>\n",
       "      <th>trips_in_first_30_days</th>\n",
       "      <td>-0.153418</td>\n",
       "      <td>-0.040309</td>\n",
       "      <td>0.067006</td>\n",
       "      <td>-0.008119</td>\n",
       "      <td>0.001677</td>\n",
       "      <td>1.000000</td>\n",
       "      <td>0.126496</td>\n",
       "      <td>0.073690</td>\n",
       "      <td>0.260962</td>\n",
       "    </tr>\n",
       "    <tr>\n",
       "      <th>ultimate_black_user</th>\n",
       "      <td>0.018227</td>\n",
       "      <td>0.020882</td>\n",
       "      <td>0.009933</td>\n",
       "      <td>-0.076317</td>\n",
       "      <td>-0.102020</td>\n",
       "      <td>0.126496</td>\n",
       "      <td>1.000000</td>\n",
       "      <td>0.022996</td>\n",
       "      <td>0.159358</td>\n",
       "    </tr>\n",
       "    <tr>\n",
       "      <th>weekday_pct</th>\n",
       "      <td>0.095186</td>\n",
       "      <td>0.019245</td>\n",
       "      <td>0.022213</td>\n",
       "      <td>-0.109399</td>\n",
       "      <td>-0.147898</td>\n",
       "      <td>0.073690</td>\n",
       "      <td>0.022996</td>\n",
       "      <td>1.000000</td>\n",
       "      <td>0.024804</td>\n",
       "    </tr>\n",
       "    <tr>\n",
       "      <th>retained</th>\n",
       "      <td>-0.162731</td>\n",
       "      <td>-0.047364</td>\n",
       "      <td>0.061505</td>\n",
       "      <td>-0.017806</td>\n",
       "      <td>-0.001906</td>\n",
       "      <td>0.260962</td>\n",
       "      <td>0.159358</td>\n",
       "      <td>0.024804</td>\n",
       "      <td>1.000000</td>\n",
       "    </tr>\n",
       "  </tbody>\n",
       "</table>\n",
       "</div>"
      ],
      "text/plain": [
       "                        avg_dist  avg_rating_by_driver  avg_rating_of_driver  \\\n",
       "avg_dist                1.000000              0.088906             -0.013471   \n",
       "avg_rating_by_driver    0.088906              1.000000              0.093614   \n",
       "avg_rating_of_driver   -0.013471              0.093614              1.000000   \n",
       "avg_surge              -0.077098              0.012954             -0.021905   \n",
       "surge_pct              -0.099673              0.022766             -0.001314   \n",
       "trips_in_first_30_days -0.153418             -0.040309              0.067006   \n",
       "ultimate_black_user     0.018227              0.020882              0.009933   \n",
       "weekday_pct             0.095186              0.019245              0.022213   \n",
       "retained               -0.162731             -0.047364              0.061505   \n",
       "\n",
       "                        avg_surge  surge_pct  trips_in_first_30_days  \\\n",
       "avg_dist                -0.077098  -0.099673               -0.153418   \n",
       "avg_rating_by_driver     0.012954   0.022766               -0.040309   \n",
       "avg_rating_of_driver    -0.021905  -0.001314                0.067006   \n",
       "avg_surge                1.000000   0.792811               -0.008119   \n",
       "surge_pct                0.792811   1.000000                0.001677   \n",
       "trips_in_first_30_days  -0.008119   0.001677                1.000000   \n",
       "ultimate_black_user     -0.076317  -0.102020                0.126496   \n",
       "weekday_pct             -0.109399  -0.147898                0.073690   \n",
       "retained                -0.017806  -0.001906                0.260962   \n",
       "\n",
       "                        ultimate_black_user  weekday_pct  retained  \n",
       "avg_dist                           0.018227     0.095186 -0.162731  \n",
       "avg_rating_by_driver               0.020882     0.019245 -0.047364  \n",
       "avg_rating_of_driver               0.009933     0.022213  0.061505  \n",
       "avg_surge                         -0.076317    -0.109399 -0.017806  \n",
       "surge_pct                         -0.102020    -0.147898 -0.001906  \n",
       "trips_in_first_30_days             0.126496     0.073690  0.260962  \n",
       "ultimate_black_user                1.000000     0.022996  0.159358  \n",
       "weekday_pct                        0.022996     1.000000  0.024804  \n",
       "retained                           0.159358     0.024804  1.000000  "
      ]
     },
     "execution_count": 413,
     "metadata": {},
     "output_type": "execute_result"
    }
   ],
   "source": [
    "return_corr_pear = data_return.corr(method = 'pearson')\n",
    "return_corr_pear"
   ]
  },
  {
   "cell_type": "code",
   "execution_count": 414,
   "metadata": {},
   "outputs": [
    {
     "data": {
      "text/html": [
       "<div>\n",
       "<style scoped>\n",
       "    .dataframe tbody tr th:only-of-type {\n",
       "        vertical-align: middle;\n",
       "    }\n",
       "\n",
       "    .dataframe tbody tr th {\n",
       "        vertical-align: top;\n",
       "    }\n",
       "\n",
       "    .dataframe thead th {\n",
       "        text-align: right;\n",
       "    }\n",
       "</style>\n",
       "<table border=\"1\" class=\"dataframe\">\n",
       "  <thead>\n",
       "    <tr style=\"text-align: right;\">\n",
       "      <th></th>\n",
       "      <th>avg_dist</th>\n",
       "      <th>avg_rating_by_driver</th>\n",
       "      <th>avg_rating_of_driver</th>\n",
       "      <th>avg_surge</th>\n",
       "      <th>surge_pct</th>\n",
       "      <th>trips_in_first_30_days</th>\n",
       "      <th>ultimate_black_user</th>\n",
       "      <th>weekday_pct</th>\n",
       "      <th>retained</th>\n",
       "    </tr>\n",
       "  </thead>\n",
       "  <tbody>\n",
       "    <tr>\n",
       "      <th>avg_dist</th>\n",
       "      <td>1.000000</td>\n",
       "      <td>0.061044</td>\n",
       "      <td>-0.030788</td>\n",
       "      <td>-0.087601</td>\n",
       "      <td>-0.110632</td>\n",
       "      <td>NaN</td>\n",
       "      <td>0.067075</td>\n",
       "      <td>0.111141</td>\n",
       "      <td>NaN</td>\n",
       "    </tr>\n",
       "    <tr>\n",
       "      <th>avg_rating_by_driver</th>\n",
       "      <td>0.061044</td>\n",
       "      <td>1.000000</td>\n",
       "      <td>0.093810</td>\n",
       "      <td>-0.001089</td>\n",
       "      <td>0.009238</td>\n",
       "      <td>NaN</td>\n",
       "      <td>-0.002326</td>\n",
       "      <td>0.025326</td>\n",
       "      <td>NaN</td>\n",
       "    </tr>\n",
       "    <tr>\n",
       "      <th>avg_rating_of_driver</th>\n",
       "      <td>-0.030788</td>\n",
       "      <td>0.093810</td>\n",
       "      <td>1.000000</td>\n",
       "      <td>-0.024949</td>\n",
       "      <td>-0.000267</td>\n",
       "      <td>NaN</td>\n",
       "      <td>0.011993</td>\n",
       "      <td>0.016235</td>\n",
       "      <td>NaN</td>\n",
       "    </tr>\n",
       "    <tr>\n",
       "      <th>avg_surge</th>\n",
       "      <td>-0.087601</td>\n",
       "      <td>-0.001089</td>\n",
       "      <td>-0.024949</td>\n",
       "      <td>1.000000</td>\n",
       "      <td>0.795327</td>\n",
       "      <td>NaN</td>\n",
       "      <td>-0.085738</td>\n",
       "      <td>-0.111183</td>\n",
       "      <td>NaN</td>\n",
       "    </tr>\n",
       "    <tr>\n",
       "      <th>surge_pct</th>\n",
       "      <td>-0.110632</td>\n",
       "      <td>0.009238</td>\n",
       "      <td>-0.000267</td>\n",
       "      <td>0.795327</td>\n",
       "      <td>1.000000</td>\n",
       "      <td>NaN</td>\n",
       "      <td>-0.119022</td>\n",
       "      <td>-0.139863</td>\n",
       "      <td>NaN</td>\n",
       "    </tr>\n",
       "    <tr>\n",
       "      <th>trips_in_first_30_days</th>\n",
       "      <td>NaN</td>\n",
       "      <td>NaN</td>\n",
       "      <td>NaN</td>\n",
       "      <td>NaN</td>\n",
       "      <td>NaN</td>\n",
       "      <td>NaN</td>\n",
       "      <td>NaN</td>\n",
       "      <td>NaN</td>\n",
       "      <td>NaN</td>\n",
       "    </tr>\n",
       "    <tr>\n",
       "      <th>ultimate_black_user</th>\n",
       "      <td>0.067075</td>\n",
       "      <td>-0.002326</td>\n",
       "      <td>0.011993</td>\n",
       "      <td>-0.085738</td>\n",
       "      <td>-0.119022</td>\n",
       "      <td>NaN</td>\n",
       "      <td>1.000000</td>\n",
       "      <td>0.062607</td>\n",
       "      <td>NaN</td>\n",
       "    </tr>\n",
       "    <tr>\n",
       "      <th>weekday_pct</th>\n",
       "      <td>0.111141</td>\n",
       "      <td>0.025326</td>\n",
       "      <td>0.016235</td>\n",
       "      <td>-0.111183</td>\n",
       "      <td>-0.139863</td>\n",
       "      <td>NaN</td>\n",
       "      <td>0.062607</td>\n",
       "      <td>1.000000</td>\n",
       "      <td>NaN</td>\n",
       "    </tr>\n",
       "    <tr>\n",
       "      <th>retained</th>\n",
       "      <td>NaN</td>\n",
       "      <td>NaN</td>\n",
       "      <td>NaN</td>\n",
       "      <td>NaN</td>\n",
       "      <td>NaN</td>\n",
       "      <td>NaN</td>\n",
       "      <td>NaN</td>\n",
       "      <td>NaN</td>\n",
       "      <td>NaN</td>\n",
       "    </tr>\n",
       "  </tbody>\n",
       "</table>\n",
       "</div>"
      ],
      "text/plain": [
       "                        avg_dist  avg_rating_by_driver  avg_rating_of_driver  \\\n",
       "avg_dist                1.000000              0.061044             -0.030788   \n",
       "avg_rating_by_driver    0.061044              1.000000              0.093810   \n",
       "avg_rating_of_driver   -0.030788              0.093810              1.000000   \n",
       "avg_surge              -0.087601             -0.001089             -0.024949   \n",
       "surge_pct              -0.110632              0.009238             -0.000267   \n",
       "trips_in_first_30_days       NaN                   NaN                   NaN   \n",
       "ultimate_black_user     0.067075             -0.002326              0.011993   \n",
       "weekday_pct             0.111141              0.025326              0.016235   \n",
       "retained                     NaN                   NaN                   NaN   \n",
       "\n",
       "                        avg_surge  surge_pct  trips_in_first_30_days  \\\n",
       "avg_dist                -0.087601  -0.110632                     NaN   \n",
       "avg_rating_by_driver    -0.001089   0.009238                     NaN   \n",
       "avg_rating_of_driver    -0.024949  -0.000267                     NaN   \n",
       "avg_surge                1.000000   0.795327                     NaN   \n",
       "surge_pct                0.795327   1.000000                     NaN   \n",
       "trips_in_first_30_days        NaN        NaN                     NaN   \n",
       "ultimate_black_user     -0.085738  -0.119022                     NaN   \n",
       "weekday_pct             -0.111183  -0.139863                     NaN   \n",
       "retained                      NaN        NaN                     NaN   \n",
       "\n",
       "                        ultimate_black_user  weekday_pct  retained  \n",
       "avg_dist                           0.067075     0.111141       NaN  \n",
       "avg_rating_by_driver              -0.002326     0.025326       NaN  \n",
       "avg_rating_of_driver               0.011993     0.016235       NaN  \n",
       "avg_surge                         -0.085738    -0.111183       NaN  \n",
       "surge_pct                         -0.119022    -0.139863       NaN  \n",
       "trips_in_first_30_days                  NaN          NaN       NaN  \n",
       "ultimate_black_user                1.000000     0.062607       NaN  \n",
       "weekday_pct                        0.062607     1.000000       NaN  \n",
       "retained                                NaN          NaN       NaN  "
      ]
     },
     "execution_count": 414,
     "metadata": {},
     "output_type": "execute_result"
    }
   ],
   "source": [
    "no_return_corr_pear = data_no_return.corr(method = 'pearson')\n",
    "no_return_corr_pear"
   ]
  },
  {
   "cell_type": "markdown",
   "metadata": {},
   "source": [
    "you have trips in the first 30 days (b/c the sign up date continues to update)\n",
    "\n",
    "retained if they had at least had one trip the last 30 days.\n",
    "Just use the last 30 days lol. (logistic regression good for binary butttt\n",
    "\n",
    "..trips update feature columns, explore what the retained classes are then look to see groupings based on different variables. Like average distance between retained vs not retained users (4 or 5 charts)\n",
    "...if u want to use dates, might need to extract things from the dates (not the datetime ex. month)\n",
    "...type of phone\n",
    "...distance\n",
    "\n",
    "then predictive model: they're probably looking for more interpretation, what variables lead to higher retention rates. look at the statistical significance.\n",
    "\n"
   ]
  },
  {
   "cell_type": "code",
   "execution_count": null,
   "metadata": {},
   "outputs": [],
   "source": []
  },
  {
   "cell_type": "code",
   "execution_count": null,
   "metadata": {},
   "outputs": [],
   "source": []
  }
 ],
 "metadata": {
  "kernelspec": {
   "display_name": "Python 3",
   "language": "python",
   "name": "python3"
  },
  "language_info": {
   "codemirror_mode": {
    "name": "ipython",
    "version": 3
   },
   "file_extension": ".py",
   "mimetype": "text/x-python",
   "name": "python",
   "nbconvert_exporter": "python",
   "pygments_lexer": "ipython3",
   "version": "3.7.3"
  }
 },
 "nbformat": 4,
 "nbformat_minor": 2
}
